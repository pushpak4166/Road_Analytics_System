{
 "cells": [
  {
   "cell_type": "markdown",
   "metadata": {},
   "source": [
    "# Road Analytics "
   ]
  },
  {
   "cell_type": "code",
   "execution_count": 1,
   "metadata": {},
   "outputs": [],
   "source": [
    "from keras.models import Sequential\n",
    "from sklearn.model_selection import train_test_split\n",
    "from keras.layers.core import Dense,Dropout\n",
    "from keras.optimizers import Adam\n",
    "import numpy as np\n",
    "import matplotlib.pyplot as plt\n",
    "from keras.utils import to_categorical"
   ]
  },
  {
   "cell_type": "code",
   "execution_count": 2,
   "metadata": {},
   "outputs": [],
   "source": [
    "import pandas as pd"
   ]
  },
  {
   "cell_type": "code",
   "execution_count": 3,
   "metadata": {},
   "outputs": [],
   "source": [
    "data = np.loadtxt(\"dataset_preprocessed/dataset_2.csv\",delimiter=\",\")"
   ]
  },
  {
   "cell_type": "code",
   "execution_count": 4,
   "metadata": {
    "scrolled": false
   },
   "outputs": [
    {
     "data": {
      "text/plain": [
       "(2010, 4)"
      ]
     },
     "execution_count": 4,
     "metadata": {},
     "output_type": "execute_result"
    }
   ],
   "source": [
    "data.shape"
   ]
  },
  {
   "cell_type": "code",
   "execution_count": 5,
   "metadata": {},
   "outputs": [
    {
     "name": "stdout",
     "output_type": "stream",
     "text": [
      "(2010, 3)\n",
      "(2010,)\n"
     ]
    }
   ],
   "source": [
    "x = data[:,0:-1]\n",
    "y = data[:,-1]\n",
    "\n",
    "# Spliting dataset into train and test \n",
    "x_train,x_test,y_train,y_test = train_test_split(x,y,test_size=0.2,random_state=10)\n",
    "print(x.shape)\n",
    "print(y.shape)"
   ]
  },
  {
   "cell_type": "code",
   "execution_count": 6,
   "metadata": {},
   "outputs": [
    {
     "data": {
      "text/plain": [
       "3"
      ]
     },
     "execution_count": 6,
     "metadata": {},
     "output_type": "execute_result"
    }
   ],
   "source": [
    "x.shape[1]"
   ]
  },
  {
   "cell_type": "code",
   "execution_count": 7,
   "metadata": {},
   "outputs": [
    {
     "name": "stdout",
     "output_type": "stream",
     "text": [
      "(1608, 3)\n",
      "(402, 3)\n"
     ]
    }
   ],
   "source": [
    "print(x_train.shape)\n",
    "print(x_test.shape)"
   ]
  },
  {
   "cell_type": "code",
   "execution_count": 8,
   "metadata": {},
   "outputs": [
    {
     "name": "stdout",
     "output_type": "stream",
     "text": [
      "0 : 561\n",
      "1 : 599\n",
      "2 : 700\n"
     ]
    }
   ],
   "source": [
    "count=0 \n",
    "for i in y_train:\n",
    "    if (i==0) :\n",
    "        count=count+1\n",
    "print(\"0 :\",count)\n",
    "count=0 \n",
    "for i in y:\n",
    "    if (i==1) :\n",
    "        count=count+1\n",
    "print(\"1 :\",count)\n",
    "count=0 \n",
    "for i in y:\n",
    "    if (i==2) :\n",
    "        count=count+1\n",
    "print(\"2 :\",count)"
   ]
  },
  {
   "cell_type": "code",
   "execution_count": 9,
   "metadata": {},
   "outputs": [],
   "source": [
    "#Converting the labels into one hot encoding\n",
    "y_train = to_categorical(y_train, 3)\n",
    "y_test = to_categorical(y_test, 3)"
   ]
  },
  {
   "cell_type": "code",
   "execution_count": null,
   "metadata": {},
   "outputs": [],
   "source": []
  },
  {
   "cell_type": "code",
   "execution_count": 10,
   "metadata": {
    "scrolled": false
   },
   "outputs": [
    {
     "data": {
      "text/plain": [
       "array([[1., 0., 0.],\n",
       "       [0., 1., 0.],\n",
       "       [0., 0., 1.],\n",
       "       ...,\n",
       "       [1., 0., 0.],\n",
       "       [0., 1., 0.],\n",
       "       [0., 1., 0.]], dtype=float32)"
      ]
     },
     "execution_count": 10,
     "metadata": {},
     "output_type": "execute_result"
    }
   ],
   "source": [
    "y_train"
   ]
  },
  {
   "cell_type": "code",
   "execution_count": 11,
   "metadata": {
    "scrolled": true
   },
   "outputs": [
    {
     "data": {
      "text/plain": [
       "array([[0., 1., 0.],\n",
       "       [0., 0., 1.],\n",
       "       [0., 0., 1.],\n",
       "       ...,\n",
       "       [1., 0., 0.],\n",
       "       [0., 1., 0.],\n",
       "       [0., 0., 1.]], dtype=float32)"
      ]
     },
     "execution_count": 11,
     "metadata": {},
     "output_type": "execute_result"
    }
   ],
   "source": [
    "y_test"
   ]
  },
  {
   "cell_type": "markdown",
   "metadata": {},
   "source": [
    "# Creating the model"
   ]
  },
  {
   "cell_type": "code",
   "execution_count": 89,
   "metadata": {},
   "outputs": [],
   "source": [
    "model = Sequential()\n",
    "model.add(Dense(16,input_dim=x.shape[1],activation='relu'))\n",
    "model.add(Dropout(0.0))\n",
    "model.add(Dense(32,activation='relu'))\n",
    "model.add(Dropout(0.0))\n",
    "model.add(Dense(64,activation='relu'))\n",
    "model.add(Dropout(0.1))\n",
    "model.add(Dense(32,activation='relu'))\n",
    "model.add(Dropout(0.0))\n",
    "model.add(Dense(y_train.shape[1],activation='softmax'))"
   ]
  },
  {
   "cell_type": "markdown",
   "metadata": {},
   "source": [
    "# Compiling and Training the model "
   ]
  },
  {
   "cell_type": "code",
   "execution_count": 90,
   "metadata": {},
   "outputs": [],
   "source": [
    "from keras.callbacks import EarlyStopping, ModelCheckpoint, ReduceLROnPlateau\n"
   ]
  },
  {
   "cell_type": "code",
   "execution_count": 91,
   "metadata": {},
   "outputs": [
    {
     "name": "stdout",
     "output_type": "stream",
     "text": [
      "Epoch 1/100\n",
      "51/51 [==============================] - 0s 3ms/step - loss: 1.0797 - accuracy: 0.6001 - val_loss: 1.0289 - val_accuracy: 0.7090\n",
      "Epoch 2/100\n",
      "51/51 [==============================] - 0s 1ms/step - loss: 0.9376 - accuracy: 0.6729 - val_loss: 0.7868 - val_accuracy: 0.7687\n",
      "Epoch 3/100\n",
      "51/51 [==============================] - 0s 1ms/step - loss: 0.7317 - accuracy: 0.7195 - val_loss: 0.5852 - val_accuracy: 0.7861\n",
      "Epoch 4/100\n",
      "51/51 [==============================] - 0s 1ms/step - loss: 0.6207 - accuracy: 0.7494 - val_loss: 0.4895 - val_accuracy: 0.8532\n",
      "Epoch 5/100\n",
      "51/51 [==============================] - 0s 1ms/step - loss: 0.5743 - accuracy: 0.7581 - val_loss: 0.4582 - val_accuracy: 0.8682\n",
      "Epoch 6/100\n",
      "51/51 [==============================] - 0s 1ms/step - loss: 0.5317 - accuracy: 0.7910 - val_loss: 0.4138 - val_accuracy: 0.8756\n",
      "Epoch 7/100\n",
      "51/51 [==============================] - 0s 1ms/step - loss: 0.5113 - accuracy: 0.7948 - val_loss: 0.3940 - val_accuracy: 0.8806\n",
      "Epoch 8/100\n",
      "51/51 [==============================] - 0s 1ms/step - loss: 0.4798 - accuracy: 0.8047 - val_loss: 0.3718 - val_accuracy: 0.8806\n",
      "Epoch 9/100\n",
      "51/51 [==============================] - 0s 1ms/step - loss: 0.4543 - accuracy: 0.8085 - val_loss: 0.3652 - val_accuracy: 0.8856\n",
      "Epoch 10/100\n",
      "51/51 [==============================] - 0s 1ms/step - loss: 0.4346 - accuracy: 0.8215 - val_loss: 0.3484 - val_accuracy: 0.8706\n",
      "Epoch 11/100\n",
      "51/51 [==============================] - 0s 1ms/step - loss: 0.4129 - accuracy: 0.8296 - val_loss: 0.3022 - val_accuracy: 0.8980\n",
      "Epoch 12/100\n",
      "51/51 [==============================] - 0s 1ms/step - loss: 0.3941 - accuracy: 0.8308 - val_loss: 0.2833 - val_accuracy: 0.9030\n",
      "Epoch 13/100\n",
      "51/51 [==============================] - 0s 1ms/step - loss: 0.3588 - accuracy: 0.8433 - val_loss: 0.2647 - val_accuracy: 0.9030\n",
      "Epoch 14/100\n",
      "51/51 [==============================] - 0s 1ms/step - loss: 0.3429 - accuracy: 0.8551 - val_loss: 0.2479 - val_accuracy: 0.9055\n",
      "Epoch 15/100\n",
      "51/51 [==============================] - 0s 1ms/step - loss: 0.3270 - accuracy: 0.8657 - val_loss: 0.2362 - val_accuracy: 0.9055\n",
      "Epoch 16/100\n",
      "51/51 [==============================] - 0s 1ms/step - loss: 0.3201 - accuracy: 0.8607 - val_loss: 0.2271 - val_accuracy: 0.9080\n",
      "Epoch 17/100\n",
      "51/51 [==============================] - 0s 1ms/step - loss: 0.3151 - accuracy: 0.8601 - val_loss: 0.2234 - val_accuracy: 0.9055\n",
      "Epoch 18/100\n",
      "51/51 [==============================] - 0s 1ms/step - loss: 0.3028 - accuracy: 0.8700 - val_loss: 0.2137 - val_accuracy: 0.9204\n",
      "Epoch 19/100\n",
      "51/51 [==============================] - 0s 1ms/step - loss: 0.2796 - accuracy: 0.8794 - val_loss: 0.2005 - val_accuracy: 0.9229\n",
      "Epoch 20/100\n",
      "51/51 [==============================] - 0s 1ms/step - loss: 0.2723 - accuracy: 0.8856 - val_loss: 0.2004 - val_accuracy: 0.9303\n",
      "Epoch 21/100\n",
      "51/51 [==============================] - 0s 1ms/step - loss: 0.2700 - accuracy: 0.8893 - val_loss: 0.1994 - val_accuracy: 0.9328\n",
      "Epoch 22/100\n",
      "51/51 [==============================] - 0s 1ms/step - loss: 0.2579 - accuracy: 0.8949 - val_loss: 0.2065 - val_accuracy: 0.9229\n",
      "Epoch 23/100\n",
      "51/51 [==============================] - 0s 1ms/step - loss: 0.2521 - accuracy: 0.8968 - val_loss: 0.1801 - val_accuracy: 0.9328\n",
      "Epoch 24/100\n",
      "51/51 [==============================] - 0s 1ms/step - loss: 0.2487 - accuracy: 0.9005 - val_loss: 0.1886 - val_accuracy: 0.9328\n",
      "Epoch 25/100\n",
      "51/51 [==============================] - 0s 1ms/step - loss: 0.2441 - accuracy: 0.8986 - val_loss: 0.1697 - val_accuracy: 0.9353\n",
      "Epoch 26/100\n",
      "51/51 [==============================] - 0s 1ms/step - loss: 0.2412 - accuracy: 0.9067 - val_loss: 0.1731 - val_accuracy: 0.9353\n",
      "Epoch 27/100\n",
      "51/51 [==============================] - 0s 1ms/step - loss: 0.2392 - accuracy: 0.9123 - val_loss: 0.1752 - val_accuracy: 0.9353\n",
      "Epoch 28/100\n",
      "51/51 [==============================] - 0s 1ms/step - loss: 0.2281 - accuracy: 0.9086 - val_loss: 0.1651 - val_accuracy: 0.9403\n",
      "Epoch 29/100\n",
      "51/51 [==============================] - 0s 1ms/step - loss: 0.2246 - accuracy: 0.9067 - val_loss: 0.1575 - val_accuracy: 0.9378\n",
      "Epoch 30/100\n",
      "51/51 [==============================] - 0s 1ms/step - loss: 0.2210 - accuracy: 0.9142 - val_loss: 0.1556 - val_accuracy: 0.9353\n",
      "Epoch 31/100\n",
      "51/51 [==============================] - 0s 1ms/step - loss: 0.2132 - accuracy: 0.9167 - val_loss: 0.1556 - val_accuracy: 0.9378\n",
      "Epoch 32/100\n",
      "51/51 [==============================] - 0s 2ms/step - loss: 0.2161 - accuracy: 0.9160 - val_loss: 0.1471 - val_accuracy: 0.9403\n",
      "Epoch 33/100\n",
      "51/51 [==============================] - 0s 2ms/step - loss: 0.2047 - accuracy: 0.9223 - val_loss: 0.1650 - val_accuracy: 0.9403\n",
      "Epoch 34/100\n",
      "51/51 [==============================] - 0s 2ms/step - loss: 0.2117 - accuracy: 0.9154 - val_loss: 0.1642 - val_accuracy: 0.9353\n",
      "Epoch 35/100\n",
      "51/51 [==============================] - 0s 1ms/step - loss: 0.2046 - accuracy: 0.9198 - val_loss: 0.1428 - val_accuracy: 0.9453\n",
      "Epoch 36/100\n",
      "51/51 [==============================] - ETA: 0s - loss: 0.2487 - accuracy: 0.90 - ETA: 0s - loss: 0.2004 - accuracy: 0.92 - 0s 1ms/step - loss: 0.1977 - accuracy: 0.9272 - val_loss: 0.1511 - val_accuracy: 0.9353\n",
      "Epoch 37/100\n",
      "51/51 [==============================] - 0s 1ms/step - loss: 0.1980 - accuracy: 0.9291 - val_loss: 0.1421 - val_accuracy: 0.9403\n",
      "Epoch 38/100\n",
      "51/51 [==============================] - 0s 1ms/step - loss: 0.2002 - accuracy: 0.9223 - val_loss: 0.1343 - val_accuracy: 0.9502\n",
      "Epoch 39/100\n",
      "51/51 [==============================] - 0s 1ms/step - loss: 0.1872 - accuracy: 0.9322 - val_loss: 0.1409 - val_accuracy: 0.9453\n",
      "Epoch 40/100\n",
      "51/51 [==============================] - 0s 1ms/step - loss: 0.1890 - accuracy: 0.9154 - val_loss: 0.1371 - val_accuracy: 0.9502\n",
      "Epoch 41/100\n",
      "51/51 [==============================] - 0s 1ms/step - loss: 0.1902 - accuracy: 0.9266 - val_loss: 0.1302 - val_accuracy: 0.9527\n",
      "Epoch 42/100\n",
      "51/51 [==============================] - 0s 1ms/step - loss: 0.1824 - accuracy: 0.9322 - val_loss: 0.1301 - val_accuracy: 0.9453\n",
      "Epoch 43/100\n",
      "51/51 [==============================] - 0s 1ms/step - loss: 0.1840 - accuracy: 0.9366 - val_loss: 0.1331 - val_accuracy: 0.9478\n",
      "Epoch 44/100\n",
      "51/51 [==============================] - 0s 1ms/step - loss: 0.1870 - accuracy: 0.9341 - val_loss: 0.1308 - val_accuracy: 0.9502\n",
      "Epoch 45/100\n",
      "51/51 [==============================] - 0s 1ms/step - loss: 0.1792 - accuracy: 0.9322 - val_loss: 0.1282 - val_accuracy: 0.9552\n",
      "Epoch 46/100\n",
      "51/51 [==============================] - 0s 1ms/step - loss: 0.1910 - accuracy: 0.9260 - val_loss: 0.1332 - val_accuracy: 0.9428\n",
      "Epoch 47/100\n",
      "51/51 [==============================] - 0s 1ms/step - loss: 0.1775 - accuracy: 0.9359 - val_loss: 0.1259 - val_accuracy: 0.9502\n",
      "Epoch 48/100\n",
      "51/51 [==============================] - 0s 2ms/step - loss: 0.1797 - accuracy: 0.9303 - val_loss: 0.1348 - val_accuracy: 0.9353\n",
      "Epoch 49/100\n",
      "51/51 [==============================] - 0s 2ms/step - loss: 0.1872 - accuracy: 0.9285 - val_loss: 0.1327 - val_accuracy: 0.9353\n",
      "Epoch 50/100\n",
      "51/51 [==============================] - 0s 1ms/step - loss: 0.1835 - accuracy: 0.9359 - val_loss: 0.1405 - val_accuracy: 0.9353\n",
      "Epoch 51/100\n",
      "51/51 [==============================] - 0s 1ms/step - loss: 0.1808 - accuracy: 0.9316 - val_loss: 0.1384 - val_accuracy: 0.9353\n",
      "Epoch 52/100\n",
      "51/51 [==============================] - 0s 1ms/step - loss: 0.1715 - accuracy: 0.9328 - val_loss: 0.1217 - val_accuracy: 0.9552\n",
      "Epoch 53/100\n",
      "51/51 [==============================] - 0s 1ms/step - loss: 0.1649 - accuracy: 0.9378 - val_loss: 0.1203 - val_accuracy: 0.9527\n",
      "Epoch 54/100\n",
      "51/51 [==============================] - 0s 1ms/step - loss: 0.1763 - accuracy: 0.9303 - val_loss: 0.1258 - val_accuracy: 0.9552\n",
      "Epoch 55/100\n",
      "51/51 [==============================] - 0s 1ms/step - loss: 0.1641 - accuracy: 0.9372 - val_loss: 0.1225 - val_accuracy: 0.9577\n",
      "Epoch 56/100\n",
      "51/51 [==============================] - 0s 1ms/step - loss: 0.1680 - accuracy: 0.9384 - val_loss: 0.1202 - val_accuracy: 0.9552\n",
      "Epoch 57/100\n",
      "51/51 [==============================] - 0s 1ms/step - loss: 0.1675 - accuracy: 0.9347 - val_loss: 0.1225 - val_accuracy: 0.9478\n",
      "Epoch 58/100\n"
     ]
    },
    {
     "name": "stdout",
     "output_type": "stream",
     "text": [
      "51/51 [==============================] - 0s 2ms/step - loss: 0.1671 - accuracy: 0.9372 - val_loss: 0.1254 - val_accuracy: 0.9453\n",
      "Epoch 59/100\n",
      "51/51 [==============================] - 0s 2ms/step - loss: 0.1715 - accuracy: 0.9335 - val_loss: 0.1198 - val_accuracy: 0.9577\n",
      "Epoch 60/100\n",
      "51/51 [==============================] - 0s 1ms/step - loss: 0.1653 - accuracy: 0.9341 - val_loss: 0.1274 - val_accuracy: 0.9428\n",
      "Epoch 61/100\n",
      "51/51 [==============================] - 0s 1ms/step - loss: 0.1659 - accuracy: 0.9378 - val_loss: 0.1291 - val_accuracy: 0.9502\n",
      "Epoch 62/100\n",
      "51/51 [==============================] - 0s 1ms/step - loss: 0.1654 - accuracy: 0.9353 - val_loss: 0.1168 - val_accuracy: 0.9478\n",
      "Epoch 63/100\n",
      "51/51 [==============================] - 0s 1ms/step - loss: 0.1555 - accuracy: 0.9428 - val_loss: 0.1166 - val_accuracy: 0.9552\n",
      "Epoch 64/100\n",
      "51/51 [==============================] - 0s 1ms/step - loss: 0.1558 - accuracy: 0.9415 - val_loss: 0.1213 - val_accuracy: 0.9552\n",
      "Epoch 65/100\n",
      "51/51 [==============================] - 0s 2ms/step - loss: 0.1727 - accuracy: 0.9322 - val_loss: 0.1199 - val_accuracy: 0.9527\n",
      "Epoch 66/100\n",
      "51/51 [==============================] - 0s 2ms/step - loss: 0.1658 - accuracy: 0.9359 - val_loss: 0.1190 - val_accuracy: 0.9552\n",
      "Epoch 67/100\n",
      "51/51 [==============================] - 0s 1ms/step - loss: 0.1643 - accuracy: 0.9353 - val_loss: 0.1160 - val_accuracy: 0.9552\n",
      "Epoch 68/100\n",
      "51/51 [==============================] - 0s 1ms/step - loss: 0.1619 - accuracy: 0.9391 - val_loss: 0.1269 - val_accuracy: 0.9502\n",
      "Epoch 69/100\n",
      "51/51 [==============================] - 0s 1ms/step - loss: 0.1651 - accuracy: 0.9328 - val_loss: 0.1127 - val_accuracy: 0.9602\n",
      "Epoch 70/100\n",
      "51/51 [==============================] - 0s 1ms/step - loss: 0.1629 - accuracy: 0.9347 - val_loss: 0.1140 - val_accuracy: 0.9627\n",
      "Epoch 71/100\n",
      "51/51 [==============================] - 0s 1ms/step - loss: 0.1681 - accuracy: 0.9378 - val_loss: 0.1456 - val_accuracy: 0.9328\n",
      "Epoch 72/100\n",
      "51/51 [==============================] - 0s 1ms/step - loss: 0.1617 - accuracy: 0.9353 - val_loss: 0.1319 - val_accuracy: 0.9403\n",
      "Epoch 73/100\n",
      "51/51 [==============================] - 0s 1ms/step - loss: 0.1625 - accuracy: 0.9341 - val_loss: 0.1202 - val_accuracy: 0.9552\n",
      "Epoch 74/100\n",
      "51/51 [==============================] - 0s 1ms/step - loss: 0.1904 - accuracy: 0.9266 - val_loss: 0.1323 - val_accuracy: 0.9527\n",
      "Epoch 75/100\n",
      "51/51 [==============================] - 0s 1ms/step - loss: 0.1574 - accuracy: 0.9328 - val_loss: 0.1185 - val_accuracy: 0.9527\n",
      "Epoch 76/100\n",
      "51/51 [==============================] - 0s 1ms/step - loss: 0.2025 - accuracy: 0.9310 - val_loss: 0.1155 - val_accuracy: 0.9602\n",
      "Epoch 77/100\n",
      "51/51 [==============================] - 0s 1ms/step - loss: 0.1555 - accuracy: 0.9372 - val_loss: 0.1186 - val_accuracy: 0.9552\n",
      "Epoch 78/100\n",
      "51/51 [==============================] - 0s 1ms/step - loss: 0.1547 - accuracy: 0.9378 - val_loss: 0.1178 - val_accuracy: 0.9502\n",
      "Epoch 79/100\n",
      "51/51 [==============================] - 0s 1ms/step - loss: 0.1583 - accuracy: 0.9372 - val_loss: 0.1124 - val_accuracy: 0.9602\n",
      "Epoch 80/100\n",
      "51/51 [==============================] - 0s 1ms/step - loss: 0.1554 - accuracy: 0.9428 - val_loss: 0.1125 - val_accuracy: 0.9577\n",
      "Epoch 81/100\n",
      "51/51 [==============================] - 0s 1ms/step - loss: 0.1559 - accuracy: 0.9397 - val_loss: 0.1117 - val_accuracy: 0.9577\n",
      "Epoch 82/100\n",
      "51/51 [==============================] - 0s 1ms/step - loss: 0.1521 - accuracy: 0.9465 - val_loss: 0.1140 - val_accuracy: 0.9552\n",
      "Epoch 83/100\n",
      "51/51 [==============================] - 0s 2ms/step - loss: 0.1564 - accuracy: 0.9440 - val_loss: 0.1189 - val_accuracy: 0.9527\n",
      "Epoch 84/100\n",
      "51/51 [==============================] - 0s 2ms/step - loss: 0.1531 - accuracy: 0.9403 - val_loss: 0.1191 - val_accuracy: 0.9502\n",
      "Epoch 85/100\n",
      "51/51 [==============================] - 0s 2ms/step - loss: 0.1526 - accuracy: 0.9422 - val_loss: 0.1105 - val_accuracy: 0.9577\n",
      "Epoch 86/100\n",
      "51/51 [==============================] - 0s 1ms/step - loss: 0.1550 - accuracy: 0.9403 - val_loss: 0.1133 - val_accuracy: 0.9527\n",
      "Epoch 87/100\n",
      "51/51 [==============================] - 0s 1ms/step - loss: 0.1497 - accuracy: 0.9422 - val_loss: 0.1100 - val_accuracy: 0.9577\n",
      "Epoch 88/100\n",
      "51/51 [==============================] - 0s 1ms/step - loss: 0.1516 - accuracy: 0.9440 - val_loss: 0.1109 - val_accuracy: 0.9577\n",
      "Epoch 89/100\n",
      "51/51 [==============================] - 0s 1ms/step - loss: 0.1550 - accuracy: 0.9384 - val_loss: 0.1096 - val_accuracy: 0.9577\n",
      "Epoch 90/100\n",
      "51/51 [==============================] - 0s 1ms/step - loss: 0.1472 - accuracy: 0.9428 - val_loss: 0.1090 - val_accuracy: 0.9577\n",
      "Epoch 91/100\n",
      "51/51 [==============================] - 0s 1ms/step - loss: 0.1463 - accuracy: 0.9428 - val_loss: 0.1109 - val_accuracy: 0.9502\n",
      "Epoch 92/100\n",
      "51/51 [==============================] - 0s 1ms/step - loss: 0.1498 - accuracy: 0.9384 - val_loss: 0.1380 - val_accuracy: 0.9502\n",
      "Epoch 93/100\n",
      "51/51 [==============================] - 0s 1ms/step - loss: 0.1530 - accuracy: 0.9403 - val_loss: 0.1142 - val_accuracy: 0.9527\n",
      "Epoch 94/100\n",
      "51/51 [==============================] - 0s 1ms/step - loss: 0.1475 - accuracy: 0.9453 - val_loss: 0.1065 - val_accuracy: 0.9652\n",
      "Epoch 95/100\n",
      "51/51 [==============================] - 0s 1ms/step - loss: 0.1626 - accuracy: 0.9316 - val_loss: 0.1112 - val_accuracy: 0.9478\n",
      "Epoch 96/100\n",
      "51/51 [==============================] - 0s 1ms/step - loss: 0.1500 - accuracy: 0.9428 - val_loss: 0.1224 - val_accuracy: 0.9403\n",
      "Epoch 97/100\n",
      "51/51 [==============================] - 0s 1ms/step - loss: 0.1541 - accuracy: 0.9384 - val_loss: 0.1310 - val_accuracy: 0.9502\n",
      "Epoch 98/100\n",
      "51/51 [==============================] - 0s 1ms/step - loss: 0.1574 - accuracy: 0.9335 - val_loss: 0.1138 - val_accuracy: 0.9552\n",
      "Epoch 99/100\n",
      "51/51 [==============================] - 0s 1ms/step - loss: 0.1475 - accuracy: 0.9409 - val_loss: 0.1122 - val_accuracy: 0.9552\n",
      "Epoch 100/100\n",
      "51/51 [==============================] - 0s 1ms/step - loss: 0.1508 - accuracy: 0.9415 - val_loss: 0.1144 - val_accuracy: 0.9453\n"
     ]
    }
   ],
   "source": [
    "learning_rate = 0.001\n",
    "\n",
    "#Compilation of the model\n",
    "model.compile(loss='categorical_crossentropy', optimizer=Adam(learning_rate), metrics=['accuracy'])\n",
    "epochs = 100\n",
    "history = model.fit(x_train, y_train, batch_size=32, epochs=epochs,validation_data=(x_test, y_test))"
   ]
  },
  {
   "cell_type": "markdown",
   "metadata": {},
   "source": [
    "# Plotting graphs for accuracy "
   ]
  },
  {
   "cell_type": "code",
   "execution_count": 92,
   "metadata": {},
   "outputs": [
    {
     "data": {
      "image/png": "[encoded data removed]",
      "text/plain": [
       "<Figure size 432x288 with 1 Axes>"
      ]
     },
     "metadata": {
      "needs_background": "light"
     },
     "output_type": "display_data"
    },
    {
     "data": {
      "image/png": "[encoded data removed]",
      "text/plain": [
       "<Figure size 432x288 with 1 Axes>"
      ]
     },
     "metadata": {
      "needs_background": "light"
     },
     "output_type": "display_data"
    }
   ],
   "source": [
    "plt.figure(0)\n",
    "plt.plot(history.history['accuracy'],label='training accuracy')\n",
    "plt.plot(history.history['val_accuracy'],label='val_accuracy')\n",
    "plt.title('Accuracy')\n",
    "plt.xlabel('epochs')\n",
    "plt.ylabel('accuracy')\n",
    "plt.legend()\n",
    "plt.show()\n",
    "\n",
    "plt.figure(1)\n",
    "plt.plot(history.history['loss'], label='training loss')\n",
    "plt.plot(history.history['val_loss'], label='val loss')\n",
    "plt.title('Loss')\n",
    "plt.xlabel('epochs')\n",
    "plt.ylabel('loss')\n",
    "plt.legend()\n",
    "plt.show()"
   ]
  },
  {
   "cell_type": "markdown",
   "metadata": {},
   "source": [
    "# Loading Model"
   ]
  },
  {
   "cell_type": "code",
   "execution_count": 93,
   "metadata": {},
   "outputs": [],
   "source": [
    "model.save('road_analytics_model_test_2.h5')"
   ]
  },
  {
   "cell_type": "code",
   "execution_count": 94,
   "metadata": {},
   "outputs": [],
   "source": [
    "from keras.models import load_model\n",
    "\n",
    "model = load_model('road_analytics_model_test_2.h5')"
   ]
  },
  {
   "cell_type": "code",
   "execution_count": 95,
   "metadata": {
    "scrolled": true
   },
   "outputs": [
    {
     "name": "stdout",
     "output_type": "stream",
     "text": [
      "Model: \"sequential_17\"\n",
      "_________________________________________________________________\n",
      "Layer (type)                 Output Shape              Param #   \n",
      "=================================================================\n",
      "dense_85 (Dense)             (None, 16)                64        \n",
      "_________________________________________________________________\n",
      "dropout_68 (Dropout)         (None, 16)                0         \n",
      "_________________________________________________________________\n",
      "dense_86 (Dense)             (None, 32)                544       \n",
      "_________________________________________________________________\n",
      "dropout_69 (Dropout)         (None, 32)                0         \n",
      "_________________________________________________________________\n",
      "dense_87 (Dense)             (None, 64)                2112      \n",
      "_________________________________________________________________\n",
      "dropout_70 (Dropout)         (None, 64)                0         \n",
      "_________________________________________________________________\n",
      "dense_88 (Dense)             (None, 32)                2080      \n",
      "_________________________________________________________________\n",
      "dropout_71 (Dropout)         (None, 32)                0         \n",
      "_________________________________________________________________\n",
      "dense_89 (Dense)             (None, 3)                 99        \n",
      "=================================================================\n",
      "Total params: 4,899\n",
      "Trainable params: 4,899\n",
      "Non-trainable params: 0\n",
      "_________________________________________________________________\n"
     ]
    }
   ],
   "source": [
    "model.summary()"
   ]
  },
  {
   "cell_type": "code",
   "execution_count": 96,
   "metadata": {
    "scrolled": true
   },
   "outputs": [
    {
     "name": "stdout",
     "output_type": "stream",
     "text": [
      "(1608, 3)\n"
     ]
    }
   ],
   "source": [
    "label=np.array(y_train)\n",
    "print(label.shape)"
   ]
  },
  {
   "cell_type": "code",
   "execution_count": 97,
   "metadata": {},
   "outputs": [
    {
     "name": "stdout",
     "output_type": "stream",
     "text": [
      "[[0.0010733  0.0041571  0.00015108]]\n",
      "[0]\n"
     ]
    }
   ],
   "source": [
    "samples = np.array([[0.0010733,0.0041571,0.00015108]])      \n",
    "print(samples)\n",
    "prediction = model.predict_classes(samples)\n",
    "print(prediction)"
   ]
  },
  {
   "cell_type": "code",
   "execution_count": 98,
   "metadata": {},
   "outputs": [
    {
     "name": "stdout",
     "output_type": "stream",
     "text": [
      "[[0.015798 0.015052 0.033555]]\n",
      "[1]\n"
     ]
    }
   ],
   "source": [
    "samples = np.array([[0.015798,0.015052,0.033555]])      \n",
    "print(samples)\n",
    "prediction = model.predict_classes(samples)\n",
    "print(prediction)"
   ]
  },
  {
   "cell_type": "code",
   "execution_count": 99,
   "metadata": {},
   "outputs": [
    {
     "name": "stdout",
     "output_type": "stream",
     "text": [
      "[[0.16983  0.13365  0.085775]]\n",
      "[2]\n"
     ]
    }
   ],
   "source": [
    "samples = np.array([[0.16983,0.13365,0.085775]])      \n",
    "print(samples)\n",
    "prediction = model.predict_classes(samples)\n",
    "print(prediction)"
   ]
  },
  {
   "cell_type": "code",
   "execution_count": null,
   "metadata": {},
   "outputs": [],
   "source": []
  }
 ],
 "metadata": {
  "kernelspec": {
   "display_name": "Python 3",
   "language": "python",
   "name": "python3"
  },
  "language_info": {
   "codemirror_mode": {
    "name": "ipython",
    "version": 3
   },
   "file_extension": ".py",
   "mimetype": "text/x-python",
   "name": "python",
   "nbconvert_exporter": "python",
   "pygments_lexer": "ipython3",
   "version": "3.7.6"
  }
 },
 "nbformat": 4,
 "nbformat_minor": 4
}
