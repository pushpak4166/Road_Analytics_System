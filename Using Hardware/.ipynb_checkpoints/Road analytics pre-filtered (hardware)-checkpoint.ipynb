{
 "cells": [
  {
   "cell_type": "markdown",
   "metadata": {},
   "source": [
    "# Road Analytics Using hardware \n",
    "\n",
    "## Considering A and G both "
   ]
  },
  {
   "cell_type": "code",
   "execution_count": 111,
   "metadata": {},
   "outputs": [],
   "source": [
    "from keras.models import Sequential\n",
    "from sklearn.model_selection import train_test_split\n",
    "from keras.layers.core import Dense,Dropout\n",
    "from keras.optimizers import Adam\n",
    "import numpy as np\n",
    "import matplotlib.pyplot as plt\n",
    "from keras.utils import to_categorical"
   ]
  },
  {
   "cell_type": "code",
   "execution_count": 112,
   "metadata": {},
   "outputs": [],
   "source": [
    "import pandas as pd"
   ]
  },
  {
   "cell_type": "code",
   "execution_count": 113,
   "metadata": {},
   "outputs": [],
   "source": [
    "data = np.loadtxt(\"data/dataset3s.csv\",delimiter=\",\")"
   ]
  },
  {
   "cell_type": "code",
   "execution_count": 114,
   "metadata": {
    "scrolled": false
   },
   "outputs": [
    {
     "data": {
      "text/plain": [
       "(1721, 7)"
      ]
     },
     "execution_count": 114,
     "metadata": {},
     "output_type": "execute_result"
    }
   ],
   "source": [
    "data.shape"
   ]
  },
  {
   "cell_type": "code",
   "execution_count": 115,
   "metadata": {},
   "outputs": [
    {
     "name": "stdout",
     "output_type": "stream",
     "text": [
      "(1721, 6)\n",
      "(1721,)\n"
     ]
    }
   ],
   "source": [
    "x = data[:,0:-1]\n",
    "y = data[:,-1]\n",
    "\n",
    "# Spliting dataset into train and test \n",
    "x_train,x_test,y_train,y_test = train_test_split(x,y,test_size=0.2,random_state=10)\n",
    "print(x.shape)\n",
    "print(y.shape)"
   ]
  },
  {
   "cell_type": "code",
   "execution_count": 116,
   "metadata": {},
   "outputs": [
    {
     "data": {
      "text/plain": [
       "6"
      ]
     },
     "execution_count": 116,
     "metadata": {},
     "output_type": "execute_result"
    }
   ],
   "source": [
    "# size of input\n",
    "x.shape[1]"
   ]
  },
  {
   "cell_type": "code",
   "execution_count": 117,
   "metadata": {},
   "outputs": [
    {
     "name": "stdout",
     "output_type": "stream",
     "text": [
      "(1376, 6)\n",
      "(345, 6)\n"
     ]
    }
   ],
   "source": [
    "print(x_train.shape)\n",
    "print(x_test.shape)"
   ]
  },
  {
   "cell_type": "code",
   "execution_count": 118,
   "metadata": {},
   "outputs": [
    {
     "name": "stdout",
     "output_type": "stream",
     "text": [
      "0 : 582\n",
      "1 : 543\n",
      "2 : 596\n"
     ]
    }
   ],
   "source": [
    "count_of_0=0 \n",
    "for i in y:\n",
    "    if (i==0) :\n",
    "        count_of_0=count_of_0+1\n",
    "print(\"0 :\",count_of_0)\n",
    "count_of_1=0 \n",
    "for i in y:\n",
    "    if (i==1) :\n",
    "        count_of_1=count_of_1+1\n",
    "print(\"1 :\",count_of_1)\n",
    "count_of_2=0 \n",
    "for i in y:\n",
    "    if (i==2) :\n",
    "        count_of_2=count_of_2+1\n",
    "print(\"2 :\",count_of_2)"
   ]
  },
  {
   "cell_type": "code",
   "execution_count": 119,
   "metadata": {},
   "outputs": [],
   "source": [
    "y_train1 = y_train\n",
    "y_test1 = y_test"
   ]
  },
  {
   "cell_type": "code",
   "execution_count": 120,
   "metadata": {},
   "outputs": [],
   "source": [
    "#Converting the labels into one hot encoding\n",
    "y_train = to_categorical(y_train, 3)\n",
    "y_test = to_categorical(y_test, 3)"
   ]
  },
  {
   "cell_type": "code",
   "execution_count": 121,
   "metadata": {
    "scrolled": false
   },
   "outputs": [
    {
     "data": {
      "text/plain": [
       "array([[0., 1., 0.],\n",
       "       [0., 1., 0.],\n",
       "       [1., 0., 0.],\n",
       "       ...,\n",
       "       [1., 0., 0.],\n",
       "       [0., 0., 1.],\n",
       "       [0., 1., 0.]], dtype=float32)"
      ]
     },
     "execution_count": 121,
     "metadata": {},
     "output_type": "execute_result"
    }
   ],
   "source": [
    "y_train"
   ]
  },
  {
   "cell_type": "code",
   "execution_count": 122,
   "metadata": {
    "scrolled": false
   },
   "outputs": [
    {
     "data": {
      "text/plain": [
       "array([[1., 0., 0.],\n",
       "       [1., 0., 0.],\n",
       "       [0., 0., 1.],\n",
       "       ...,\n",
       "       [0., 1., 0.],\n",
       "       [0., 1., 0.],\n",
       "       [1., 0., 0.]], dtype=float32)"
      ]
     },
     "execution_count": 122,
     "metadata": {},
     "output_type": "execute_result"
    }
   ],
   "source": [
    "y_test"
   ]
  },
  {
   "cell_type": "code",
   "execution_count": 123,
   "metadata": {},
   "outputs": [
    {
     "data": {
      "text/plain": [
       "3"
      ]
     },
     "execution_count": 123,
     "metadata": {},
     "output_type": "execute_result"
    }
   ],
   "source": [
    "y_train.shape[1]"
   ]
  },
  {
   "cell_type": "markdown",
   "metadata": {},
   "source": [
    "# Creating the model"
   ]
  },
  {
   "cell_type": "code",
   "execution_count": 142,
   "metadata": {},
   "outputs": [],
   "source": [
    "model = Sequential()\n",
    "model.add(Dense(6,input_dim=x.shape[1],activation='relu'))\n",
    "model.add(Dropout(0.0))\n",
    "model.add(Dense(8,activation='relu'))\n",
    "model.add(Dropout(0.0))\n",
    "model.add(Dense(10,activation='relu'))\n",
    "model.add(Dropout(0.0))\n",
    "model.add(Dense(16,activation='relu'))\n",
    "model.add(Dropout(0.0))\n",
    "model.add(Dense(y_train.shape[1],activation='softmax'))"
   ]
  },
  {
   "cell_type": "markdown",
   "metadata": {},
   "source": [
    "# Compiling and Training the model "
   ]
  },
  {
   "cell_type": "code",
   "execution_count": 143,
   "metadata": {},
   "outputs": [],
   "source": [
    "from keras.callbacks import EarlyStopping, ModelCheckpoint, ReduceLROnPlateau\n"
   ]
  },
  {
   "cell_type": "code",
   "execution_count": 144,
   "metadata": {},
   "outputs": [
    {
     "name": "stdout",
     "output_type": "stream",
     "text": [
      "Epoch 1/100\n",
      "43/43 [==============================] - 0s 3ms/step - loss: 1.0900 - accuracy: 0.4615 - val_loss: 1.0701 - val_accuracy: 0.4899\n",
      "Epoch 2/100\n",
      "43/43 [==============================] - 0s 1ms/step - loss: 1.0451 - accuracy: 0.5102 - val_loss: 1.0241 - val_accuracy: 0.5043\n",
      "Epoch 3/100\n",
      "43/43 [==============================] - 0s 1ms/step - loss: 0.9878 - accuracy: 0.5363 - val_loss: 0.9670 - val_accuracy: 0.5333\n",
      "Epoch 4/100\n",
      "43/43 [==============================] - 0s 1ms/step - loss: 0.9334 - accuracy: 0.5545 - val_loss: 0.9178 - val_accuracy: 0.5507\n",
      "Epoch 5/100\n",
      "43/43 [==============================] - 0s 1ms/step - loss: 0.8974 - accuracy: 0.5683 - val_loss: 0.8866 - val_accuracy: 0.5565\n",
      "Epoch 6/100\n",
      "43/43 [==============================] - 0s 1ms/step - loss: 0.8728 - accuracy: 0.5814 - val_loss: 0.8662 - val_accuracy: 0.5681\n",
      "Epoch 7/100\n",
      "43/43 [==============================] - 0s 1ms/step - loss: 0.8556 - accuracy: 0.5858 - val_loss: 0.8465 - val_accuracy: 0.5768\n",
      "Epoch 8/100\n",
      "43/43 [==============================] - 0s 1ms/step - loss: 0.8389 - accuracy: 0.5945 - val_loss: 0.8244 - val_accuracy: 0.5942\n",
      "Epoch 9/100\n",
      "43/43 [==============================] - 0s 1ms/step - loss: 0.8225 - accuracy: 0.6032 - val_loss: 0.8109 - val_accuracy: 0.6087\n",
      "Epoch 10/100\n",
      "43/43 [==============================] - 0s 1ms/step - loss: 0.8090 - accuracy: 0.5988 - val_loss: 0.7899 - val_accuracy: 0.6174\n",
      "Epoch 11/100\n",
      "43/43 [==============================] - 0s 1ms/step - loss: 0.7981 - accuracy: 0.6148 - val_loss: 0.7715 - val_accuracy: 0.6551\n",
      "Epoch 12/100\n",
      "43/43 [==============================] - 0s 1ms/step - loss: 0.7893 - accuracy: 0.6163 - val_loss: 0.7623 - val_accuracy: 0.6377\n",
      "Epoch 13/100\n",
      "43/43 [==============================] - ETA: 0s - loss: 0.8325 - accuracy: 0.53 - 0s 1ms/step - loss: 0.7797 - accuracy: 0.6221 - val_loss: 0.7524 - val_accuracy: 0.6435\n",
      "Epoch 14/100\n",
      "43/43 [==============================] - 0s 1ms/step - loss: 0.7736 - accuracy: 0.6272 - val_loss: 0.7467 - val_accuracy: 0.6435\n",
      "Epoch 15/100\n",
      "43/43 [==============================] - 0s 1ms/step - loss: 0.7707 - accuracy: 0.6301 - val_loss: 0.7465 - val_accuracy: 0.6464\n",
      "Epoch 16/100\n",
      "43/43 [==============================] - 0s 1ms/step - loss: 0.7665 - accuracy: 0.6308 - val_loss: 0.7416 - val_accuracy: 0.6493\n",
      "Epoch 17/100\n",
      "43/43 [==============================] - 0s 1ms/step - loss: 0.7643 - accuracy: 0.6294 - val_loss: 0.7346 - val_accuracy: 0.6435\n",
      "Epoch 18/100\n",
      "43/43 [==============================] - 0s 1ms/step - loss: 0.7599 - accuracy: 0.6330 - val_loss: 0.7358 - val_accuracy: 0.6406\n",
      "Epoch 19/100\n",
      "43/43 [==============================] - 0s 1ms/step - loss: 0.7578 - accuracy: 0.6323 - val_loss: 0.7287 - val_accuracy: 0.6493\n",
      "Epoch 20/100\n",
      "43/43 [==============================] - 0s 1ms/step - loss: 0.7541 - accuracy: 0.6410 - val_loss: 0.7280 - val_accuracy: 0.6522\n",
      "Epoch 21/100\n",
      "43/43 [==============================] - 0s 1ms/step - loss: 0.7502 - accuracy: 0.6410 - val_loss: 0.7240 - val_accuracy: 0.6435\n",
      "Epoch 22/100\n",
      "43/43 [==============================] - 0s 1ms/step - loss: 0.7486 - accuracy: 0.6359 - val_loss: 0.7208 - val_accuracy: 0.6551\n",
      "Epoch 23/100\n",
      "43/43 [==============================] - 0s 1ms/step - loss: 0.7472 - accuracy: 0.6439 - val_loss: 0.7177 - val_accuracy: 0.6377\n",
      "Epoch 24/100\n",
      "43/43 [==============================] - 0s 1ms/step - loss: 0.7457 - accuracy: 0.6424 - val_loss: 0.7146 - val_accuracy: 0.6493\n",
      "Epoch 25/100\n",
      "43/43 [==============================] - 0s 1ms/step - loss: 0.7442 - accuracy: 0.6432 - val_loss: 0.7150 - val_accuracy: 0.6435\n",
      "Epoch 26/100\n",
      "43/43 [==============================] - 0s 1ms/step - loss: 0.7432 - accuracy: 0.6417 - val_loss: 0.7134 - val_accuracy: 0.6551\n",
      "Epoch 27/100\n",
      "43/43 [==============================] - 0s 1ms/step - loss: 0.7420 - accuracy: 0.6446 - val_loss: 0.7109 - val_accuracy: 0.6551\n",
      "Epoch 28/100\n",
      "43/43 [==============================] - 0s 1ms/step - loss: 0.7391 - accuracy: 0.6483 - val_loss: 0.7078 - val_accuracy: 0.6551\n",
      "Epoch 29/100\n",
      "43/43 [==============================] - 0s 1ms/step - loss: 0.7393 - accuracy: 0.6490 - val_loss: 0.7087 - val_accuracy: 0.6609\n",
      "Epoch 30/100\n",
      "43/43 [==============================] - 0s 1ms/step - loss: 0.7387 - accuracy: 0.6483 - val_loss: 0.7052 - val_accuracy: 0.6580\n",
      "Epoch 31/100\n",
      "43/43 [==============================] - 0s 1ms/step - loss: 0.7381 - accuracy: 0.6497 - val_loss: 0.7069 - val_accuracy: 0.6464\n",
      "Epoch 32/100\n",
      "43/43 [==============================] - 0s 1ms/step - loss: 0.7388 - accuracy: 0.6490 - val_loss: 0.7023 - val_accuracy: 0.6609\n",
      "Epoch 33/100\n",
      "43/43 [==============================] - 0s 1ms/step - loss: 0.7353 - accuracy: 0.6439 - val_loss: 0.7020 - val_accuracy: 0.6609\n",
      "Epoch 34/100\n",
      "43/43 [==============================] - 0s 1ms/step - loss: 0.7350 - accuracy: 0.6468 - val_loss: 0.7037 - val_accuracy: 0.6638\n",
      "Epoch 35/100\n",
      "43/43 [==============================] - 0s 1ms/step - loss: 0.7341 - accuracy: 0.6468 - val_loss: 0.6983 - val_accuracy: 0.6551\n",
      "Epoch 36/100\n",
      "43/43 [==============================] - 0s 1ms/step - loss: 0.7350 - accuracy: 0.6483 - val_loss: 0.6952 - val_accuracy: 0.6493\n",
      "Epoch 37/100\n",
      "43/43 [==============================] - 0s 1ms/step - loss: 0.7334 - accuracy: 0.6453 - val_loss: 0.6959 - val_accuracy: 0.6609\n",
      "Epoch 38/100\n",
      "43/43 [==============================] - 0s 1ms/step - loss: 0.7334 - accuracy: 0.6497 - val_loss: 0.6964 - val_accuracy: 0.6696\n",
      "Epoch 39/100\n",
      "43/43 [==============================] - 0s 1ms/step - loss: 0.7315 - accuracy: 0.6461 - val_loss: 0.6945 - val_accuracy: 0.6493\n",
      "Epoch 40/100\n",
      "43/43 [==============================] - 0s 1ms/step - loss: 0.7325 - accuracy: 0.6504 - val_loss: 0.6940 - val_accuracy: 0.6667\n",
      "Epoch 41/100\n",
      "43/43 [==============================] - 0s 1ms/step - loss: 0.7296 - accuracy: 0.6504 - val_loss: 0.6910 - val_accuracy: 0.6522\n",
      "Epoch 42/100\n",
      "43/43 [==============================] - 0s 1ms/step - loss: 0.7336 - accuracy: 0.6453 - val_loss: 0.6957 - val_accuracy: 0.6638\n",
      "Epoch 43/100\n",
      "43/43 [==============================] - 0s 1ms/step - loss: 0.7265 - accuracy: 0.6497 - val_loss: 0.6894 - val_accuracy: 0.6551\n",
      "Epoch 44/100\n",
      "43/43 [==============================] - 0s 1ms/step - loss: 0.7263 - accuracy: 0.6483 - val_loss: 0.6873 - val_accuracy: 0.6551\n",
      "Epoch 45/100\n",
      "43/43 [==============================] - 0s 1ms/step - loss: 0.7256 - accuracy: 0.6519 - val_loss: 0.6879 - val_accuracy: 0.6580\n",
      "Epoch 46/100\n",
      "43/43 [==============================] - 0s 1ms/step - loss: 0.7261 - accuracy: 0.6490 - val_loss: 0.6896 - val_accuracy: 0.6638\n",
      "Epoch 47/100\n",
      "43/43 [==============================] - 0s 1ms/step - loss: 0.7259 - accuracy: 0.6519 - val_loss: 0.6851 - val_accuracy: 0.6522\n",
      "Epoch 48/100\n",
      "43/43 [==============================] - 0s 1ms/step - loss: 0.7273 - accuracy: 0.6475 - val_loss: 0.6840 - val_accuracy: 0.6551\n",
      "Epoch 49/100\n",
      "43/43 [==============================] - 0s 1ms/step - loss: 0.7231 - accuracy: 0.6497 - val_loss: 0.6874 - val_accuracy: 0.6725\n",
      "Epoch 50/100\n",
      "43/43 [==============================] - 0s 1ms/step - loss: 0.7238 - accuracy: 0.6490 - val_loss: 0.6841 - val_accuracy: 0.6609\n",
      "Epoch 51/100\n",
      "43/43 [==============================] - 0s 1ms/step - loss: 0.7231 - accuracy: 0.6548 - val_loss: 0.6812 - val_accuracy: 0.6609\n",
      "Epoch 52/100\n",
      "43/43 [==============================] - 0s 1ms/step - loss: 0.7239 - accuracy: 0.6570 - val_loss: 0.6860 - val_accuracy: 0.6609\n",
      "Epoch 53/100\n",
      "43/43 [==============================] - 0s 1ms/step - loss: 0.7237 - accuracy: 0.6555 - val_loss: 0.6815 - val_accuracy: 0.6696\n",
      "Epoch 54/100\n",
      "43/43 [==============================] - 0s 1ms/step - loss: 0.7245 - accuracy: 0.6490 - val_loss: 0.6842 - val_accuracy: 0.6754\n",
      "Epoch 55/100\n",
      "43/43 [==============================] - 0s 1ms/step - loss: 0.7221 - accuracy: 0.6483 - val_loss: 0.6813 - val_accuracy: 0.6667\n",
      "Epoch 56/100\n",
      "43/43 [==============================] - 0s 1ms/step - loss: 0.7206 - accuracy: 0.6483 - val_loss: 0.6827 - val_accuracy: 0.6696\n",
      "Epoch 57/100\n",
      "43/43 [==============================] - 0s 1ms/step - loss: 0.7210 - accuracy: 0.6512 - val_loss: 0.6789 - val_accuracy: 0.6667\n",
      "Epoch 58/100\n",
      "43/43 [==============================] - 0s 1ms/step - loss: 0.7222 - accuracy: 0.6468 - val_loss: 0.6802 - val_accuracy: 0.6696\n",
      "Epoch 59/100\n",
      "43/43 [==============================] - 0s 1ms/step - loss: 0.7200 - accuracy: 0.6461 - val_loss: 0.6826 - val_accuracy: 0.6725\n",
      "Epoch 60/100\n",
      "43/43 [==============================] - 0s 1ms/step - loss: 0.7199 - accuracy: 0.6504 - val_loss: 0.6792 - val_accuracy: 0.6754\n",
      "Epoch 61/100\n",
      "43/43 [==============================] - 0s 1ms/step - loss: 0.7201 - accuracy: 0.6541 - val_loss: 0.6796 - val_accuracy: 0.6667\n",
      "Epoch 62/100\n",
      "43/43 [==============================] - 0s 1ms/step - loss: 0.7199 - accuracy: 0.6519 - val_loss: 0.6797 - val_accuracy: 0.6696\n",
      "Epoch 63/100\n",
      "43/43 [==============================] - 0s 1ms/step - loss: 0.7183 - accuracy: 0.6519 - val_loss: 0.6780 - val_accuracy: 0.6696\n",
      "Epoch 64/100\n",
      "43/43 [==============================] - 0s 1ms/step - loss: 0.7176 - accuracy: 0.6613 - val_loss: 0.6774 - val_accuracy: 0.6841\n",
      "Epoch 65/100\n",
      "43/43 [==============================] - 0s 1ms/step - loss: 0.7189 - accuracy: 0.6526 - val_loss: 0.6754 - val_accuracy: 0.6812\n",
      "Epoch 66/100\n",
      "43/43 [==============================] - ETA: 0s - loss: 0.5326 - accuracy: 0.75 - 0s 1ms/step - loss: 0.7197 - accuracy: 0.6548 - val_loss: 0.6785 - val_accuracy: 0.6667\n",
      "Epoch 67/100\n",
      "43/43 [==============================] - 0s 1ms/step - loss: 0.7195 - accuracy: 0.6562 - val_loss: 0.6832 - val_accuracy: 0.6812\n",
      "Epoch 68/100\n",
      "43/43 [==============================] - 0s 1ms/step - loss: 0.7144 - accuracy: 0.6533 - val_loss: 0.6750 - val_accuracy: 0.6754\n",
      "Epoch 69/100\n",
      "43/43 [==============================] - 0s 1ms/step - loss: 0.7153 - accuracy: 0.6570 - val_loss: 0.6751 - val_accuracy: 0.6812\n",
      "Epoch 70/100\n",
      "43/43 [==============================] - 0s 1ms/step - loss: 0.7145 - accuracy: 0.6548 - val_loss: 0.6889 - val_accuracy: 0.6899\n",
      "Epoch 71/100\n",
      "43/43 [==============================] - 0s 1ms/step - loss: 0.7208 - accuracy: 0.6541 - val_loss: 0.6758 - val_accuracy: 0.6725\n",
      "Epoch 72/100\n",
      "43/43 [==============================] - 0s 1ms/step - loss: 0.7137 - accuracy: 0.6621 - val_loss: 0.6890 - val_accuracy: 0.6812\n",
      "Epoch 73/100\n",
      "43/43 [==============================] - 0s 1ms/step - loss: 0.7127 - accuracy: 0.6562 - val_loss: 0.6770 - val_accuracy: 0.6783\n",
      "Epoch 74/100\n",
      "43/43 [==============================] - 0s 1ms/step - loss: 0.7172 - accuracy: 0.6599 - val_loss: 0.6795 - val_accuracy: 0.6899\n",
      "Epoch 75/100\n",
      "43/43 [==============================] - 0s 1ms/step - loss: 0.7139 - accuracy: 0.6533 - val_loss: 0.6740 - val_accuracy: 0.6841\n",
      "Epoch 76/100\n",
      "43/43 [==============================] - 0s 1ms/step - loss: 0.7157 - accuracy: 0.6570 - val_loss: 0.6719 - val_accuracy: 0.6870\n",
      "Epoch 77/100\n",
      "43/43 [==============================] - 0s 1ms/step - loss: 0.7159 - accuracy: 0.6541 - val_loss: 0.6732 - val_accuracy: 0.6783\n",
      "Epoch 78/100\n",
      "43/43 [==============================] - 0s 1ms/step - loss: 0.7139 - accuracy: 0.6512 - val_loss: 0.6721 - val_accuracy: 0.6783\n",
      "Epoch 79/100\n",
      "43/43 [==============================] - 0s 1ms/step - loss: 0.7124 - accuracy: 0.6555 - val_loss: 0.6718 - val_accuracy: 0.6783\n",
      "Epoch 80/100\n",
      "43/43 [==============================] - 0s 1ms/step - loss: 0.7153 - accuracy: 0.6562 - val_loss: 0.6711 - val_accuracy: 0.6812\n",
      "Epoch 81/100\n",
      "43/43 [==============================] - 0s 1ms/step - loss: 0.7151 - accuracy: 0.6555 - val_loss: 0.6701 - val_accuracy: 0.6870\n",
      "Epoch 82/100\n",
      "43/43 [==============================] - 0s 1ms/step - loss: 0.7122 - accuracy: 0.6548 - val_loss: 0.6721 - val_accuracy: 0.6754\n",
      "Epoch 83/100\n",
      "43/43 [==============================] - 0s 1ms/step - loss: 0.7141 - accuracy: 0.6570 - val_loss: 0.6750 - val_accuracy: 0.6928\n",
      "Epoch 84/100\n",
      "43/43 [==============================] - 0s 1ms/step - loss: 0.7146 - accuracy: 0.6519 - val_loss: 0.6735 - val_accuracy: 0.6725\n",
      "Epoch 85/100\n",
      "43/43 [==============================] - 0s 1ms/step - loss: 0.7128 - accuracy: 0.6497 - val_loss: 0.6775 - val_accuracy: 0.6870\n",
      "Epoch 86/100\n",
      "43/43 [==============================] - 0s 1ms/step - loss: 0.7109 - accuracy: 0.6526 - val_loss: 0.6733 - val_accuracy: 0.6899\n",
      "Epoch 87/100\n",
      "43/43 [==============================] - 0s 1ms/step - loss: 0.7088 - accuracy: 0.6562 - val_loss: 0.6725 - val_accuracy: 0.6841\n",
      "Epoch 88/100\n",
      "43/43 [==============================] - 0s 1ms/step - loss: 0.7143 - accuracy: 0.6541 - val_loss: 0.6675 - val_accuracy: 0.6870\n",
      "Epoch 89/100\n",
      "43/43 [==============================] - 0s 1ms/step - loss: 0.7139 - accuracy: 0.6577 - val_loss: 0.6725 - val_accuracy: 0.6783\n",
      "Epoch 90/100\n",
      "43/43 [==============================] - 0s 1ms/step - loss: 0.7110 - accuracy: 0.6562 - val_loss: 0.6705 - val_accuracy: 0.6957\n",
      "Epoch 91/100\n",
      "43/43 [==============================] - 0s 1ms/step - loss: 0.7082 - accuracy: 0.6526 - val_loss: 0.6696 - val_accuracy: 0.6841\n",
      "Epoch 92/100\n",
      "43/43 [==============================] - 0s 1ms/step - loss: 0.7088 - accuracy: 0.6541 - val_loss: 0.6711 - val_accuracy: 0.6986\n",
      "Epoch 93/100\n",
      "43/43 [==============================] - 0s 1ms/step - loss: 0.7055 - accuracy: 0.6555 - val_loss: 0.6857 - val_accuracy: 0.6986\n",
      "Epoch 94/100\n",
      "43/43 [==============================] - 0s 1ms/step - loss: 0.7143 - accuracy: 0.6541 - val_loss: 0.6745 - val_accuracy: 0.6841\n",
      "Epoch 95/100\n",
      "43/43 [==============================] - 0s 1ms/step - loss: 0.7083 - accuracy: 0.6461 - val_loss: 0.6674 - val_accuracy: 0.6899\n",
      "Epoch 96/100\n",
      "43/43 [==============================] - 0s 1ms/step - loss: 0.7124 - accuracy: 0.6555 - val_loss: 0.6686 - val_accuracy: 0.6870\n",
      "Epoch 97/100\n",
      "43/43 [==============================] - 0s 1ms/step - loss: 0.7075 - accuracy: 0.6555 - val_loss: 0.6685 - val_accuracy: 0.6957\n",
      "Epoch 98/100\n",
      "43/43 [==============================] - 0s 1ms/step - loss: 0.7076 - accuracy: 0.6526 - val_loss: 0.6699 - val_accuracy: 0.6812\n",
      "Epoch 99/100\n",
      "43/43 [==============================] - 0s 1ms/step - loss: 0.7072 - accuracy: 0.6526 - val_loss: 0.6701 - val_accuracy: 0.6899\n",
      "Epoch 100/100\n",
      "43/43 [==============================] - 0s 1ms/step - loss: 0.7059 - accuracy: 0.6519 - val_loss: 0.6716 - val_accuracy: 0.6899\n"
     ]
    }
   ],
   "source": [
    "learning_rate = 0.001\n",
    "\n",
    "#Compilation of the model\n",
    "model.compile(loss='categorical_crossentropy', optimizer=Adam(learning_rate), metrics=['accuracy'])\n",
    "epochs = 100\n",
    "history = model.fit(x_train, y_train, batch_size=32, epochs=epochs,validation_data=(x_test, y_test))"
   ]
  },
  {
   "cell_type": "markdown",
   "metadata": {},
   "source": [
    "# Plotting graphs for accuracy "
   ]
  },
  {
   "cell_type": "code",
   "execution_count": 145,
   "metadata": {
    "scrolled": true
   },
   "outputs": [
    {
     "data": {
      "image/png": "[encoded data removed]",
      "text/plain": [
       "<Figure size 432x288 with 1 Axes>"
      ]
     },
     "metadata": {
      "needs_background": "light"
     },
     "output_type": "display_data"
    },
    {
     "data": {
      "image/png": "[encoded data removed]",
      "text/plain": [
       "<Figure size 432x288 with 1 Axes>"
      ]
     },
     "metadata": {
      "needs_background": "light"
     },
     "output_type": "display_data"
    }
   ],
   "source": [
    "plt.figure(0)\n",
    "plt.plot(history.history['accuracy'],label='training accuracy')\n",
    "plt.plot(history.history['val_accuracy'],label='val_accuracy')\n",
    "plt.title('Accuracy')\n",
    "plt.xlabel('epochs')\n",
    "plt.ylabel('accuracy')\n",
    "plt.legend()\n",
    "plt.show()\n",
    "\n",
    "plt.figure(1)\n",
    "plt.plot(history.history['loss'], label='training loss')\n",
    "plt.plot(history.history['val_loss'], label='val loss')\n",
    "plt.title('Loss')\n",
    "plt.xlabel('epochs')\n",
    "plt.ylabel('loss')\n",
    "plt.legend()\n",
    "plt.show()"
   ]
  },
  {
   "cell_type": "code",
   "execution_count": 146,
   "metadata": {},
   "outputs": [
    {
     "name": "stdout",
     "output_type": "stream",
     "text": [
      "class 0 : 409\n",
      "class 1 : 481\n",
      "class 2 : 486\n"
     ]
    }
   ],
   "source": [
    "pred_train = model.predict_classes(x_train)\n",
    "count0=0\n",
    "count1=0\n",
    "count2=0\n",
    "for i in pred_train:\n",
    "    if(i==0):\n",
    "        count0=count0+1\n",
    "    if(i==1):\n",
    "        count1=count1+1\n",
    "    if(i==2):\n",
    "        count2=count2+1\n",
    "\n",
    "print(\"class 0 :\",count0)        \n",
    "print(\"class 1 :\",count1)    \n",
    "print(\"class 2 :\",count2) "
   ]
  },
  {
   "cell_type": "code",
   "execution_count": 147,
   "metadata": {
    "scrolled": true
   },
   "outputs": [
    {
     "data": {
      "text/plain": [
       "345"
      ]
     },
     "execution_count": 147,
     "metadata": {},
     "output_type": "execute_result"
    }
   ],
   "source": [
    "x_test.shape[0]"
   ]
  },
  {
   "cell_type": "code",
   "execution_count": 148,
   "metadata": {},
   "outputs": [
    {
     "name": "stdout",
     "output_type": "stream",
     "text": [
      "*************************************\n",
      "Analysis on training data for good road\n",
      "\n",
      "true detection for  : 65.02145922746782 %\n",
      "false detection for : 34.97854077253219 %\n",
      "*************************************\n",
      "Analysis on training data for medium road\n",
      "\n",
      "true detection for  : 54.109589041095894 %\n",
      "false detection for : 45.89041095890411 %\n",
      "*************************************\n",
      "Analysis on training data for bad road\n",
      "\n",
      "true detection for  : 75.84745762711864 %\n",
      "false detection for : 24.152542372881356 %\n"
     ]
    }
   ],
   "source": [
    "# analysis on training data\n",
    "pred_train = model.predict_classes(x_train)\n",
    "\n",
    "# good road\n",
    "count1=0\n",
    "count2=0\n",
    "count3=0\n",
    "\n",
    "for i in range(0,x_train.shape[0]):\n",
    "    if(pred_train[i]==0 and int(y_train1[i])==0):\n",
    "        count1 = count1+1\n",
    "    elif(int(y_train1[i])==0): \n",
    "        count2 = count2+1\n",
    "total = count1+count2\n",
    "print(\"*************************************\")\n",
    "print(\"Analysis on training data for good road\")\n",
    "print()\n",
    "print(\"true detection for  :\",(count1/total)*100,\"%\")\n",
    "print(\"false detection for :\",(count2/total)*100,\"%\")\n",
    "\n",
    "# medium road\n",
    "count1=0\n",
    "count2=0\n",
    "count3=0\n",
    "\n",
    "for i in range(0,x_train.shape[0]):\n",
    "    if(pred_train[i]==1 and int(y_train1[i])==1):\n",
    "        count1 = count1+1\n",
    "    elif(int(y_train1[i])==1): \n",
    "        count2 = count2+1\n",
    "total = count1+count2\n",
    "print(\"*************************************\")\n",
    "print(\"Analysis on training data for medium road\")\n",
    "print()\n",
    "print(\"true detection for  :\",(count1/total)*100,\"%\")\n",
    "print(\"false detection for :\",(count2/total)*100,\"%\")\n",
    "\n",
    "# bad road \n",
    "count1=0\n",
    "count2=0\n",
    "count3=0\n",
    "\n",
    "for i in range(0,x_train.shape[0]):\n",
    "    if(pred_train[i]==2 and int(y_train1[i])==2):\n",
    "        count1 = count1+1\n",
    "    elif(int(y_train1[i])==2): \n",
    "        count2 = count2+1\n",
    "total = count1+count2\n",
    "print(\"*************************************\")\n",
    "print(\"Analysis on training data for bad road\")\n",
    "print()\n",
    "print(\"true detection for  :\",(count1/total)*100,\"%\")\n",
    "print(\"false detection for :\",(count2/total)*100,\"%\")"
   ]
  },
  {
   "cell_type": "code",
   "execution_count": 149,
   "metadata": {},
   "outputs": [
    {
     "name": "stdout",
     "output_type": "stream",
     "text": [
      "***************************************************************\n",
      "Analysis on test data for good road\n",
      "\n",
      "true detection                        : 74.13793103448276 %\n",
      "false detection - medium is predicted : 23.275862068965516 %\n",
      "false detection - bad is predicted    : 2.586206896551724 %\n",
      "***************************************************************\n",
      "Analysis on test data for medium road\n",
      "\n",
      "true detection for                    : 54.285714285714285 %\n",
      "false detection - good is predicted   : 20.0 %\n",
      "false detection - bad is predicted    : 25.71428571428571 %\n",
      "***************************************************************\n",
      "Analysis on test data for bad road\n",
      "\n",
      "true detection for                       : 76.61290322580645 %\n",
      "false detection - good is predicted      : 4.032258064516129 %\n",
      "false detection - medium is predicted    : 19.35483870967742 %\n"
     ]
    }
   ],
   "source": [
    "# analysis on test data\n",
    "pred_test = model.predict_classes(x_test)\n",
    "\n",
    "# good road\n",
    "count1=0\n",
    "count2=0\n",
    "count3=0\n",
    "\n",
    "for i in range(0,x_test.shape[0]):\n",
    "    \n",
    "    if (int(y_test1[i])==0 and pred_test[i]==0):\n",
    "        count1 = count1+1\n",
    "    elif(int(y_test1[i])==0 and pred_test[i]==1): \n",
    "        count2 = count2+1\n",
    "    elif(int(y_test1[i])==0 and pred_test[i]==2): \n",
    "        count3 = count3+1\n",
    "total = count1+count2+count3\n",
    "print(\"***************************************************************\")\n",
    "print(\"Analysis on test data for good road\")\n",
    "print()\n",
    "print(\"true detection                        :\",(count1/total)*100,\"%\")\n",
    "print(\"false detection - medium is predicted :\",(count2/total)*100,\"%\")\n",
    "print(\"false detection - bad is predicted    :\",(count3/total)*100,\"%\")\n",
    "\n",
    "# medium road\n",
    "count1=0\n",
    "count2=0\n",
    "count3=0\n",
    "\n",
    "for i in range(0,x_test.shape[0]):\n",
    "    \n",
    "    if (int(y_test1[i])==1 and pred_test[i]==0):\n",
    "        count1 = count1+1\n",
    "    elif(int(y_test1[i])==1 and pred_test[i]==1): \n",
    "        count2 = count2+1\n",
    "    elif(int(y_test1[i])==1 and pred_test[i]==2): \n",
    "        count3 = count3+1\n",
    "total = count1+count2+count3\n",
    "print(\"***************************************************************\")\n",
    "print(\"Analysis on test data for medium road\")\n",
    "print()\n",
    "print(\"true detection for                    :\",(count2/total)*100,\"%\")\n",
    "print(\"false detection - good is predicted   :\",(count1/total)*100,\"%\")\n",
    "print(\"false detection - bad is predicted    :\",(count3/total)*100,\"%\")\n",
    "\n",
    "\n",
    "# bad road \n",
    "count1=0\n",
    "count2=0\n",
    "count3=0\n",
    "\n",
    "for i in range(0,x_test.shape[0]):\n",
    "    \n",
    "    if (int(y_test1[i])==2 and pred_test[i]==0):\n",
    "        count1 = count1+1\n",
    "    elif(int(y_test1[i])==2 and pred_test[i]==1): \n",
    "        count2 = count2+1\n",
    "    elif(int(y_test1[i])==2 and pred_test[i]==2): \n",
    "        count3 = count3+1\n",
    "total = count1+count2+count3\n",
    "print(\"***************************************************************\")\n",
    "print(\"Analysis on test data for bad road\")\n",
    "print()\n",
    "print(\"true detection for                       :\",(count3/total)*100,\"%\")\n",
    "print(\"false detection - good is predicted      :\",(count1/total)*100,\"%\")\n",
    "print(\"false detection - medium is predicted    :\",(count2/total)*100,\"%\")"
   ]
  },
  {
   "cell_type": "code",
   "execution_count": 150,
   "metadata": {},
   "outputs": [
    {
     "name": "stdout",
     "output_type": "stream",
     "text": [
      "Accuracy on training data =  65.26162790697676 %\n",
      "Accuracy on test data =  68.98550724637681 %\n"
     ]
    }
   ],
   "source": [
    "from sklearn.metrics import accuracy_score\n",
    "\n",
    "# prediction on training data\n",
    "label = np.array(y_train1)\n",
    "pred_train = model.predict_classes(x_train)\n",
    "print(\"Accuracy on training data = \",accuracy_score(label,pred_train)*100,\"%\")\n",
    "\n",
    "# prediction on test data\n",
    "label = np.array(y_test1)\n",
    "pred_test = model.predict_classes(x_test)\n",
    "print(\"Accuracy on test data = \",accuracy_score(label,pred_test)*100,\"%\")"
   ]
  },
  {
   "cell_type": "markdown",
   "metadata": {},
   "source": [
    "# Loading Model"
   ]
  },
  {
   "cell_type": "code",
   "execution_count": null,
   "metadata": {},
   "outputs": [],
   "source": [
    "# model.save('road_analytics_model_prefiltered.h5')"
   ]
  },
  {
   "cell_type": "code",
   "execution_count": null,
   "metadata": {},
   "outputs": [],
   "source": [
    "# from keras.models import load_model\n",
    "# model = load_model('road_analytics_model_prefiltered.h5')"
   ]
  },
  {
   "cell_type": "code",
   "execution_count": null,
   "metadata": {
    "scrolled": true
   },
   "outputs": [],
   "source": [
    "model.summary()"
   ]
  },
  {
   "cell_type": "code",
   "execution_count": null,
   "metadata": {
    "scrolled": true
   },
   "outputs": [],
   "source": [
    "label=np.array(y_train)\n",
    "print(label.shape)"
   ]
  },
  {
   "cell_type": "code",
   "execution_count": null,
   "metadata": {},
   "outputs": [],
   "source": [
    "samples = np.array([data[1585][0:-1]])    \n",
    "print(model.predict(samples))\n",
    "prediction = model.predict_classes(samples)\n",
    "print(prediction)"
   ]
  },
  {
   "cell_type": "code",
   "execution_count": null,
   "metadata": {},
   "outputs": [],
   "source": [
    "samples = np.array([[0.028632,3.25E-05,0.0013093,0.00066799]])      \n",
    "print(samples)\n",
    "prediction = model.predict_classes(samples)\n",
    "print(prediction)"
   ]
  },
  {
   "cell_type": "code",
   "execution_count": null,
   "metadata": {},
   "outputs": [],
   "source": [
    "samples = np.array([[0.02464,0.018678,0.0095863,0.0089315]])      \n",
    "print(samples)\n",
    "prediction = model.predict_classes(samples)\n",
    "print(prediction)"
   ]
  },
  {
   "cell_type": "code",
   "execution_count": null,
   "metadata": {},
   "outputs": [],
   "source": []
  },
  {
   "cell_type": "code",
   "execution_count": null,
   "metadata": {},
   "outputs": [],
   "source": []
  }
 ],
 "metadata": {
  "kernelspec": {
   "display_name": "Python 3",
   "language": "python",
   "name": "python3"
  },
  "language_info": {
   "codemirror_mode": {
    "name": "ipython",
    "version": 3
   },
   "file_extension": ".py",
   "mimetype": "text/x-python",
   "name": "python",
   "nbconvert_exporter": "python",
   "pygments_lexer": "ipython3",
   "version": "3.7.6"
  }
 },
 "nbformat": 4,
 "nbformat_minor": 4
}
