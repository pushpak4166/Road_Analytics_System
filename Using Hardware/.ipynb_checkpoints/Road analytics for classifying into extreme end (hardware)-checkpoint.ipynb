{
 "cells": [
  {
   "cell_type": "markdown",
   "metadata": {},
   "source": [
    "# Road analysis for classifying into extreme end "
   ]
  },
  {
   "cell_type": "code",
   "execution_count": 130,
   "metadata": {},
   "outputs": [],
   "source": [
    "from sklearn.model_selection import train_test_split\n",
    "from keras.models import Sequential\n",
    "from keras.layers.core import Dense,Dropout\n",
    "from keras.optimizers import Adam\n",
    "import pandas as pd\n",
    "import numpy as np\n",
    "import matplotlib.pyplot as plt "
   ]
  },
  {
   "cell_type": "code",
   "execution_count": 131,
   "metadata": {},
   "outputs": [],
   "source": [
    "data = np.loadtxt(\"data/dataset3s.csv\",delimiter=\",\")"
   ]
  },
  {
   "cell_type": "code",
   "execution_count": 132,
   "metadata": {},
   "outputs": [
    {
     "data": {
      "text/plain": [
       "(1220, 7)"
      ]
     },
     "execution_count": 132,
     "metadata": {},
     "output_type": "execute_result"
    }
   ],
   "source": [
    "data.shape"
   ]
  },
  {
   "cell_type": "code",
   "execution_count": 133,
   "metadata": {},
   "outputs": [
    {
     "name": "stdout",
     "output_type": "stream",
     "text": [
      "(1220, 6)\n",
      "(1220,)\n"
     ]
    }
   ],
   "source": [
    "x = data[:,0:-1]\n",
    "y = data[:,-1]\n",
    "\n",
    "# Spliting dataset into train and test \n",
    "x_train,x_test,y_train,y_test = train_test_split(x,y,test_size=0.3,random_state=10)\n",
    "print(x.shape)\n",
    "print(y.shape)"
   ]
  },
  {
   "cell_type": "code",
   "execution_count": 134,
   "metadata": {},
   "outputs": [
    {
     "name": "stdout",
     "output_type": "stream",
     "text": [
      "0 : 624\n",
      "1 : 596\n"
     ]
    }
   ],
   "source": [
    "count_of_0=0 \n",
    "for i in y:\n",
    "    if (i==0) :\n",
    "        count_of_0=count_of_0+1\n",
    "print(\"0 :\",count_of_0)\n",
    "count_of_1=0 \n",
    "for i in y:\n",
    "    if (i==1) :\n",
    "        count_of_1=count_of_1+1\n",
    "print(\"1 :\",count_of_1)"
   ]
  },
  {
   "cell_type": "code",
   "execution_count": 135,
   "metadata": {
    "scrolled": true
   },
   "outputs": [
    {
     "data": {
      "text/plain": [
       "(854, 6)"
      ]
     },
     "execution_count": 135,
     "metadata": {},
     "output_type": "execute_result"
    }
   ],
   "source": [
    "x_train.shape"
   ]
  },
  {
   "cell_type": "code",
   "execution_count": 136,
   "metadata": {
    "scrolled": true
   },
   "outputs": [
    {
     "data": {
      "text/plain": [
       "(366, 6)"
      ]
     },
     "execution_count": 136,
     "metadata": {},
     "output_type": "execute_result"
    }
   ],
   "source": [
    "x_test.shape"
   ]
  },
  {
   "cell_type": "code",
   "execution_count": 137,
   "metadata": {},
   "outputs": [
    {
     "data": {
      "text/plain": [
       "(366,)"
      ]
     },
     "execution_count": 137,
     "metadata": {},
     "output_type": "execute_result"
    }
   ],
   "source": [
    "y_test.shape"
   ]
  },
  {
   "cell_type": "code",
   "execution_count": 138,
   "metadata": {},
   "outputs": [
    {
     "data": {
      "text/plain": [
       "(854,)"
      ]
     },
     "execution_count": 138,
     "metadata": {},
     "output_type": "execute_result"
    }
   ],
   "source": [
    "y_train.shape"
   ]
  },
  {
   "cell_type": "code",
   "execution_count": 139,
   "metadata": {},
   "outputs": [
    {
     "data": {
      "text/plain": [
       "array([1., 0., 0., 0., 0., 0., 0., 0., 0., 0., 0., 0., 1., 1., 1., 0., 1.,\n",
       "       0., 0., 1., 1., 1., 0., 0., 0., 1., 1., 1., 1., 0., 0., 0., 0., 0.,\n",
       "       1., 0., 0., 1., 0., 0., 0., 1., 1., 0., 1., 0., 0., 1., 0., 0., 1.,\n",
       "       1., 0., 0., 0., 0., 1., 1., 0., 0., 0., 0., 0., 0., 0., 0., 1., 1.,\n",
       "       0., 0., 0., 0., 0., 1., 0., 1., 0., 0., 1., 1., 0., 0., 0., 1., 1.,\n",
       "       1., 0., 1., 0., 1., 1., 1., 0., 0., 1., 0., 0., 1., 1., 0., 1., 1.,\n",
       "       0., 1., 0., 1., 0., 1., 0., 0., 0., 1., 1., 0., 0., 1., 1., 0., 0.,\n",
       "       0., 1., 0., 1., 0., 0., 0., 1., 0., 0., 1., 1., 0., 0., 1., 1., 0.,\n",
       "       1., 1., 0., 0., 0., 0., 1., 1., 1., 0., 0., 1., 0., 0., 1., 1., 0.,\n",
       "       1., 0., 1., 0., 1., 1., 1., 0., 1., 0., 0., 1., 0., 1., 0., 1., 0.,\n",
       "       0., 0., 1., 1., 0., 0., 1., 0., 1., 1., 1., 0., 1., 1., 0., 1., 0.,\n",
       "       0., 0., 0., 1., 0., 0., 0., 0., 1., 0., 1., 0., 1., 1., 0., 1., 0.,\n",
       "       0., 1., 1., 1., 0., 1., 0., 1., 1., 0., 0., 1., 0., 1., 0., 0., 1.,\n",
       "       0., 0., 0., 1., 1., 0., 0., 1., 0., 0., 0., 0., 1., 1., 0., 1., 1.,\n",
       "       0., 1., 1., 0., 0., 1., 0., 0., 1., 1., 1., 0., 1., 1., 0., 0., 1.,\n",
       "       0., 0., 0., 1., 0., 0., 0., 1., 1., 0., 1., 0., 0., 0., 0., 0., 1.,\n",
       "       0., 0., 0., 1., 1., 1., 0., 1., 1., 1., 0., 0., 1., 0., 0., 0., 1.,\n",
       "       0., 0., 1., 0., 0., 0., 1., 1., 1., 0., 0., 0., 1., 1., 0., 0., 1.,\n",
       "       0., 0., 1., 0., 0., 0., 0., 1., 1., 0., 0., 0., 0., 0., 0., 0., 0.,\n",
       "       1., 1., 1., 0., 0., 0., 1., 0., 1., 1., 0., 1., 0., 1., 0., 1., 1.,\n",
       "       1., 1., 1., 0., 1., 0., 1., 0., 0., 1., 0., 1., 0., 1., 1., 0., 1.,\n",
       "       0., 0., 1., 1., 0., 0., 0., 1., 1., 1., 0., 1., 1., 0., 0., 0., 0.,\n",
       "       1., 0., 1., 1., 1., 0., 0., 0., 0., 1., 0., 0., 0., 0., 0., 0., 0.,\n",
       "       1., 1., 1., 0., 0., 1., 1., 1., 1., 0., 1., 0., 0., 0., 1., 1., 1.,\n",
       "       0., 0., 1., 1., 0., 1., 1., 1., 0., 0., 0., 0., 0., 0., 0., 1., 0.,\n",
       "       1., 1., 1., 0., 1., 1., 0., 1., 0., 1., 0., 0., 0., 0., 1., 1., 1.,\n",
       "       0., 0., 0., 1., 1., 0., 0., 1., 1., 1., 1., 1., 1., 0., 1., 1., 1.,\n",
       "       1., 1., 0., 0., 0., 1., 0., 0., 0., 1., 1., 0., 1., 1., 0., 0., 1.,\n",
       "       0., 1., 1., 1., 1., 1., 0., 0., 1., 0., 0., 0., 1., 1., 0., 1., 1.,\n",
       "       0., 1., 0., 0., 1., 1., 1., 0., 0., 0., 1., 1., 0., 0., 0., 0., 0.,\n",
       "       1., 1., 1., 0., 1., 1., 0., 0., 1., 1., 0., 0., 1., 0., 0., 0., 0.,\n",
       "       0., 1., 0., 0., 1., 0., 0., 1., 0., 1., 1., 0., 0., 1., 0., 1., 1.,\n",
       "       1., 0., 0., 0., 1., 1., 1., 1., 1., 1., 0., 1., 1., 0., 0., 1., 1.,\n",
       "       0., 1., 1., 1., 0., 0., 1., 0., 1., 0., 0., 1., 0., 0., 0., 1., 0.,\n",
       "       1., 0., 1., 1., 0., 0., 0., 0., 0., 0., 1., 0., 1., 1., 0., 1., 0.,\n",
       "       0., 0., 1., 1., 0., 0., 0., 0., 0., 1., 0., 0., 0., 1., 0., 1., 0.,\n",
       "       0., 0., 0., 0., 1., 1., 0., 0., 0., 1., 0., 0., 0., 1., 0., 1., 1.,\n",
       "       0., 0., 1., 0., 1., 0., 1., 1., 1., 1., 1., 0., 1., 1., 0., 1., 0.,\n",
       "       1., 0., 1., 1., 1., 1., 1., 1., 0., 0., 0., 1., 0., 1., 0., 1., 0.,\n",
       "       1., 0., 0., 0., 0., 1., 0., 0., 1., 1., 0., 0., 0., 1., 0., 0., 1.,\n",
       "       1., 1., 1., 1., 1., 0., 1., 0., 1., 0., 0., 0., 1., 1., 1., 0., 0.,\n",
       "       1., 0., 0., 1., 1., 1., 1., 0., 0., 0., 1., 0., 0., 1., 0., 1., 0.,\n",
       "       0., 0., 1., 1., 1., 1., 1., 0., 1., 1., 1., 0., 1., 0., 1., 0., 1.,\n",
       "       1., 1., 1., 1., 1., 0., 1., 1., 1., 1., 1., 1., 0., 1., 1., 1., 1.,\n",
       "       1., 1., 0., 0., 0., 1., 1., 1., 1., 1., 1., 0., 0., 0., 1., 1., 1.,\n",
       "       0., 0., 1., 0., 0., 1., 1., 0., 0., 0., 0., 0., 0., 1., 1., 1., 1.,\n",
       "       0., 1., 1., 1., 0., 0., 0., 1., 1., 1., 1., 0., 0., 1., 0., 1., 0.,\n",
       "       1., 0., 0., 1., 1., 1., 0., 0., 0., 0., 0., 1., 1., 1., 1., 0., 0.,\n",
       "       0., 1., 1., 1., 1., 1., 1., 1., 1., 1., 0., 1., 0., 1., 0., 1., 1.,\n",
       "       0., 0., 0., 0., 1., 0., 0., 0., 0., 0., 1., 0., 1., 1., 1., 0., 1.,\n",
       "       0., 1., 1., 0.])"
      ]
     },
     "execution_count": 139,
     "metadata": {},
     "output_type": "execute_result"
    }
   ],
   "source": [
    "y_train"
   ]
  },
  {
   "cell_type": "code",
   "execution_count": 140,
   "metadata": {},
   "outputs": [
    {
     "data": {
      "text/plain": [
       "6"
      ]
     },
     "execution_count": 140,
     "metadata": {},
     "output_type": "execute_result"
    }
   ],
   "source": [
    "x_train.shape[1]"
   ]
  },
  {
   "cell_type": "markdown",
   "metadata": {},
   "source": [
    "# Creating the model"
   ]
  },
  {
   "cell_type": "code",
   "execution_count": 190,
   "metadata": {},
   "outputs": [],
   "source": [
    "model = Sequential()\n",
    "model.add(Dense(6,input_dim=x_train.shape[1],activation='relu'))\n",
    "model.add(Dropout(0.0))\n",
    "model.add(Dense(8,activation='relu'))\n",
    "model.add(Dropout(0.0))\n",
    "model.add(Dense(12,activation='relu'))\n",
    "model.add(Dropout(0.0))\n",
    "model.add(Dense(6,activation='relu'))\n",
    "model.add(Dropout(0.0))\n",
    "model.add(Dense(1,activation='sigmoid'))"
   ]
  },
  {
   "cell_type": "markdown",
   "metadata": {},
   "source": [
    "# Compiling the model "
   ]
  },
  {
   "cell_type": "code",
   "execution_count": 191,
   "metadata": {},
   "outputs": [],
   "source": [
    "learning_rate = 0.001\n",
    "model.compile(loss=\"binary_crossentropy\",metrics=['accuracy'],optimizer=Adam(learning_rate))"
   ]
  },
  {
   "cell_type": "markdown",
   "metadata": {},
   "source": [
    "# Training "
   ]
  },
  {
   "cell_type": "code",
   "execution_count": 192,
   "metadata": {
    "scrolled": true
   },
   "outputs": [
    {
     "name": "stdout",
     "output_type": "stream",
     "text": [
      "Epoch 1/70\n",
      "27/27 [==============================] - 0s 4ms/step - loss: 0.7037 - accuracy: 0.5527 - val_loss: 0.6911 - val_accuracy: 0.6202\n",
      "Epoch 2/70\n",
      "27/27 [==============================] - 0s 2ms/step - loss: 0.6825 - accuracy: 0.6803 - val_loss: 0.6641 - val_accuracy: 0.7842\n",
      "Epoch 3/70\n",
      "27/27 [==============================] - 0s 2ms/step - loss: 0.6555 - accuracy: 0.7658 - val_loss: 0.6110 - val_accuracy: 0.7951\n",
      "Epoch 4/70\n",
      "27/27 [==============================] - 0s 2ms/step - loss: 0.6045 - accuracy: 0.7564 - val_loss: 0.5564 - val_accuracy: 0.7923\n",
      "Epoch 5/70\n",
      "27/27 [==============================] - 0s 1ms/step - loss: 0.5743 - accuracy: 0.7564 - val_loss: 0.5314 - val_accuracy: 0.7896\n",
      "Epoch 6/70\n",
      "27/27 [==============================] - 0s 2ms/step - loss: 0.5575 - accuracy: 0.7600 - val_loss: 0.5158 - val_accuracy: 0.7951\n",
      "Epoch 7/70\n",
      "27/27 [==============================] - 0s 2ms/step - loss: 0.5434 - accuracy: 0.7705 - val_loss: 0.5023 - val_accuracy: 0.7896\n",
      "Epoch 8/70\n",
      "27/27 [==============================] - 0s 2ms/step - loss: 0.5301 - accuracy: 0.7763 - val_loss: 0.4916 - val_accuracy: 0.7923\n",
      "Epoch 9/70\n",
      "27/27 [==============================] - 0s 1ms/step - loss: 0.5190 - accuracy: 0.7775 - val_loss: 0.4805 - val_accuracy: 0.7896\n",
      "Epoch 10/70\n",
      "27/27 [==============================] - 0s 1ms/step - loss: 0.5095 - accuracy: 0.7787 - val_loss: 0.4708 - val_accuracy: 0.7923\n",
      "Epoch 11/70\n",
      "27/27 [==============================] - 0s 2ms/step - loss: 0.4990 - accuracy: 0.7810 - val_loss: 0.4622 - val_accuracy: 0.7896\n",
      "Epoch 12/70\n",
      "27/27 [==============================] - 0s 2ms/step - loss: 0.4905 - accuracy: 0.7810 - val_loss: 0.4556 - val_accuracy: 0.7951\n",
      "Epoch 13/70\n",
      "27/27 [==============================] - 0s 2ms/step - loss: 0.4842 - accuracy: 0.7822 - val_loss: 0.4495 - val_accuracy: 0.7923\n",
      "Epoch 14/70\n",
      "27/27 [==============================] - 0s 2ms/step - loss: 0.4770 - accuracy: 0.7799 - val_loss: 0.4444 - val_accuracy: 0.8005\n",
      "Epoch 15/70\n",
      "27/27 [==============================] - 0s 2ms/step - loss: 0.4721 - accuracy: 0.7857 - val_loss: 0.4399 - val_accuracy: 0.8033\n",
      "Epoch 16/70\n",
      "27/27 [==============================] - 0s 1ms/step - loss: 0.4686 - accuracy: 0.7834 - val_loss: 0.4372 - val_accuracy: 0.7951\n",
      "Epoch 17/70\n",
      "27/27 [==============================] - 0s 2ms/step - loss: 0.4655 - accuracy: 0.7857 - val_loss: 0.4337 - val_accuracy: 0.8033\n",
      "Epoch 18/70\n",
      "27/27 [==============================] - 0s 1ms/step - loss: 0.4622 - accuracy: 0.7904 - val_loss: 0.4332 - val_accuracy: 0.7923\n",
      "Epoch 19/70\n",
      "27/27 [==============================] - 0s 2ms/step - loss: 0.4593 - accuracy: 0.7857 - val_loss: 0.4302 - val_accuracy: 0.8142\n",
      "Epoch 20/70\n",
      "27/27 [==============================] - 0s 2ms/step - loss: 0.4576 - accuracy: 0.7904 - val_loss: 0.4270 - val_accuracy: 0.8087\n",
      "Epoch 21/70\n",
      "27/27 [==============================] - 0s 1ms/step - loss: 0.4518 - accuracy: 0.7916 - val_loss: 0.4264 - val_accuracy: 0.8087\n",
      "Epoch 22/70\n",
      "27/27 [==============================] - 0s 2ms/step - loss: 0.4510 - accuracy: 0.8009 - val_loss: 0.4253 - val_accuracy: 0.8060\n",
      "Epoch 23/70\n",
      "27/27 [==============================] - 0s 2ms/step - loss: 0.4469 - accuracy: 0.7963 - val_loss: 0.4233 - val_accuracy: 0.8169\n",
      "Epoch 24/70\n",
      "27/27 [==============================] - 0s 2ms/step - loss: 0.4438 - accuracy: 0.7939 - val_loss: 0.4236 - val_accuracy: 0.8142\n",
      "Epoch 25/70\n",
      "27/27 [==============================] - 0s 1ms/step - loss: 0.4407 - accuracy: 0.7963 - val_loss: 0.4222 - val_accuracy: 0.8087\n",
      "Epoch 26/70\n",
      "27/27 [==============================] - 0s 1ms/step - loss: 0.4388 - accuracy: 0.7939 - val_loss: 0.4208 - val_accuracy: 0.8142\n",
      "Epoch 27/70\n",
      "27/27 [==============================] - 0s 1ms/step - loss: 0.4374 - accuracy: 0.7927 - val_loss: 0.4209 - val_accuracy: 0.8142\n",
      "Epoch 28/70\n",
      "27/27 [==============================] - 0s 1ms/step - loss: 0.4353 - accuracy: 0.8021 - val_loss: 0.4197 - val_accuracy: 0.8087\n",
      "Epoch 29/70\n",
      "27/27 [==============================] - 0s 1ms/step - loss: 0.4333 - accuracy: 0.8009 - val_loss: 0.4169 - val_accuracy: 0.8142\n",
      "Epoch 30/70\n",
      "27/27 [==============================] - 0s 1ms/step - loss: 0.4314 - accuracy: 0.8044 - val_loss: 0.4172 - val_accuracy: 0.8087\n",
      "Epoch 31/70\n",
      "27/27 [==============================] - 0s 1ms/step - loss: 0.4299 - accuracy: 0.8033 - val_loss: 0.4166 - val_accuracy: 0.8142\n",
      "Epoch 32/70\n",
      "27/27 [==============================] - 0s 1ms/step - loss: 0.4291 - accuracy: 0.8044 - val_loss: 0.4149 - val_accuracy: 0.8087\n",
      "Epoch 33/70\n",
      "27/27 [==============================] - 0s 1ms/step - loss: 0.4270 - accuracy: 0.8033 - val_loss: 0.4147 - val_accuracy: 0.8115\n",
      "Epoch 34/70\n",
      "27/27 [==============================] - 0s 1ms/step - loss: 0.4245 - accuracy: 0.8103 - val_loss: 0.4134 - val_accuracy: 0.8087\n",
      "Epoch 35/70\n",
      "27/27 [==============================] - 0s 1ms/step - loss: 0.4230 - accuracy: 0.8126 - val_loss: 0.4139 - val_accuracy: 0.8087\n",
      "Epoch 36/70\n",
      "27/27 [==============================] - 0s 1ms/step - loss: 0.4214 - accuracy: 0.8173 - val_loss: 0.4126 - val_accuracy: 0.8087\n",
      "Epoch 37/70\n",
      "27/27 [==============================] - 0s 1ms/step - loss: 0.4194 - accuracy: 0.8162 - val_loss: 0.4100 - val_accuracy: 0.8087\n",
      "Epoch 38/70\n",
      "27/27 [==============================] - 0s 2ms/step - loss: 0.4173 - accuracy: 0.8138 - val_loss: 0.4100 - val_accuracy: 0.8087\n",
      "Epoch 39/70\n",
      "27/27 [==============================] - 0s 1ms/step - loss: 0.4162 - accuracy: 0.8173 - val_loss: 0.4086 - val_accuracy: 0.8115\n",
      "Epoch 40/70\n",
      "27/27 [==============================] - 0s 1ms/step - loss: 0.4153 - accuracy: 0.8138 - val_loss: 0.4087 - val_accuracy: 0.8115\n",
      "Epoch 41/70\n",
      "27/27 [==============================] - 0s 2ms/step - loss: 0.4137 - accuracy: 0.8185 - val_loss: 0.4084 - val_accuracy: 0.8087\n",
      "Epoch 42/70\n",
      "27/27 [==============================] - 0s 2ms/step - loss: 0.4136 - accuracy: 0.8185 - val_loss: 0.4108 - val_accuracy: 0.8087\n",
      "Epoch 43/70\n",
      "27/27 [==============================] - 0s 2ms/step - loss: 0.4101 - accuracy: 0.8197 - val_loss: 0.4068 - val_accuracy: 0.8224\n",
      "Epoch 44/70\n",
      "27/27 [==============================] - 0s 1ms/step - loss: 0.4094 - accuracy: 0.8185 - val_loss: 0.4084 - val_accuracy: 0.8115\n",
      "Epoch 45/70\n",
      "27/27 [==============================] - 0s 2ms/step - loss: 0.4089 - accuracy: 0.8220 - val_loss: 0.4087 - val_accuracy: 0.8142\n",
      "Epoch 46/70\n",
      "27/27 [==============================] - 0s 2ms/step - loss: 0.4074 - accuracy: 0.8185 - val_loss: 0.4078 - val_accuracy: 0.8197\n",
      "Epoch 47/70\n",
      "27/27 [==============================] - 0s 1ms/step - loss: 0.4066 - accuracy: 0.8232 - val_loss: 0.4086 - val_accuracy: 0.8115\n",
      "Epoch 48/70\n",
      "27/27 [==============================] - 0s 1ms/step - loss: 0.4054 - accuracy: 0.8173 - val_loss: 0.4081 - val_accuracy: 0.8142\n",
      "Epoch 49/70\n",
      "27/27 [==============================] - 0s 2ms/step - loss: 0.4073 - accuracy: 0.8162 - val_loss: 0.4089 - val_accuracy: 0.8142\n",
      "Epoch 50/70\n",
      "27/27 [==============================] - 0s 2ms/step - loss: 0.4052 - accuracy: 0.8220 - val_loss: 0.4095 - val_accuracy: 0.8115\n",
      "Epoch 51/70\n",
      "27/27 [==============================] - 0s 2ms/step - loss: 0.4031 - accuracy: 0.8185 - val_loss: 0.4072 - val_accuracy: 0.8169\n",
      "Epoch 52/70\n",
      "27/27 [==============================] - 0s 2ms/step - loss: 0.4033 - accuracy: 0.8208 - val_loss: 0.4085 - val_accuracy: 0.8115\n",
      "Epoch 53/70\n",
      "27/27 [==============================] - 0s 2ms/step - loss: 0.4020 - accuracy: 0.8208 - val_loss: 0.4097 - val_accuracy: 0.8115\n",
      "Epoch 54/70\n",
      "27/27 [==============================] - 0s 2ms/step - loss: 0.4043 - accuracy: 0.8162 - val_loss: 0.4089 - val_accuracy: 0.8169\n",
      "Epoch 55/70\n",
      "27/27 [==============================] - 0s 1ms/step - loss: 0.4031 - accuracy: 0.8208 - val_loss: 0.4088 - val_accuracy: 0.8197\n",
      "Epoch 56/70\n",
      "27/27 [==============================] - 0s 1ms/step - loss: 0.4005 - accuracy: 0.8220 - val_loss: 0.4092 - val_accuracy: 0.8224\n",
      "Epoch 57/70\n",
      "27/27 [==============================] - 0s 2ms/step - loss: 0.4020 - accuracy: 0.8208 - val_loss: 0.4108 - val_accuracy: 0.8169\n",
      "Epoch 58/70\n",
      "27/27 [==============================] - 0s 2ms/step - loss: 0.3995 - accuracy: 0.8197 - val_loss: 0.4111 - val_accuracy: 0.8197\n",
      "Epoch 59/70\n"
     ]
    },
    {
     "name": "stdout",
     "output_type": "stream",
     "text": [
      "27/27 [==============================] - 0s 2ms/step - loss: 0.3985 - accuracy: 0.8197 - val_loss: 0.4105 - val_accuracy: 0.8197\n",
      "Epoch 60/70\n",
      "27/27 [==============================] - 0s 2ms/step - loss: 0.3978 - accuracy: 0.8185 - val_loss: 0.4100 - val_accuracy: 0.8197\n",
      "Epoch 61/70\n",
      "27/27 [==============================] - 0s 2ms/step - loss: 0.3977 - accuracy: 0.8232 - val_loss: 0.4098 - val_accuracy: 0.8169\n",
      "Epoch 62/70\n",
      "27/27 [==============================] - 0s 2ms/step - loss: 0.3968 - accuracy: 0.8232 - val_loss: 0.4092 - val_accuracy: 0.8224\n",
      "Epoch 63/70\n",
      "27/27 [==============================] - 0s 1ms/step - loss: 0.3965 - accuracy: 0.8197 - val_loss: 0.4089 - val_accuracy: 0.8224\n",
      "Epoch 64/70\n",
      "27/27 [==============================] - 0s 1ms/step - loss: 0.3954 - accuracy: 0.8197 - val_loss: 0.4090 - val_accuracy: 0.8224\n",
      "Epoch 65/70\n",
      "27/27 [==============================] - 0s 1ms/step - loss: 0.3967 - accuracy: 0.8208 - val_loss: 0.4096 - val_accuracy: 0.8197\n",
      "Epoch 66/70\n",
      "27/27 [==============================] - 0s 1ms/step - loss: 0.3963 - accuracy: 0.8185 - val_loss: 0.4122 - val_accuracy: 0.8197\n",
      "Epoch 67/70\n",
      "27/27 [==============================] - 0s 1ms/step - loss: 0.3957 - accuracy: 0.8185 - val_loss: 0.4119 - val_accuracy: 0.8169\n",
      "Epoch 68/70\n",
      "27/27 [==============================] - 0s 1ms/step - loss: 0.3949 - accuracy: 0.8220 - val_loss: 0.4104 - val_accuracy: 0.8224\n",
      "Epoch 69/70\n",
      "27/27 [==============================] - 0s 2ms/step - loss: 0.3931 - accuracy: 0.8173 - val_loss: 0.4101 - val_accuracy: 0.8224\n",
      "Epoch 70/70\n",
      "27/27 [==============================] - 0s 2ms/step - loss: 0.3934 - accuracy: 0.8220 - val_loss: 0.4153 - val_accuracy: 0.8115\n"
     ]
    }
   ],
   "source": [
    "epochs = 70\n",
    "history = model.fit(x_train, y_train, batch_size=32, epochs=epochs,validation_data=(x_test, y_test))"
   ]
  },
  {
   "cell_type": "markdown",
   "metadata": {},
   "source": [
    "# Ploting "
   ]
  },
  {
   "cell_type": "code",
   "execution_count": 193,
   "metadata": {},
   "outputs": [
    {
     "data": {
      "image/png": "[encoded data removed]",
      "text/plain": [
       "<Figure size 432x288 with 1 Axes>"
      ]
     },
     "metadata": {
      "needs_background": "light"
     },
     "output_type": "display_data"
    },
    {
     "data": {
      "image/png": "[encoded data removed]",
      "text/plain": [
       "<Figure size 432x288 with 1 Axes>"
      ]
     },
     "metadata": {
      "needs_background": "light"
     },
     "output_type": "display_data"
    }
   ],
   "source": [
    "plt.figure(0)\n",
    "plt.plot(history.history['accuracy'],label='training accuracy')\n",
    "plt.plot(history.history['val_accuracy'],label='val_accuracy')\n",
    "plt.title('Accuracy')\n",
    "plt.xlabel('epochs')\n",
    "plt.ylabel('accuracy')\n",
    "plt.legend()\n",
    "plt.show()\n",
    "\n",
    "plt.figure(1)\n",
    "plt.plot(history.history['loss'], label='training loss')\n",
    "plt.plot(history.history['val_loss'], label='val loss')\n",
    "plt.title('Loss')\n",
    "plt.xlabel('epochs')\n",
    "plt.ylabel('loss')\n",
    "plt.legend()\n",
    "plt.show()"
   ]
  },
  {
   "cell_type": "code",
   "execution_count": 194,
   "metadata": {
    "scrolled": true
   },
   "outputs": [
    {
     "name": "stdout",
     "output_type": "stream",
     "text": [
      "Accuracy on training data =  82.31850117096019 %\n",
      "Accuracy on test data =  81.14754098360656 %\n"
     ]
    }
   ],
   "source": [
    "from sklearn.metrics import accuracy_score\n",
    "\n",
    "# prediction on training data\n",
    "label = np.array(y_train)\n",
    "pred_train = model.predict_classes(x_train)\n",
    "print(\"Accuracy on training data = \",accuracy_score(label,pred_train)*100,\"%\")\n",
    "\n",
    "# prediction on test data\n",
    "label = np.array(y_test)\n",
    "pred_test = model.predict_classes(x_test)\n",
    "print(\"Accuracy on test data = \",accuracy_score(label,pred_test)*100,\"%\")\n",
    "# print(pred_test.reshape(1,y_test.shape[0]))\n",
    "# print(label)"
   ]
  },
  {
   "cell_type": "code",
   "execution_count": 195,
   "metadata": {},
   "outputs": [
    {
     "name": "stdout",
     "output_type": "stream",
     "text": [
      "***************************************************************\n",
      "Analysis on test data for good road\n",
      "\n",
      "true detection                        : 83.52272727272727 %\n",
      "false detection - bad is predicted    : 16.477272727272727 %\n",
      "***************************************************************\n",
      "Analysis on test data for bad road\n",
      "\n",
      "true detection                         : 78.94736842105263 %\n",
      "false detection - good is predicted    : 21.052631578947366 %\n"
     ]
    }
   ],
   "source": [
    "# analysis on test data\n",
    "pred_test = model.predict_classes(x_test)\n",
    "\n",
    "# good road\n",
    "count1=0\n",
    "count2=0\n",
    "\n",
    "for i in range(0,x_test.shape[0]):\n",
    "    \n",
    "    if (int(y_test[i])==0 and pred_test[i]==0):\n",
    "        count1 = count1+1\n",
    "    elif(int(y_test[i])==0 and pred_test[i]==1): \n",
    "        count2 = count2+1\n",
    "total = count1+count2\n",
    "print(\"***************************************************************\")\n",
    "print(\"Analysis on test data for good road\")\n",
    "print()\n",
    "print(\"true detection                        :\",(count1/total)*100,\"%\")\n",
    "print(\"false detection - bad is predicted    :\",(count2/total)*100,\"%\")\n",
    "\n",
    "# bad road\n",
    "count1=0\n",
    "count2=0\n",
    "\n",
    "for i in range(0,x_test.shape[0]):\n",
    "    \n",
    "    if (int(y_test[i])==1 and pred_test[i]==1):\n",
    "        count1 = count1+1\n",
    "    elif(int(y_test[i])==1 and pred_test[i]==0): \n",
    "        count2 = count2+1\n",
    "total = count1+count2\n",
    "print(\"***************************************************************\")\n",
    "print(\"Analysis on test data for bad road\")\n",
    "print()\n",
    "print(\"true detection                         :\",(count1/total)*100,\"%\")\n",
    "print(\"false detection - good is predicted    :\",(count2/total)*100,\"%\")"
   ]
  },
  {
   "cell_type": "code",
   "execution_count": 196,
   "metadata": {},
   "outputs": [
    {
     "name": "stdout",
     "output_type": "stream",
     "text": [
      "probability :  [[0.06296328]]\n",
      "Class       :  [[0]]\n"
     ]
    }
   ],
   "source": [
    "sample = np.array([data[604][0:-1]])\n",
    "prob = model.predict(sample)\n",
    "zone = model.predict_classes(sample)\n",
    "print(\"probability : \",prob)\n",
    "print(\"Class       : \",zone)"
   ]
  },
  {
   "cell_type": "code",
   "execution_count": 197,
   "metadata": {},
   "outputs": [
    {
     "name": "stdout",
     "output_type": "stream",
     "text": [
      "probability :  [[0.81094223]]\n",
      "Class       :  [[1]]\n"
     ]
    }
   ],
   "source": [
    "sample = np.array([data[605][0:-1]])\n",
    "prob = model.predict(sample)\n",
    "zone = model.predict_classes(sample)\n",
    "print(\"probability : \",prob)\n",
    "print(\"Class       : \",zone)"
   ]
  },
  {
   "cell_type": "code",
   "execution_count": 198,
   "metadata": {},
   "outputs": [
    {
     "name": "stdout",
     "output_type": "stream",
     "text": [
      "probability :  [[0.96857744]]\n",
      "Class       :  [[1]]\n"
     ]
    }
   ],
   "source": [
    "sample = np.array([data[606][0:-1]])\n",
    "prob = model.predict(sample)\n",
    "zone = model.predict_classes(sample)\n",
    "print(\"probability : \",prob)\n",
    "print(\"Class       : \",zone)"
   ]
  },
  {
   "cell_type": "code",
   "execution_count": 211,
   "metadata": {},
   "outputs": [
    {
     "name": "stdout",
     "output_type": "stream",
     "text": [
      "probability :  [[0.69001675]]\n",
      "Class       :  [[1]]\n"
     ]
    }
   ],
   "source": [
    "sample = np.array([data[3][0:-1]])\n",
    "prob = model.predict(sample)\n",
    "zone = model.predict_classes(sample)\n",
    "print(\"probability : \",prob)\n",
    "print(\"Class       : \",zone)"
   ]
  },
  {
   "cell_type": "code",
   "execution_count": null,
   "metadata": {},
   "outputs": [],
   "source": []
  },
  {
   "cell_type": "code",
   "execution_count": null,
   "metadata": {},
   "outputs": [],
   "source": []
  },
  {
   "cell_type": "code",
   "execution_count": 69,
   "metadata": {},
   "outputs": [],
   "source": [
    "# model.save('road_analytics_model_extreme_end.h5')"
   ]
  },
  {
   "cell_type": "markdown",
   "metadata": {},
   "source": [
    "# Loading the model"
   ]
  },
  {
   "cell_type": "code",
   "execution_count": 70,
   "metadata": {},
   "outputs": [],
   "source": [
    "# from keras.models import load_model\n",
    "\n",
    "# model = load_model('road_analytics_model_extreme_end.h5')"
   ]
  },
  {
   "cell_type": "code",
   "execution_count": 72,
   "metadata": {},
   "outputs": [
    {
     "name": "stdout",
     "output_type": "stream",
     "text": [
      "Model: \"sequential_8\"\n",
      "_________________________________________________________________\n",
      "Layer (type)                 Output Shape              Param #   \n",
      "=================================================================\n",
      "dense_40 (Dense)             (None, 4)                 20        \n",
      "_________________________________________________________________\n",
      "dropout_32 (Dropout)         (None, 4)                 0         \n",
      "_________________________________________________________________\n",
      "dense_41 (Dense)             (None, 8)                 40        \n",
      "_________________________________________________________________\n",
      "dropout_33 (Dropout)         (None, 8)                 0         \n",
      "_________________________________________________________________\n",
      "dense_42 (Dense)             (None, 16)                144       \n",
      "_________________________________________________________________\n",
      "dropout_34 (Dropout)         (None, 16)                0         \n",
      "_________________________________________________________________\n",
      "dense_43 (Dense)             (None, 8)                 136       \n",
      "_________________________________________________________________\n",
      "dropout_35 (Dropout)         (None, 8)                 0         \n",
      "_________________________________________________________________\n",
      "dense_44 (Dense)             (None, 1)                 9         \n",
      "=================================================================\n",
      "Total params: 349\n",
      "Trainable params: 349\n",
      "Non-trainable params: 0\n",
      "_________________________________________________________________\n"
     ]
    }
   ],
   "source": [
    "model.summary()"
   ]
  },
  {
   "cell_type": "code",
   "execution_count": 61,
   "metadata": {},
   "outputs": [
    {
     "data": {
      "text/plain": [
       "array([[1]])"
      ]
     },
     "execution_count": 61,
     "metadata": {},
     "output_type": "execute_result"
    }
   ],
   "source": [
    "# Trying with real world input\n",
    "samples = np.array([data[0][0:-1]])     \n",
    "prediction = model.predict_classes(samples)\n",
    "prediction"
   ]
  },
  {
   "cell_type": "code",
   "execution_count": 74,
   "metadata": {},
   "outputs": [
    {
     "data": {
      "text/plain": [
       "array([[1]])"
      ]
     },
     "execution_count": 74,
     "metadata": {},
     "output_type": "execute_result"
    }
   ],
   "source": [
    "samples = np.array([data[6][0:-1]])     \n",
    "prediction = model.predict_classes(samples)\n",
    "prediction"
   ]
  },
  {
   "cell_type": "code",
   "execution_count": null,
   "metadata": {},
   "outputs": [],
   "source": []
  }
 ],
 "metadata": {
  "kernelspec": {
   "display_name": "Python 3",
   "language": "python",
   "name": "python3"
  },
  "language_info": {
   "codemirror_mode": {
    "name": "ipython",
    "version": 3
   },
   "file_extension": ".py",
   "mimetype": "text/x-python",
   "name": "python",
   "nbconvert_exporter": "python",
   "pygments_lexer": "ipython3",
   "version": "3.7.6"
  }
 },
 "nbformat": 4,
 "nbformat_minor": 4
}
