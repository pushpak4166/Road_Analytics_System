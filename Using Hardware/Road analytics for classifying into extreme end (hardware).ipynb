{
 "cells": [
  {
   "cell_type": "markdown",
   "metadata": {},
   "source": [
    "# Road analysis for classifying into extreme end "
   ]
  },
  {
   "cell_type": "code",
   "execution_count": 1,
   "metadata": {},
   "outputs": [],
   "source": [
    "from sklearn.model_selection import train_test_split\n",
    "from keras.models import Sequential\n",
    "from keras.layers.core import Dense,Dropout\n",
    "from keras.optimizers import Adam\n",
    "import pandas as pd\n",
    "import numpy as np\n",
    "import matplotlib.pyplot as plt "
   ]
  },
  {
   "cell_type": "code",
   "execution_count": 2,
   "metadata": {},
   "outputs": [],
   "source": [
    "data = np.loadtxt(\"data/dataset_0_1.csv\",delimiter=\",\")"
   ]
  },
  {
   "cell_type": "code",
   "execution_count": 3,
   "metadata": {},
   "outputs": [
    {
     "data": {
      "text/plain": [
       "(1359, 7)"
      ]
     },
     "execution_count": 3,
     "metadata": {},
     "output_type": "execute_result"
    }
   ],
   "source": [
    "data.shape"
   ]
  },
  {
   "cell_type": "code",
   "execution_count": 4,
   "metadata": {},
   "outputs": [
    {
     "name": "stdout",
     "output_type": "stream",
     "text": [
      "(1359, 6)\n",
      "(1359,)\n"
     ]
    }
   ],
   "source": [
    "x = data[:,0:-1]\n",
    "y = data[:,-1]\n",
    "\n",
    "# Spliting dataset into train and test \n",
    "x_train,x_test,y_train,y_test = train_test_split(x,y,test_size=0.3,random_state=10)\n",
    "print(x.shape)\n",
    "print(y.shape)"
   ]
  },
  {
   "cell_type": "code",
   "execution_count": 5,
   "metadata": {},
   "outputs": [
    {
     "name": "stdout",
     "output_type": "stream",
     "text": [
      "0 : 691\n",
      "1 : 668\n"
     ]
    }
   ],
   "source": [
    "count_of_0=0 \n",
    "for i in y:\n",
    "    if (i==0) :\n",
    "        count_of_0=count_of_0+1\n",
    "print(\"0 :\",count_of_0)\n",
    "count_of_1=0 \n",
    "for i in y:\n",
    "    if (i==1) :\n",
    "        count_of_1=count_of_1+1\n",
    "print(\"1 :\",count_of_1)"
   ]
  },
  {
   "cell_type": "code",
   "execution_count": 6,
   "metadata": {
    "scrolled": true
   },
   "outputs": [
    {
     "data": {
      "text/plain": [
       "(951, 6)"
      ]
     },
     "execution_count": 6,
     "metadata": {},
     "output_type": "execute_result"
    }
   ],
   "source": [
    "x_train.shape"
   ]
  },
  {
   "cell_type": "code",
   "execution_count": 7,
   "metadata": {
    "scrolled": true
   },
   "outputs": [
    {
     "data": {
      "text/plain": [
       "(408, 6)"
      ]
     },
     "execution_count": 7,
     "metadata": {},
     "output_type": "execute_result"
    }
   ],
   "source": [
    "x_test.shape"
   ]
  },
  {
   "cell_type": "code",
   "execution_count": 8,
   "metadata": {},
   "outputs": [
    {
     "data": {
      "text/plain": [
       "(408,)"
      ]
     },
     "execution_count": 8,
     "metadata": {},
     "output_type": "execute_result"
    }
   ],
   "source": [
    "y_test.shape"
   ]
  },
  {
   "cell_type": "code",
   "execution_count": 9,
   "metadata": {},
   "outputs": [
    {
     "data": {
      "text/plain": [
       "(951,)"
      ]
     },
     "execution_count": 9,
     "metadata": {},
     "output_type": "execute_result"
    }
   ],
   "source": [
    "y_train.shape"
   ]
  },
  {
   "cell_type": "code",
   "execution_count": 10,
   "metadata": {},
   "outputs": [
    {
     "data": {
      "text/plain": [
       "array([0., 0., 1., 1., 1., 1., 0., 0., 0., 0., 0., 1., 0., 0., 1., 0., 0.,\n",
       "       0., 1., 1., 0., 1., 0., 0., 0., 0., 1., 1., 1., 0., 1., 0., 1., 0.,\n",
       "       1., 0., 1., 0., 0., 0., 1., 1., 0., 0., 0., 1., 0., 0., 1., 0., 1.,\n",
       "       0., 0., 0., 0., 0., 0., 0., 0., 1., 0., 1., 0., 0., 0., 0., 0., 0.,\n",
       "       1., 0., 0., 1., 0., 1., 1., 0., 1., 1., 1., 0., 1., 1., 1., 0., 0.,\n",
       "       0., 1., 1., 0., 0., 0., 1., 1., 0., 1., 0., 0., 0., 1., 1., 1., 1.,\n",
       "       1., 1., 1., 1., 0., 1., 0., 1., 0., 1., 1., 0., 1., 1., 1., 1., 0.,\n",
       "       0., 1., 0., 1., 0., 1., 1., 1., 1., 1., 1., 1., 1., 1., 1., 0., 1.,\n",
       "       0., 0., 1., 0., 1., 0., 0., 1., 1., 0., 1., 1., 1., 1., 1., 0., 1.,\n",
       "       0., 0., 0., 1., 1., 0., 1., 1., 1., 0., 1., 0., 0., 1., 1., 0., 0.,\n",
       "       1., 0., 0., 1., 1., 0., 1., 0., 0., 0., 0., 0., 0., 0., 1., 0., 0.,\n",
       "       1., 1., 0., 0., 1., 1., 0., 1., 1., 0., 0., 0., 1., 1., 0., 1., 0.,\n",
       "       1., 1., 0., 1., 1., 1., 1., 1., 1., 1., 0., 1., 0., 1., 0., 0., 1.,\n",
       "       0., 1., 0., 0., 1., 0., 1., 1., 1., 1., 1., 0., 0., 0., 0., 1., 0.,\n",
       "       1., 1., 0., 1., 0., 1., 1., 0., 0., 1., 0., 1., 0., 0., 0., 0., 1.,\n",
       "       0., 1., 0., 1., 0., 0., 0., 1., 0., 0., 1., 1., 0., 1., 1., 1., 1.,\n",
       "       0., 1., 1., 1., 1., 1., 0., 1., 1., 1., 0., 1., 0., 0., 1., 1., 0.,\n",
       "       0., 1., 0., 0., 0., 1., 0., 1., 1., 0., 0., 0., 0., 1., 1., 1., 0.,\n",
       "       0., 0., 0., 0., 0., 0., 1., 1., 0., 1., 1., 1., 1., 0., 1., 0., 1.,\n",
       "       1., 1., 1., 0., 1., 1., 1., 0., 0., 1., 1., 0., 1., 0., 0., 1., 1.,\n",
       "       0., 0., 0., 0., 0., 0., 0., 1., 0., 1., 0., 1., 1., 0., 0., 0., 1.,\n",
       "       1., 0., 1., 0., 0., 0., 0., 0., 0., 0., 0., 1., 1., 0., 1., 1., 1.,\n",
       "       1., 0., 0., 0., 1., 0., 1., 1., 1., 1., 1., 1., 0., 0., 0., 0., 0.,\n",
       "       0., 0., 0., 1., 1., 1., 0., 1., 0., 1., 0., 1., 0., 1., 0., 0., 0.,\n",
       "       1., 0., 0., 0., 1., 0., 0., 0., 0., 1., 1., 0., 0., 0., 1., 1., 0.,\n",
       "       0., 0., 0., 0., 1., 1., 1., 1., 1., 1., 1., 0., 1., 0., 0., 0., 1.,\n",
       "       1., 1., 1., 0., 0., 0., 0., 1., 1., 0., 0., 0., 0., 0., 1., 0., 1.,\n",
       "       1., 0., 1., 1., 0., 0., 1., 0., 1., 1., 1., 1., 1., 0., 1., 0., 0.,\n",
       "       1., 0., 1., 0., 0., 0., 1., 0., 0., 0., 1., 1., 1., 1., 0., 1., 1.,\n",
       "       1., 0., 1., 0., 0., 1., 1., 1., 0., 0., 0., 1., 0., 1., 0., 1., 0.,\n",
       "       1., 1., 0., 0., 1., 1., 1., 0., 0., 0., 0., 0., 0., 0., 1., 0., 0.,\n",
       "       0., 0., 1., 1., 1., 1., 1., 0., 0., 0., 0., 0., 0., 1., 0., 0., 1.,\n",
       "       0., 0., 1., 0., 0., 1., 0., 0., 0., 0., 0., 1., 0., 0., 0., 0., 1.,\n",
       "       0., 0., 1., 1., 1., 0., 1., 1., 1., 0., 1., 1., 1., 1., 1., 1., 0.,\n",
       "       1., 0., 1., 1., 0., 1., 1., 0., 0., 1., 0., 0., 0., 0., 1., 1., 1.,\n",
       "       0., 0., 0., 1., 0., 0., 0., 1., 0., 0., 0., 0., 0., 0., 0., 0., 1.,\n",
       "       1., 0., 1., 1., 0., 0., 1., 0., 1., 0., 0., 1., 1., 1., 1., 1., 1.,\n",
       "       1., 0., 1., 0., 1., 1., 0., 0., 1., 1., 1., 1., 1., 0., 0., 1., 1.,\n",
       "       1., 0., 1., 1., 0., 0., 0., 1., 1., 1., 0., 0., 0., 1., 1., 1., 1.,\n",
       "       1., 1., 1., 1., 0., 0., 0., 1., 0., 1., 0., 0., 0., 1., 1., 1., 1.,\n",
       "       0., 1., 0., 1., 1., 0., 1., 0., 0., 1., 1., 0., 0., 0., 1., 1., 1.,\n",
       "       0., 0., 0., 0., 1., 1., 0., 0., 0., 1., 0., 1., 1., 0., 1., 1., 0.,\n",
       "       0., 0., 0., 1., 0., 1., 1., 0., 0., 1., 0., 0., 0., 0., 1., 0., 0.,\n",
       "       1., 1., 0., 1., 0., 1., 1., 0., 1., 0., 1., 0., 1., 0., 0., 0., 0.,\n",
       "       0., 0., 0., 0., 1., 0., 1., 1., 0., 0., 1., 0., 1., 0., 0., 1., 1.,\n",
       "       0., 0., 1., 0., 0., 1., 0., 1., 1., 1., 0., 0., 0., 0., 0., 1., 0.,\n",
       "       1., 0., 1., 1., 1., 0., 0., 0., 0., 1., 0., 0., 0., 0., 1., 1., 0.,\n",
       "       1., 1., 1., 0., 1., 1., 0., 1., 1., 1., 0., 0., 1., 1., 0., 0., 1.,\n",
       "       0., 0., 0., 1., 0., 1., 0., 0., 0., 0., 1., 0., 1., 0., 1., 1., 0.,\n",
       "       0., 1., 1., 0., 1., 1., 1., 1., 0., 0., 0., 0., 1., 0., 1., 1., 0.,\n",
       "       1., 0., 1., 0., 1., 0., 0., 0., 1., 1., 0., 0., 0., 1., 0., 0., 1.,\n",
       "       0., 1., 0., 0., 0., 0., 0., 1., 0., 1., 0., 1., 1., 0., 1., 0., 0.,\n",
       "       1., 1., 1., 0., 0., 1., 1., 0., 1., 0., 0., 0., 0., 1., 1., 0., 0.,\n",
       "       1., 0., 0., 1., 0., 1., 1., 1., 0., 1., 0., 1., 1., 0., 0., 0., 1.,\n",
       "       0., 0., 0., 0., 0., 0., 1., 1., 0., 1., 1., 1., 1., 1., 0., 1., 1.,\n",
       "       1., 1., 0., 1., 1., 0., 1., 0., 0., 1., 0., 0., 1., 1., 1., 1.])"
      ]
     },
     "execution_count": 10,
     "metadata": {},
     "output_type": "execute_result"
    }
   ],
   "source": [
    "y_train"
   ]
  },
  {
   "cell_type": "code",
   "execution_count": 11,
   "metadata": {},
   "outputs": [
    {
     "data": {
      "text/plain": [
       "6"
      ]
     },
     "execution_count": 11,
     "metadata": {},
     "output_type": "execute_result"
    }
   ],
   "source": [
    "x_train.shape[1]"
   ]
  },
  {
   "cell_type": "markdown",
   "metadata": {},
   "source": [
    "# Creating the model"
   ]
  },
  {
   "cell_type": "code",
   "execution_count": 12,
   "metadata": {},
   "outputs": [],
   "source": [
    "model = Sequential()\n",
    "model.add(Dense(6,input_dim=x_train.shape[1],activation='relu'))\n",
    "model.add(Dropout(0.0))\n",
    "model.add(Dense(8,activation='relu'))\n",
    "model.add(Dropout(0.0))\n",
    "model.add(Dense(16,activation='relu'))\n",
    "model.add(Dropout(0.0))\n",
    "model.add(Dense(6,activation='relu'))\n",
    "model.add(Dropout(0.0))\n",
    "model.add(Dense(1,activation='sigmoid'))"
   ]
  },
  {
   "cell_type": "markdown",
   "metadata": {},
   "source": [
    "# Compiling the model "
   ]
  },
  {
   "cell_type": "code",
   "execution_count": 13,
   "metadata": {},
   "outputs": [],
   "source": [
    "learning_rate = 0.001\n",
    "model.compile(loss=\"binary_crossentropy\",metrics=['accuracy'],optimizer=Adam(learning_rate))"
   ]
  },
  {
   "cell_type": "markdown",
   "metadata": {},
   "source": [
    "# Training "
   ]
  },
  {
   "cell_type": "code",
   "execution_count": 14,
   "metadata": {
    "scrolled": true
   },
   "outputs": [
    {
     "name": "stdout",
     "output_type": "stream",
     "text": [
      "Epoch 1/70\n",
      " 1/30 [>.............................] - ETA: 0s - loss: 0.7010 - accuracy: 0.3438WARNING:tensorflow:Callbacks method `on_train_batch_end` is slow compared to the batch time (batch time: 0.0000s vs `on_train_batch_end` time: 0.0010s). Check your callbacks.\n",
      "30/30 [==============================] - 0s 7ms/step - loss: 0.6895 - accuracy: 0.6782 - val_loss: 0.6771 - val_accuracy: 0.7892\n",
      "Epoch 2/70\n",
      "30/30 [==============================] - 0s 1ms/step - loss: 0.6615 - accuracy: 0.8002 - val_loss: 0.6476 - val_accuracy: 0.8186\n",
      "Epoch 3/70\n",
      "30/30 [==============================] - 0s 1ms/step - loss: 0.6243 - accuracy: 0.8170 - val_loss: 0.6004 - val_accuracy: 0.8284\n",
      "Epoch 4/70\n",
      "30/30 [==============================] - 0s 2ms/step - loss: 0.5788 - accuracy: 0.8181 - val_loss: 0.5487 - val_accuracy: 0.8235\n",
      "Epoch 5/70\n",
      "30/30 [==============================] - 0s 1ms/step - loss: 0.5381 - accuracy: 0.8286 - val_loss: 0.5032 - val_accuracy: 0.8358\n",
      "Epoch 6/70\n",
      "30/30 [==============================] - 0s 1ms/step - loss: 0.5061 - accuracy: 0.8286 - val_loss: 0.4689 - val_accuracy: 0.8431\n",
      "Epoch 7/70\n",
      "30/30 [==============================] - ETA: 0s - loss: 0.4414 - accuracy: 0.96 - 0s 2ms/step - loss: 0.4805 - accuracy: 0.8360 - val_loss: 0.4408 - val_accuracy: 0.8554\n",
      "Epoch 8/70\n",
      "30/30 [==============================] - 0s 2ms/step - loss: 0.4566 - accuracy: 0.8381 - val_loss: 0.4169 - val_accuracy: 0.8554\n",
      "Epoch 9/70\n",
      "30/30 [==============================] - 0s 1ms/step - loss: 0.4333 - accuracy: 0.8402 - val_loss: 0.3976 - val_accuracy: 0.8382\n",
      "Epoch 10/70\n",
      "30/30 [==============================] - 0s 2ms/step - loss: 0.4124 - accuracy: 0.8412 - val_loss: 0.3793 - val_accuracy: 0.8407\n",
      "Epoch 11/70\n",
      "30/30 [==============================] - 0s 2ms/step - loss: 0.3973 - accuracy: 0.8412 - val_loss: 0.3669 - val_accuracy: 0.8431\n",
      "Epoch 12/70\n",
      "30/30 [==============================] - 0s 1ms/step - loss: 0.3849 - accuracy: 0.8454 - val_loss: 0.3597 - val_accuracy: 0.8505\n",
      "Epoch 13/70\n",
      "30/30 [==============================] - 0s 1ms/step - loss: 0.3809 - accuracy: 0.8433 - val_loss: 0.3588 - val_accuracy: 0.8480\n",
      "Epoch 14/70\n",
      "30/30 [==============================] - 0s 2ms/step - loss: 0.3709 - accuracy: 0.8475 - val_loss: 0.3448 - val_accuracy: 0.8382\n",
      "Epoch 15/70\n",
      "30/30 [==============================] - 0s 2ms/step - loss: 0.3667 - accuracy: 0.8465 - val_loss: 0.3478 - val_accuracy: 0.8554\n",
      "Epoch 16/70\n",
      "30/30 [==============================] - 0s 1ms/step - loss: 0.3645 - accuracy: 0.8486 - val_loss: 0.3450 - val_accuracy: 0.8554\n",
      "Epoch 17/70\n",
      "30/30 [==============================] - 0s 2ms/step - loss: 0.3605 - accuracy: 0.8486 - val_loss: 0.3404 - val_accuracy: 0.8480\n",
      "Epoch 18/70\n",
      "30/30 [==============================] - 0s 1ms/step - loss: 0.3591 - accuracy: 0.8528 - val_loss: 0.3402 - val_accuracy: 0.8431\n",
      "Epoch 19/70\n",
      "30/30 [==============================] - 0s 1ms/step - loss: 0.3564 - accuracy: 0.8528 - val_loss: 0.3390 - val_accuracy: 0.8505\n",
      "Epoch 20/70\n",
      "30/30 [==============================] - 0s 1ms/step - loss: 0.3607 - accuracy: 0.8496 - val_loss: 0.3355 - val_accuracy: 0.8505\n",
      "Epoch 21/70\n",
      "30/30 [==============================] - 0s 2ms/step - loss: 0.3538 - accuracy: 0.8549 - val_loss: 0.3373 - val_accuracy: 0.8431\n",
      "Epoch 22/70\n",
      "30/30 [==============================] - 0s 2ms/step - loss: 0.3526 - accuracy: 0.8549 - val_loss: 0.3421 - val_accuracy: 0.8480\n",
      "Epoch 23/70\n",
      "30/30 [==============================] - 0s 1ms/step - loss: 0.3538 - accuracy: 0.8528 - val_loss: 0.3397 - val_accuracy: 0.8529\n",
      "Epoch 24/70\n",
      "30/30 [==============================] - 0s 2ms/step - loss: 0.3503 - accuracy: 0.8528 - val_loss: 0.3361 - val_accuracy: 0.8505\n",
      "Epoch 25/70\n",
      "30/30 [==============================] - 0s 1ms/step - loss: 0.3500 - accuracy: 0.8538 - val_loss: 0.3356 - val_accuracy: 0.8529\n",
      "Epoch 26/70\n",
      "30/30 [==============================] - 0s 2ms/step - loss: 0.3514 - accuracy: 0.8580 - val_loss: 0.3346 - val_accuracy: 0.8505\n",
      "Epoch 27/70\n",
      "30/30 [==============================] - 0s 1ms/step - loss: 0.3472 - accuracy: 0.8591 - val_loss: 0.3330 - val_accuracy: 0.8578\n",
      "Epoch 28/70\n",
      "30/30 [==============================] - 0s 2ms/step - loss: 0.3459 - accuracy: 0.8559 - val_loss: 0.3371 - val_accuracy: 0.8529\n",
      "Epoch 29/70\n",
      "30/30 [==============================] - 0s 1ms/step - loss: 0.3461 - accuracy: 0.8580 - val_loss: 0.3370 - val_accuracy: 0.8603\n",
      "Epoch 30/70\n",
      "30/30 [==============================] - 0s 1ms/step - loss: 0.3460 - accuracy: 0.8591 - val_loss: 0.3337 - val_accuracy: 0.8554\n",
      "Epoch 31/70\n",
      "30/30 [==============================] - 0s 2ms/step - loss: 0.3446 - accuracy: 0.8570 - val_loss: 0.3380 - val_accuracy: 0.8578\n",
      "Epoch 32/70\n",
      "30/30 [==============================] - 0s 1ms/step - loss: 0.3433 - accuracy: 0.8591 - val_loss: 0.3325 - val_accuracy: 0.8578\n",
      "Epoch 33/70\n",
      "30/30 [==============================] - 0s 1ms/step - loss: 0.3423 - accuracy: 0.8612 - val_loss: 0.3352 - val_accuracy: 0.8554\n",
      "Epoch 34/70\n",
      "30/30 [==============================] - 0s 1ms/step - loss: 0.3414 - accuracy: 0.8591 - val_loss: 0.3353 - val_accuracy: 0.8603\n",
      "Epoch 35/70\n",
      "30/30 [==============================] - 0s 1ms/step - loss: 0.3407 - accuracy: 0.8633 - val_loss: 0.3340 - val_accuracy: 0.8554\n",
      "Epoch 36/70\n",
      "30/30 [==============================] - 0s 1ms/step - loss: 0.3395 - accuracy: 0.8580 - val_loss: 0.3330 - val_accuracy: 0.8554\n",
      "Epoch 37/70\n",
      "30/30 [==============================] - 0s 1ms/step - loss: 0.3391 - accuracy: 0.8570 - val_loss: 0.3317 - val_accuracy: 0.8554\n",
      "Epoch 38/70\n",
      "30/30 [==============================] - 0s 1ms/step - loss: 0.3377 - accuracy: 0.8580 - val_loss: 0.3360 - val_accuracy: 0.8627\n",
      "Epoch 39/70\n",
      "30/30 [==============================] - 0s 1ms/step - loss: 0.3427 - accuracy: 0.8580 - val_loss: 0.3368 - val_accuracy: 0.8578\n",
      "Epoch 40/70\n",
      "30/30 [==============================] - 0s 1ms/step - loss: 0.3401 - accuracy: 0.8612 - val_loss: 0.3387 - val_accuracy: 0.8578\n",
      "Epoch 41/70\n",
      "30/30 [==============================] - 0s 1ms/step - loss: 0.3359 - accuracy: 0.8612 - val_loss: 0.3311 - val_accuracy: 0.8578\n",
      "Epoch 42/70\n",
      "30/30 [==============================] - 0s 2ms/step - loss: 0.3361 - accuracy: 0.8633 - val_loss: 0.3313 - val_accuracy: 0.8554\n",
      "Epoch 43/70\n",
      "30/30 [==============================] - 0s 1ms/step - loss: 0.3347 - accuracy: 0.8601 - val_loss: 0.3321 - val_accuracy: 0.8603\n",
      "Epoch 44/70\n",
      "30/30 [==============================] - 0s 2ms/step - loss: 0.3358 - accuracy: 0.8591 - val_loss: 0.3310 - val_accuracy: 0.8554\n",
      "Epoch 45/70\n",
      "30/30 [==============================] - ETA: 0s - loss: 0.2473 - accuracy: 0.93 - 0s 1ms/step - loss: 0.3352 - accuracy: 0.8623 - val_loss: 0.3314 - val_accuracy: 0.8554\n",
      "Epoch 46/70\n",
      "30/30 [==============================] - 0s 2ms/step - loss: 0.3334 - accuracy: 0.8623 - val_loss: 0.3318 - val_accuracy: 0.8554\n",
      "Epoch 47/70\n",
      "30/30 [==============================] - 0s 1ms/step - loss: 0.3367 - accuracy: 0.8580 - val_loss: 0.3393 - val_accuracy: 0.8578\n",
      "Epoch 48/70\n",
      "30/30 [==============================] - 0s 2ms/step - loss: 0.3329 - accuracy: 0.8633 - val_loss: 0.3310 - val_accuracy: 0.8578\n",
      "Epoch 49/70\n",
      "30/30 [==============================] - 0s 1ms/step - loss: 0.3330 - accuracy: 0.8633 - val_loss: 0.3313 - val_accuracy: 0.8554\n",
      "Epoch 50/70\n",
      "30/30 [==============================] - 0s 2ms/step - loss: 0.3319 - accuracy: 0.8580 - val_loss: 0.3354 - val_accuracy: 0.8603\n",
      "Epoch 51/70\n",
      "30/30 [==============================] - 0s 1ms/step - loss: 0.3308 - accuracy: 0.8644 - val_loss: 0.3292 - val_accuracy: 0.8603\n",
      "Epoch 52/70\n",
      "30/30 [==============================] - 0s 1ms/step - loss: 0.3305 - accuracy: 0.8591 - val_loss: 0.3331 - val_accuracy: 0.8603\n",
      "Epoch 53/70\n",
      "30/30 [==============================] - 0s 1ms/step - loss: 0.3315 - accuracy: 0.8612 - val_loss: 0.3336 - val_accuracy: 0.8603\n",
      "Epoch 54/70\n",
      "30/30 [==============================] - 0s 1ms/step - loss: 0.3345 - accuracy: 0.8570 - val_loss: 0.3380 - val_accuracy: 0.8603\n",
      "Epoch 55/70\n",
      "30/30 [==============================] - 0s 2ms/step - loss: 0.3304 - accuracy: 0.8675 - val_loss: 0.3284 - val_accuracy: 0.8578\n",
      "Epoch 56/70\n",
      "30/30 [==============================] - 0s 2ms/step - loss: 0.3300 - accuracy: 0.8580 - val_loss: 0.3335 - val_accuracy: 0.8578\n"
     ]
    },
    {
     "name": "stdout",
     "output_type": "stream",
     "text": [
      "Epoch 57/70\n",
      "30/30 [==============================] - 0s 1ms/step - loss: 0.3297 - accuracy: 0.8612 - val_loss: 0.3280 - val_accuracy: 0.8603\n",
      "Epoch 58/70\n",
      "30/30 [==============================] - ETA: 0s - loss: 0.3208 - accuracy: 0.87 - 0s 1ms/step - loss: 0.3281 - accuracy: 0.8665 - val_loss: 0.3307 - val_accuracy: 0.8627\n",
      "Epoch 59/70\n",
      "30/30 [==============================] - 0s 1ms/step - loss: 0.3280 - accuracy: 0.8601 - val_loss: 0.3294 - val_accuracy: 0.8652\n",
      "Epoch 60/70\n",
      "30/30 [==============================] - 0s 2ms/step - loss: 0.3276 - accuracy: 0.8623 - val_loss: 0.3304 - val_accuracy: 0.8578\n",
      "Epoch 61/70\n",
      "30/30 [==============================] - 0s 2ms/step - loss: 0.3288 - accuracy: 0.8612 - val_loss: 0.3323 - val_accuracy: 0.8554\n",
      "Epoch 62/70\n",
      "30/30 [==============================] - 0s 1ms/step - loss: 0.3276 - accuracy: 0.8633 - val_loss: 0.3299 - val_accuracy: 0.8627\n",
      "Epoch 63/70\n",
      "30/30 [==============================] - 0s 1ms/step - loss: 0.3280 - accuracy: 0.8644 - val_loss: 0.3290 - val_accuracy: 0.8578\n",
      "Epoch 64/70\n",
      "30/30 [==============================] - 0s 1ms/step - loss: 0.3281 - accuracy: 0.8612 - val_loss: 0.3320 - val_accuracy: 0.8554\n",
      "Epoch 65/70\n",
      "30/30 [==============================] - 0s 1ms/step - loss: 0.3264 - accuracy: 0.8654 - val_loss: 0.3324 - val_accuracy: 0.8554\n",
      "Epoch 66/70\n",
      "30/30 [==============================] - 0s 1ms/step - loss: 0.3265 - accuracy: 0.8654 - val_loss: 0.3291 - val_accuracy: 0.8603\n",
      "Epoch 67/70\n",
      "30/30 [==============================] - 0s 2ms/step - loss: 0.3283 - accuracy: 0.8654 - val_loss: 0.3325 - val_accuracy: 0.8578\n",
      "Epoch 68/70\n",
      "30/30 [==============================] - 0s 2ms/step - loss: 0.3277 - accuracy: 0.8644 - val_loss: 0.3322 - val_accuracy: 0.8578\n",
      "Epoch 69/70\n",
      "30/30 [==============================] - 0s 1ms/step - loss: 0.3253 - accuracy: 0.8665 - val_loss: 0.3287 - val_accuracy: 0.8578\n",
      "Epoch 70/70\n",
      "30/30 [==============================] - 0s 1ms/step - loss: 0.3256 - accuracy: 0.8654 - val_loss: 0.3283 - val_accuracy: 0.8627\n"
     ]
    }
   ],
   "source": [
    "epochs = 70\n",
    "history = model.fit(x_train, y_train, batch_size=32, epochs=epochs,validation_data=(x_test, y_test))"
   ]
  },
  {
   "cell_type": "markdown",
   "metadata": {},
   "source": [
    "# Ploting "
   ]
  },
  {
   "cell_type": "code",
   "execution_count": 15,
   "metadata": {},
   "outputs": [
    {
     "data": {
      "image/png": "[encoded data removed]",
      "text/plain": [
       "<Figure size 432x288 with 1 Axes>"
      ]
     },
     "metadata": {
      "needs_background": "light"
     },
     "output_type": "display_data"
    },
    {
     "data": {
      "image/png": "[encoded data removed]",
      "text/plain": [
       "<Figure size 432x288 with 1 Axes>"
      ]
     },
     "metadata": {
      "needs_background": "light"
     },
     "output_type": "display_data"
    }
   ],
   "source": [
    "plt.figure(0)\n",
    "plt.plot(history.history['accuracy'],label='training accuracy')\n",
    "plt.plot(history.history['val_accuracy'],label='val_accuracy')\n",
    "plt.title('Accuracy')\n",
    "plt.xlabel('epochs')\n",
    "plt.ylabel('accuracy')\n",
    "plt.legend()\n",
    "plt.show()\n",
    "\n",
    "plt.figure(1)\n",
    "plt.plot(history.history['loss'], label='training loss')\n",
    "plt.plot(history.history['val_loss'], label='val loss')\n",
    "plt.title('Loss')\n",
    "plt.xlabel('epochs')\n",
    "plt.ylabel('loss')\n",
    "plt.legend()\n",
    "plt.show()"
   ]
  },
  {
   "cell_type": "code",
   "execution_count": 16,
   "metadata": {
    "scrolled": true
   },
   "outputs": [
    {
     "name": "stdout",
     "output_type": "stream",
     "text": [
      "WARNING:tensorflow:From <ipython-input-16-982572f6583f>:5: Sequential.predict_classes (from tensorflow.python.keras.engine.sequential) is deprecated and will be removed after 2021-01-01.\n",
      "Instructions for updating:\n",
      "Please use instead:* `np.argmax(model.predict(x), axis=-1)`,   if your model does multi-class classification   (e.g. if it uses a `softmax` last-layer activation).* `(model.predict(x) > 0.5).astype(\"int32\")`,   if your model does binary classification   (e.g. if it uses a `sigmoid` last-layer activation).\n",
      "Accuracy on training data =  86.43533123028391 %\n",
      "Accuracy on test data =  86.27450980392157 %\n"
     ]
    }
   ],
   "source": [
    "from sklearn.metrics import accuracy_score\n",
    "\n",
    "# prediction on training data\n",
    "label = np.array(y_train)\n",
    "pred_train = model.predict_classes(x_train)\n",
    "print(\"Accuracy on training data = \",accuracy_score(label,pred_train)*100,\"%\")\n",
    "\n",
    "# prediction on test data\n",
    "label = np.array(y_test)\n",
    "pred_test = model.predict_classes(x_test)\n",
    "print(\"Accuracy on test data = \",accuracy_score(label,pred_test)*100,\"%\")\n",
    "# print(pred_test.reshape(1,y_test.shape[0]))\n",
    "# print(label)"
   ]
  },
  {
   "cell_type": "code",
   "execution_count": 17,
   "metadata": {},
   "outputs": [
    {
     "name": "stdout",
     "output_type": "stream",
     "text": [
      "***************************************************************\n",
      "Analysis on test data for good road\n",
      "\n",
      "true detection                        : 86.22448979591837 %\n",
      "false detection - bad is predicted    : 13.77551020408163 %\n",
      "***************************************************************\n",
      "Analysis on test data for bad road\n",
      "\n",
      "true detection                         : 86.32075471698113 %\n",
      "false detection - good is predicted    : 13.679245283018867 %\n"
     ]
    }
   ],
   "source": [
    "# analysis on test data\n",
    "pred_test = model.predict_classes(x_test)\n",
    "\n",
    "# good road\n",
    "count1=0\n",
    "count2=0\n",
    "\n",
    "for i in range(0,x_test.shape[0]):\n",
    "    \n",
    "    if (int(y_test[i])==0 and pred_test[i]==0):\n",
    "        count1 = count1+1\n",
    "    elif(int(y_test[i])==0 and pred_test[i]==1): \n",
    "        count2 = count2+1\n",
    "total = count1+count2\n",
    "print(\"***************************************************************\")\n",
    "print(\"Analysis on test data for good road\")\n",
    "print()\n",
    "print(\"true detection                        :\",(count1/total)*100,\"%\")\n",
    "print(\"false detection - bad is predicted    :\",(count2/total)*100,\"%\")\n",
    "\n",
    "# bad road\n",
    "count1=0\n",
    "count2=0\n",
    "\n",
    "for i in range(0,x_test.shape[0]):\n",
    "    \n",
    "    if (int(y_test[i])==1 and pred_test[i]==1):\n",
    "        count1 = count1+1\n",
    "    elif(int(y_test[i])==1 and pred_test[i]==0): \n",
    "        count2 = count2+1\n",
    "total = count1+count2\n",
    "print(\"***************************************************************\")\n",
    "print(\"Analysis on test data for bad road\")\n",
    "print()\n",
    "print(\"true detection                         :\",(count1/total)*100,\"%\")\n",
    "print(\"false detection - good is predicted    :\",(count2/total)*100,\"%\")"
   ]
  },
  {
   "cell_type": "code",
   "execution_count": 18,
   "metadata": {},
   "outputs": [
    {
     "name": "stdout",
     "output_type": "stream",
     "text": [
      "probability :  [[0.8916478]]\n",
      "Class       :  [[1]]\n"
     ]
    }
   ],
   "source": [
    "sample = np.array([data[604][0:-1]])\n",
    "prob = model.predict(sample)\n",
    "zone = model.predict_classes(sample)\n",
    "print(\"probability : \",prob)\n",
    "print(\"Class       : \",zone)"
   ]
  },
  {
   "cell_type": "code",
   "execution_count": 19,
   "metadata": {},
   "outputs": [
    {
     "name": "stdout",
     "output_type": "stream",
     "text": [
      "probability :  [[0.9175954]]\n",
      "Class       :  [[1]]\n"
     ]
    }
   ],
   "source": [
    "sample = np.array([data[605][0:-1]])\n",
    "prob = model.predict(sample)\n",
    "zone = model.predict_classes(sample)\n",
    "print(\"probability : \",prob)\n",
    "print(\"Class       : \",zone)"
   ]
  },
  {
   "cell_type": "code",
   "execution_count": 35,
   "metadata": {},
   "outputs": [
    {
     "name": "stdout",
     "output_type": "stream",
     "text": [
      "probability :  [[0.99917257]]\n",
      "Class       :  [[1]]\n"
     ]
    }
   ],
   "source": [
    "sample = np.array([data[610][0:-1]])\n",
    "prob = model.predict(sample)\n",
    "zone = model.predict_classes(sample)\n",
    "print(\"probability : \",prob)\n",
    "print(\"Class       : \",zone)"
   ]
  },
  {
   "cell_type": "code",
   "execution_count": 69,
   "metadata": {},
   "outputs": [
    {
     "name": "stdout",
     "output_type": "stream",
     "text": [
      "probability :  [[0.07492959]]\n",
      "Class       :  [[0]]\n"
     ]
    }
   ],
   "source": [
    "sample = np.array([data[365][0:-1]])\n",
    "prob = model.predict(sample)\n",
    "zone = model.predict_classes(sample)\n",
    "print(\"probability : \",prob)\n",
    "print(\"Class       : \",zone)"
   ]
  },
  {
   "cell_type": "code",
   "execution_count": null,
   "metadata": {},
   "outputs": [],
   "source": []
  },
  {
   "cell_type": "code",
   "execution_count": null,
   "metadata": {},
   "outputs": [],
   "source": []
  },
  {
   "cell_type": "code",
   "execution_count": null,
   "metadata": {},
   "outputs": [],
   "source": []
  },
  {
   "cell_type": "code",
   "execution_count": null,
   "metadata": {},
   "outputs": [],
   "source": []
  },
  {
   "cell_type": "code",
   "execution_count": 73,
   "metadata": {},
   "outputs": [],
   "source": [
    "# model.save('model/road_analytics_model_extreme_end_hardware.h5')"
   ]
  },
  {
   "cell_type": "markdown",
   "metadata": {},
   "source": [
    "# Loading the model"
   ]
  },
  {
   "cell_type": "code",
   "execution_count": 74,
   "metadata": {},
   "outputs": [],
   "source": [
    "# from keras.models import load_model\n",
    "\n",
    "# model = load_model('model/road_analytics_model_extreme_end_hardware.h5')"
   ]
  },
  {
   "cell_type": "code",
   "execution_count": 24,
   "metadata": {},
   "outputs": [
    {
     "name": "stdout",
     "output_type": "stream",
     "text": [
      "Model: \"sequential\"\n",
      "_________________________________________________________________\n",
      "Layer (type)                 Output Shape              Param #   \n",
      "=================================================================\n",
      "dense (Dense)                (None, 6)                 42        \n",
      "_________________________________________________________________\n",
      "dropout (Dropout)            (None, 6)                 0         \n",
      "_________________________________________________________________\n",
      "dense_1 (Dense)              (None, 8)                 56        \n",
      "_________________________________________________________________\n",
      "dropout_1 (Dropout)          (None, 8)                 0         \n",
      "_________________________________________________________________\n",
      "dense_2 (Dense)              (None, 16)                144       \n",
      "_________________________________________________________________\n",
      "dropout_2 (Dropout)          (None, 16)                0         \n",
      "_________________________________________________________________\n",
      "dense_3 (Dense)              (None, 6)                 102       \n",
      "_________________________________________________________________\n",
      "dropout_3 (Dropout)          (None, 6)                 0         \n",
      "_________________________________________________________________\n",
      "dense_4 (Dense)              (None, 1)                 7         \n",
      "=================================================================\n",
      "Total params: 351\n",
      "Trainable params: 351\n",
      "Non-trainable params: 0\n",
      "_________________________________________________________________\n"
     ]
    }
   ],
   "source": [
    "model.summary()"
   ]
  },
  {
   "cell_type": "code",
   "execution_count": 25,
   "metadata": {},
   "outputs": [
    {
     "data": {
      "text/plain": [
       "array([[1]])"
      ]
     },
     "execution_count": 25,
     "metadata": {},
     "output_type": "execute_result"
    }
   ],
   "source": [
    "# Trying with real world input\n",
    "samples = np.array([data[0][0:-1]])     \n",
    "prediction = model.predict_classes(samples)\n",
    "prediction"
   ]
  },
  {
   "cell_type": "code",
   "execution_count": 26,
   "metadata": {},
   "outputs": [
    {
     "data": {
      "text/plain": [
       "array([[1]])"
      ]
     },
     "execution_count": 26,
     "metadata": {},
     "output_type": "execute_result"
    }
   ],
   "source": [
    "samples = np.array([data[6][0:-1]])     \n",
    "prediction = model.predict_classes(samples)\n",
    "prediction"
   ]
  },
  {
   "cell_type": "code",
   "execution_count": null,
   "metadata": {},
   "outputs": [],
   "source": []
  }
 ],
 "metadata": {
  "kernelspec": {
   "display_name": "Python 3",
   "language": "python",
   "name": "python3"
  },
  "language_info": {
   "codemirror_mode": {
    "name": "ipython",
    "version": 3
   },
   "file_extension": ".py",
   "mimetype": "text/x-python",
   "name": "python",
   "nbconvert_exporter": "python",
   "pygments_lexer": "ipython3",
   "version": "3.7.6"
  }
 },
 "nbformat": 4,
 "nbformat_minor": 4
}
