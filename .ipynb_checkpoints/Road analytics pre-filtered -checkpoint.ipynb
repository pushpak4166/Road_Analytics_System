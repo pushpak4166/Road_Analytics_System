{
 "cells": [
  {
   "cell_type": "markdown",
   "metadata": {},
   "source": [
    "# Road Analytics Prefiltered \n",
    "\n",
    "## for multiple road conditions "
   ]
  },
  {
   "cell_type": "code",
   "execution_count": 1,
   "metadata": {},
   "outputs": [],
   "source": [
    "from keras.models import Sequential\n",
    "from sklearn.model_selection import train_test_split\n",
    "from keras.layers.core import Dense,Dropout\n",
    "from keras.optimizers import Adam\n",
    "import numpy as np\n",
    "import matplotlib.pyplot as plt\n",
    "from keras.utils import to_categorical"
   ]
  },
  {
   "cell_type": "code",
   "execution_count": 2,
   "metadata": {},
   "outputs": [],
   "source": [
    "import pandas as pd"
   ]
  },
  {
   "cell_type": "code",
   "execution_count": 3,
   "metadata": {},
   "outputs": [],
   "source": [
    "data = np.loadtxt(\"dataset_modified_2/dataset_prefiltered.csv\",delimiter=\",\")"
   ]
  },
  {
   "cell_type": "code",
   "execution_count": 4,
   "metadata": {
    "scrolled": false
   },
   "outputs": [
    {
     "data": {
      "text/plain": [
       "(1800, 5)"
      ]
     },
     "execution_count": 4,
     "metadata": {},
     "output_type": "execute_result"
    }
   ],
   "source": [
    "data.shape"
   ]
  },
  {
   "cell_type": "code",
   "execution_count": 5,
   "metadata": {},
   "outputs": [
    {
     "name": "stdout",
     "output_type": "stream",
     "text": [
      "(1800, 4)\n",
      "(1800,)\n"
     ]
    }
   ],
   "source": [
    "x = data[:,0:-1]\n",
    "y = data[:,-1]\n",
    "\n",
    "# Spliting dataset into train and test \n",
    "x_train,x_test,y_train,y_test = train_test_split(x,y,test_size=0.2,random_state=10)\n",
    "print(x.shape)\n",
    "print(y.shape)"
   ]
  },
  {
   "cell_type": "code",
   "execution_count": 6,
   "metadata": {},
   "outputs": [
    {
     "data": {
      "text/plain": [
       "4"
      ]
     },
     "execution_count": 6,
     "metadata": {},
     "output_type": "execute_result"
    }
   ],
   "source": [
    "# size of input\n",
    "x.shape[1]"
   ]
  },
  {
   "cell_type": "code",
   "execution_count": 7,
   "metadata": {},
   "outputs": [
    {
     "name": "stdout",
     "output_type": "stream",
     "text": [
      "(1440, 4)\n",
      "(360, 4)\n"
     ]
    }
   ],
   "source": [
    "print(x_train.shape)\n",
    "print(x_test.shape)"
   ]
  },
  {
   "cell_type": "code",
   "execution_count": 8,
   "metadata": {},
   "outputs": [
    {
     "name": "stdout",
     "output_type": "stream",
     "text": [
      "0 : 600\n",
      "1 : 598\n",
      "2 : 602\n"
     ]
    }
   ],
   "source": [
    "count_of_0=0 \n",
    "for i in y:\n",
    "    if (i==0) :\n",
    "        count_of_0=count_of_0+1\n",
    "print(\"0 :\",count_of_0)\n",
    "count_of_1=0 \n",
    "for i in y:\n",
    "    if (i==1) :\n",
    "        count_of_1=count_of_1+1\n",
    "print(\"1 :\",count_of_1)\n",
    "count_of_2=0 \n",
    "for i in y:\n",
    "    if (i==2) :\n",
    "        count_of_2=count_of_2+1\n",
    "print(\"2 :\",count_of_2)"
   ]
  },
  {
   "cell_type": "code",
   "execution_count": 9,
   "metadata": {},
   "outputs": [],
   "source": [
    "y_train1 = y_train\n",
    "y_test1 = y_test"
   ]
  },
  {
   "cell_type": "code",
   "execution_count": 10,
   "metadata": {},
   "outputs": [],
   "source": [
    "#Converting the labels into one hot encoding\n",
    "y_train = to_categorical(y_train, 3)\n",
    "y_test = to_categorical(y_test, 3)"
   ]
  },
  {
   "cell_type": "code",
   "execution_count": 11,
   "metadata": {
    "scrolled": false
   },
   "outputs": [
    {
     "data": {
      "text/plain": [
       "array([[0., 0., 1.],\n",
       "       [0., 1., 0.],\n",
       "       [0., 1., 0.],\n",
       "       ...,\n",
       "       [0., 0., 1.],\n",
       "       [1., 0., 0.],\n",
       "       [0., 0., 1.]], dtype=float32)"
      ]
     },
     "execution_count": 11,
     "metadata": {},
     "output_type": "execute_result"
    }
   ],
   "source": [
    "y_train"
   ]
  },
  {
   "cell_type": "code",
   "execution_count": 12,
   "metadata": {
    "scrolled": false
   },
   "outputs": [
    {
     "data": {
      "text/plain": [
       "array([[0., 1., 0.],\n",
       "       [0., 0., 1.],\n",
       "       [1., 0., 0.],\n",
       "       ...,\n",
       "       [1., 0., 0.],\n",
       "       [0., 1., 0.],\n",
       "       [1., 0., 0.]], dtype=float32)"
      ]
     },
     "execution_count": 12,
     "metadata": {},
     "output_type": "execute_result"
    }
   ],
   "source": [
    "y_test"
   ]
  },
  {
   "cell_type": "code",
   "execution_count": 13,
   "metadata": {},
   "outputs": [
    {
     "data": {
      "text/plain": [
       "3"
      ]
     },
     "execution_count": 13,
     "metadata": {},
     "output_type": "execute_result"
    }
   ],
   "source": [
    "y_train.shape[1]"
   ]
  },
  {
   "cell_type": "markdown",
   "metadata": {},
   "source": [
    "# Creating the model"
   ]
  },
  {
   "cell_type": "code",
   "execution_count": 52,
   "metadata": {},
   "outputs": [],
   "source": [
    "model = Sequential()\n",
    "model.add(Dense(16,input_dim=x.shape[1],activation='relu'))\n",
    "model.add(Dropout(0.0))\n",
    "model.add(Dense(32,activation='relu'))\n",
    "model.add(Dropout(0.2))\n",
    "model.add(Dense(64,activation='relu'))\n",
    "model.add(Dropout(0.3))\n",
    "model.add(Dense(32,activation='relu'))\n",
    "model.add(Dropout(0.2))\n",
    "model.add(Dense(y_train.shape[1],activation='softmax'))"
   ]
  },
  {
   "cell_type": "markdown",
   "metadata": {},
   "source": [
    "# Compiling and Training the model "
   ]
  },
  {
   "cell_type": "code",
   "execution_count": 53,
   "metadata": {},
   "outputs": [],
   "source": [
    "from keras.callbacks import EarlyStopping, ModelCheckpoint, ReduceLROnPlateau\n"
   ]
  },
  {
   "cell_type": "code",
   "execution_count": 54,
   "metadata": {},
   "outputs": [
    {
     "name": "stdout",
     "output_type": "stream",
     "text": [
      "Epoch 1/100\n",
      "45/45 [==============================] - 0s 4ms/step - loss: 0.7767 - accuracy: 0.6354 - val_loss: 0.6350 - val_accuracy: 0.7250\n",
      "Epoch 2/100\n",
      "45/45 [==============================] - 0s 2ms/step - loss: 0.5515 - accuracy: 0.7472 - val_loss: 0.5407 - val_accuracy: 0.7500\n",
      "Epoch 3/100\n",
      "45/45 [==============================] - 0s 2ms/step - loss: 0.4861 - accuracy: 0.7785 - val_loss: 0.5082 - val_accuracy: 0.7750\n",
      "Epoch 4/100\n",
      "45/45 [==============================] - 0s 2ms/step - loss: 0.4431 - accuracy: 0.8146 - val_loss: 0.4407 - val_accuracy: 0.8056\n",
      "Epoch 5/100\n",
      "45/45 [==============================] - 0s 2ms/step - loss: 0.4257 - accuracy: 0.8250 - val_loss: 0.4211 - val_accuracy: 0.8167\n",
      "Epoch 6/100\n",
      "45/45 [==============================] - 0s 2ms/step - loss: 0.4126 - accuracy: 0.8438 - val_loss: 0.4188 - val_accuracy: 0.8389\n",
      "Epoch 7/100\n",
      "45/45 [==============================] - 0s 2ms/step - loss: 0.3890 - accuracy: 0.8451 - val_loss: 0.3887 - val_accuracy: 0.8361\n",
      "Epoch 8/100\n",
      "45/45 [==============================] - 0s 2ms/step - loss: 0.3932 - accuracy: 0.8458 - val_loss: 0.3876 - val_accuracy: 0.8389\n",
      "Epoch 9/100\n",
      "45/45 [==============================] - 0s 2ms/step - loss: 0.3913 - accuracy: 0.8368 - val_loss: 0.3831 - val_accuracy: 0.8444\n",
      "Epoch 10/100\n",
      "45/45 [==============================] - 0s 2ms/step - loss: 0.3711 - accuracy: 0.8569 - val_loss: 0.3795 - val_accuracy: 0.8417\n",
      "Epoch 11/100\n",
      "45/45 [==============================] - 0s 2ms/step - loss: 0.3869 - accuracy: 0.8444 - val_loss: 0.3797 - val_accuracy: 0.8639\n",
      "Epoch 12/100\n",
      "45/45 [==============================] - 0s 2ms/step - loss: 0.3667 - accuracy: 0.8528 - val_loss: 0.3678 - val_accuracy: 0.8500\n",
      "Epoch 13/100\n",
      "45/45 [==============================] - 0s 2ms/step - loss: 0.3556 - accuracy: 0.8556 - val_loss: 0.3703 - val_accuracy: 0.8444\n",
      "Epoch 14/100\n",
      "45/45 [==============================] - 0s 2ms/step - loss: 0.3544 - accuracy: 0.8549 - val_loss: 0.3848 - val_accuracy: 0.8472\n",
      "Epoch 15/100\n",
      "45/45 [==============================] - 0s 2ms/step - loss: 0.3603 - accuracy: 0.8597 - val_loss: 0.3466 - val_accuracy: 0.8750\n",
      "Epoch 16/100\n",
      "45/45 [==============================] - 0s 2ms/step - loss: 0.3513 - accuracy: 0.8632 - val_loss: 0.3464 - val_accuracy: 0.8583\n",
      "Epoch 17/100\n",
      "45/45 [==============================] - 0s 2ms/step - loss: 0.3475 - accuracy: 0.8653 - val_loss: 0.3273 - val_accuracy: 0.8611\n",
      "Epoch 18/100\n",
      "45/45 [==============================] - 0s 2ms/step - loss: 0.3455 - accuracy: 0.8590 - val_loss: 0.3328 - val_accuracy: 0.8472\n",
      "Epoch 19/100\n",
      "45/45 [==============================] - 0s 2ms/step - loss: 0.3397 - accuracy: 0.8597 - val_loss: 0.3311 - val_accuracy: 0.8528\n",
      "Epoch 20/100\n",
      "45/45 [==============================] - 0s 2ms/step - loss: 0.3394 - accuracy: 0.8687 - val_loss: 0.3127 - val_accuracy: 0.8833\n",
      "Epoch 21/100\n",
      "45/45 [==============================] - 0s 2ms/step - loss: 0.3341 - accuracy: 0.8597 - val_loss: 0.3092 - val_accuracy: 0.8833\n",
      "Epoch 22/100\n",
      "45/45 [==============================] - 0s 2ms/step - loss: 0.3191 - accuracy: 0.8771 - val_loss: 0.3059 - val_accuracy: 0.8694\n",
      "Epoch 23/100\n",
      "45/45 [==============================] - 0s 2ms/step - loss: 0.3234 - accuracy: 0.8757 - val_loss: 0.3316 - val_accuracy: 0.8472\n",
      "Epoch 24/100\n",
      "45/45 [==============================] - 0s 2ms/step - loss: 0.3274 - accuracy: 0.8639 - val_loss: 0.3259 - val_accuracy: 0.8472\n",
      "Epoch 25/100\n",
      "45/45 [==============================] - 0s 2ms/step - loss: 0.3713 - accuracy: 0.8528 - val_loss: 0.4860 - val_accuracy: 0.8056\n",
      "Epoch 26/100\n",
      "45/45 [==============================] - 0s 2ms/step - loss: 0.3891 - accuracy: 0.8389 - val_loss: 0.3463 - val_accuracy: 0.8639\n",
      "Epoch 27/100\n",
      "45/45 [==============================] - 0s 2ms/step - loss: 0.3386 - accuracy: 0.8590 - val_loss: 0.3221 - val_accuracy: 0.8556\n",
      "Epoch 28/100\n",
      "45/45 [==============================] - 0s 2ms/step - loss: 0.3315 - accuracy: 0.8646 - val_loss: 0.3046 - val_accuracy: 0.8806\n",
      "Epoch 29/100\n",
      "45/45 [==============================] - 0s 2ms/step - loss: 0.3259 - accuracy: 0.8708 - val_loss: 0.3172 - val_accuracy: 0.8778\n",
      "Epoch 30/100\n",
      "45/45 [==============================] - 0s 2ms/step - loss: 0.3209 - accuracy: 0.8764 - val_loss: 0.3152 - val_accuracy: 0.8833\n",
      "Epoch 31/100\n",
      "45/45 [==============================] - 0s 2ms/step - loss: 0.3074 - accuracy: 0.8806 - val_loss: 0.2920 - val_accuracy: 0.8889\n",
      "Epoch 32/100\n",
      "45/45 [==============================] - 0s 2ms/step - loss: 0.3060 - accuracy: 0.8771 - val_loss: 0.3076 - val_accuracy: 0.8806\n",
      "Epoch 33/100\n",
      "45/45 [==============================] - 0s 2ms/step - loss: 0.2926 - accuracy: 0.8833 - val_loss: 0.3085 - val_accuracy: 0.8861\n",
      "Epoch 34/100\n",
      "45/45 [==============================] - 0s 2ms/step - loss: 0.3005 - accuracy: 0.8792 - val_loss: 0.4146 - val_accuracy: 0.8083\n",
      "Epoch 35/100\n",
      "45/45 [==============================] - 0s 2ms/step - loss: 0.3080 - accuracy: 0.8764 - val_loss: 0.2981 - val_accuracy: 0.8667\n",
      "Epoch 36/100\n",
      "45/45 [==============================] - 0s 2ms/step - loss: 0.3104 - accuracy: 0.8813 - val_loss: 0.2870 - val_accuracy: 0.8944\n",
      "Epoch 37/100\n",
      "45/45 [==============================] - 0s 2ms/step - loss: 0.2958 - accuracy: 0.8826 - val_loss: 0.3486 - val_accuracy: 0.8806\n",
      "Epoch 38/100\n",
      "45/45 [==============================] - 0s 2ms/step - loss: 0.2950 - accuracy: 0.8813 - val_loss: 0.2929 - val_accuracy: 0.8778\n",
      "Epoch 39/100\n",
      "45/45 [==============================] - 0s 2ms/step - loss: 0.3101 - accuracy: 0.8771 - val_loss: 0.3106 - val_accuracy: 0.8667\n",
      "Epoch 40/100\n",
      "45/45 [==============================] - 0s 2ms/step - loss: 0.3001 - accuracy: 0.8819 - val_loss: 0.3000 - val_accuracy: 0.8722\n",
      "Epoch 41/100\n",
      "45/45 [==============================] - 0s 2ms/step - loss: 0.3058 - accuracy: 0.8736 - val_loss: 0.2955 - val_accuracy: 0.8861\n",
      "Epoch 42/100\n",
      "45/45 [==============================] - 0s 2ms/step - loss: 0.2893 - accuracy: 0.8806 - val_loss: 0.2928 - val_accuracy: 0.8806\n",
      "Epoch 43/100\n",
      "45/45 [==============================] - 0s 2ms/step - loss: 0.3111 - accuracy: 0.8694 - val_loss: 0.3109 - val_accuracy: 0.8833\n",
      "Epoch 44/100\n",
      "45/45 [==============================] - 0s 2ms/step - loss: 0.2975 - accuracy: 0.8861 - val_loss: 0.2889 - val_accuracy: 0.8778\n",
      "Epoch 45/100\n",
      "45/45 [==============================] - ETA: 0s - loss: 0.2822 - accuracy: 0.88 - 0s 2ms/step - loss: 0.2930 - accuracy: 0.8819 - val_loss: 0.3220 - val_accuracy: 0.8778\n",
      "Epoch 46/100\n",
      "45/45 [==============================] - 0s 2ms/step - loss: 0.3017 - accuracy: 0.8854 - val_loss: 0.3259 - val_accuracy: 0.8861\n",
      "Epoch 47/100\n",
      "45/45 [==============================] - 0s 3ms/step - loss: 0.2873 - accuracy: 0.8854 - val_loss: 0.3118 - val_accuracy: 0.8917\n",
      "Epoch 48/100\n",
      "45/45 [==============================] - 0s 2ms/step - loss: 0.2801 - accuracy: 0.8938 - val_loss: 0.2815 - val_accuracy: 0.8833\n",
      "Epoch 49/100\n",
      "45/45 [==============================] - 0s 2ms/step - loss: 0.2846 - accuracy: 0.8826 - val_loss: 0.3608 - val_accuracy: 0.8778\n",
      "Epoch 50/100\n",
      "45/45 [==============================] - 0s 2ms/step - loss: 0.2867 - accuracy: 0.8861 - val_loss: 0.3000 - val_accuracy: 0.8611\n",
      "Epoch 51/100\n",
      "45/45 [==============================] - 0s 2ms/step - loss: 0.2817 - accuracy: 0.8917 - val_loss: 0.2913 - val_accuracy: 0.8889\n",
      "Epoch 52/100\n",
      "45/45 [==============================] - 0s 2ms/step - loss: 0.2749 - accuracy: 0.8840 - val_loss: 0.2947 - val_accuracy: 0.8889\n",
      "Epoch 53/100\n",
      "45/45 [==============================] - 0s 2ms/step - loss: 0.2842 - accuracy: 0.8861 - val_loss: 0.2887 - val_accuracy: 0.8944\n",
      "Epoch 54/100\n",
      "45/45 [==============================] - 0s 2ms/step - loss: 0.2693 - accuracy: 0.8910 - val_loss: 0.3062 - val_accuracy: 0.8889\n",
      "Epoch 55/100\n",
      "45/45 [==============================] - 0s 2ms/step - loss: 0.2795 - accuracy: 0.8868 - val_loss: 0.3259 - val_accuracy: 0.8694\n",
      "Epoch 56/100\n",
      "45/45 [==============================] - 0s 2ms/step - loss: 0.2716 - accuracy: 0.8951 - val_loss: 0.3238 - val_accuracy: 0.8917\n",
      "Epoch 57/100\n",
      "45/45 [==============================] - 0s 2ms/step - loss: 0.2726 - accuracy: 0.8903 - val_loss: 0.2935 - val_accuracy: 0.8778\n",
      "Epoch 58/100\n",
      "45/45 [==============================] - 0s 2ms/step - loss: 0.2733 - accuracy: 0.8979 - val_loss: 0.3425 - val_accuracy: 0.8778\n",
      "Epoch 59/100\n",
      "45/45 [==============================] - 0s 2ms/step - loss: 0.2681 - accuracy: 0.8917 - val_loss: 0.3073 - val_accuracy: 0.8972\n",
      "Epoch 60/100\n",
      "45/45 [==============================] - 0s 2ms/step - loss: 0.2575 - accuracy: 0.8938 - val_loss: 0.2901 - val_accuracy: 0.8944\n",
      "Epoch 61/100\n",
      "45/45 [==============================] - 0s 2ms/step - loss: 0.2674 - accuracy: 0.8882 - val_loss: 0.2947 - val_accuracy: 0.8889\n",
      "Epoch 62/100\n",
      "45/45 [==============================] - 0s 2ms/step - loss: 0.2587 - accuracy: 0.9007 - val_loss: 0.2990 - val_accuracy: 0.8944\n",
      "Epoch 63/100\n",
      "45/45 [==============================] - 0s 2ms/step - loss: 0.2690 - accuracy: 0.8910 - val_loss: 0.3290 - val_accuracy: 0.8778\n",
      "Epoch 64/100\n",
      "45/45 [==============================] - 0s 2ms/step - loss: 0.2544 - accuracy: 0.8965 - val_loss: 0.3228 - val_accuracy: 0.8833\n",
      "Epoch 65/100\n",
      "45/45 [==============================] - 0s 2ms/step - loss: 0.2530 - accuracy: 0.9007 - val_loss: 0.2970 - val_accuracy: 0.8972\n",
      "Epoch 66/100\n",
      "45/45 [==============================] - 0s 2ms/step - loss: 0.2546 - accuracy: 0.8951 - val_loss: 0.3320 - val_accuracy: 0.8944\n",
      "Epoch 67/100\n",
      "45/45 [==============================] - 0s 2ms/step - loss: 0.2766 - accuracy: 0.8882 - val_loss: 0.2982 - val_accuracy: 0.8833\n",
      "Epoch 68/100\n",
      "45/45 [==============================] - 0s 2ms/step - loss: 0.2551 - accuracy: 0.9000 - val_loss: 0.2981 - val_accuracy: 0.8806\n",
      "Epoch 69/100\n",
      "45/45 [==============================] - 0s 2ms/step - loss: 0.2473 - accuracy: 0.9007 - val_loss: 0.3131 - val_accuracy: 0.8972\n",
      "Epoch 70/100\n",
      "45/45 [==============================] - 0s 2ms/step - loss: 0.2453 - accuracy: 0.8986 - val_loss: 0.3278 - val_accuracy: 0.8861\n",
      "Epoch 71/100\n",
      "45/45 [==============================] - 0s 2ms/step - loss: 0.2373 - accuracy: 0.9076 - val_loss: 0.3108 - val_accuracy: 0.8861\n",
      "Epoch 72/100\n",
      "45/45 [==============================] - 0s 2ms/step - loss: 0.2426 - accuracy: 0.8951 - val_loss: 0.3124 - val_accuracy: 0.8972\n",
      "Epoch 73/100\n",
      "45/45 [==============================] - 0s 2ms/step - loss: 0.2380 - accuracy: 0.9042 - val_loss: 0.3221 - val_accuracy: 0.8944\n",
      "Epoch 74/100\n",
      "45/45 [==============================] - 0s 2ms/step - loss: 0.2518 - accuracy: 0.8896 - val_loss: 0.3983 - val_accuracy: 0.8917\n",
      "Epoch 75/100\n",
      "45/45 [==============================] - 0s 2ms/step - loss: 0.2487 - accuracy: 0.9014 - val_loss: 0.3079 - val_accuracy: 0.8917\n",
      "Epoch 76/100\n",
      "45/45 [==============================] - 0s 2ms/step - loss: 0.2462 - accuracy: 0.9000 - val_loss: 0.2967 - val_accuracy: 0.8917\n",
      "Epoch 77/100\n",
      "45/45 [==============================] - 0s 2ms/step - loss: 0.2411 - accuracy: 0.9007 - val_loss: 0.3513 - val_accuracy: 0.8972\n",
      "Epoch 78/100\n",
      "45/45 [==============================] - 0s 2ms/step - loss: 0.2385 - accuracy: 0.9042 - val_loss: 0.3189 - val_accuracy: 0.8944\n",
      "Epoch 79/100\n",
      "45/45 [==============================] - 0s 2ms/step - loss: 0.2530 - accuracy: 0.8889 - val_loss: 0.3173 - val_accuracy: 0.8944\n",
      "Epoch 80/100\n",
      "45/45 [==============================] - 0s 2ms/step - loss: 0.2297 - accuracy: 0.9021 - val_loss: 0.3095 - val_accuracy: 0.8889\n",
      "Epoch 81/100\n",
      "45/45 [==============================] - ETA: 0s - loss: 0.2254 - accuracy: 0.91 - 0s 2ms/step - loss: 0.2314 - accuracy: 0.9083 - val_loss: 0.2969 - val_accuracy: 0.8917\n",
      "Epoch 82/100\n",
      "45/45 [==============================] - 0s 2ms/step - loss: 0.2189 - accuracy: 0.9042 - val_loss: 0.3271 - val_accuracy: 0.8861\n",
      "Epoch 83/100\n",
      "45/45 [==============================] - 0s 2ms/step - loss: 0.2197 - accuracy: 0.9069 - val_loss: 0.3409 - val_accuracy: 0.9000\n",
      "Epoch 84/100\n",
      "45/45 [==============================] - 0s 2ms/step - loss: 0.2157 - accuracy: 0.9160 - val_loss: 0.3772 - val_accuracy: 0.8861\n",
      "Epoch 85/100\n",
      "45/45 [==============================] - 0s 2ms/step - loss: 0.2308 - accuracy: 0.9104 - val_loss: 0.5050 - val_accuracy: 0.8194\n",
      "Epoch 86/100\n",
      "45/45 [==============================] - 0s 2ms/step - loss: 0.2379 - accuracy: 0.8931 - val_loss: 0.3598 - val_accuracy: 0.8833\n",
      "Epoch 87/100\n",
      "45/45 [==============================] - 0s 2ms/step - loss: 0.2252 - accuracy: 0.9028 - val_loss: 0.3526 - val_accuracy: 0.8806\n",
      "Epoch 88/100\n",
      "45/45 [==============================] - 0s 2ms/step - loss: 0.2258 - accuracy: 0.9042 - val_loss: 0.3732 - val_accuracy: 0.8917\n",
      "Epoch 89/100\n",
      "45/45 [==============================] - 0s 2ms/step - loss: 0.2312 - accuracy: 0.9083 - val_loss: 0.3779 - val_accuracy: 0.8889\n",
      "Epoch 90/100\n",
      "45/45 [==============================] - 0s 2ms/step - loss: 0.2197 - accuracy: 0.9090 - val_loss: 0.4133 - val_accuracy: 0.8833\n",
      "Epoch 91/100\n",
      "45/45 [==============================] - 0s 2ms/step - loss: 0.2070 - accuracy: 0.9132 - val_loss: 0.4073 - val_accuracy: 0.9000\n",
      "Epoch 92/100\n",
      "45/45 [==============================] - 0s 2ms/step - loss: 0.2210 - accuracy: 0.9090 - val_loss: 0.3576 - val_accuracy: 0.8778\n",
      "Epoch 93/100\n",
      "45/45 [==============================] - 0s 2ms/step - loss: 0.2338 - accuracy: 0.9000 - val_loss: 0.3816 - val_accuracy: 0.8806\n",
      "Epoch 94/100\n",
      "45/45 [==============================] - 0s 2ms/step - loss: 0.2221 - accuracy: 0.9042 - val_loss: 0.3773 - val_accuracy: 0.8778\n",
      "Epoch 95/100\n",
      "45/45 [==============================] - 0s 2ms/step - loss: 0.2057 - accuracy: 0.9125 - val_loss: 0.3893 - val_accuracy: 0.9000\n",
      "Epoch 96/100\n",
      "45/45 [==============================] - 0s 2ms/step - loss: 0.2100 - accuracy: 0.9083 - val_loss: 0.4161 - val_accuracy: 0.8861\n",
      "Epoch 97/100\n",
      "45/45 [==============================] - 0s 2ms/step - loss: 0.2190 - accuracy: 0.9028 - val_loss: 0.4407 - val_accuracy: 0.9000\n",
      "Epoch 98/100\n",
      "45/45 [==============================] - 0s 2ms/step - loss: 0.1969 - accuracy: 0.9160 - val_loss: 0.4201 - val_accuracy: 0.9028\n",
      "Epoch 99/100\n",
      "45/45 [==============================] - 0s 2ms/step - loss: 0.1957 - accuracy: 0.9222 - val_loss: 0.4369 - val_accuracy: 0.9028\n",
      "Epoch 100/100\n",
      "45/45 [==============================] - 0s 2ms/step - loss: 0.2148 - accuracy: 0.9132 - val_loss: 0.4234 - val_accuracy: 0.8861\n"
     ]
    }
   ],
   "source": [
    "learning_rate = 0.001\n",
    "\n",
    "#Compilation of the model\n",
    "model.compile(loss='categorical_crossentropy', optimizer=Adam(learning_rate), metrics=['accuracy'])\n",
    "epochs = 100\n",
    "history = model.fit(x_train, y_train, batch_size=32, epochs=epochs,validation_data=(x_test, y_test))"
   ]
  },
  {
   "cell_type": "markdown",
   "metadata": {},
   "source": [
    "# Plotting graphs for accuracy "
   ]
  },
  {
   "cell_type": "code",
   "execution_count": 55,
   "metadata": {
    "scrolled": true
   },
   "outputs": [
    {
     "data": {
      "image/png": "[encoded data removed]",
      "text/plain": [
       "<Figure size 432x288 with 1 Axes>"
      ]
     },
     "metadata": {
      "needs_background": "light"
     },
     "output_type": "display_data"
    },
    {
     "data": {
      "image/png": "[encoded data removed]",
      "text/plain": [
       "<Figure size 432x288 with 1 Axes>"
      ]
     },
     "metadata": {
      "needs_background": "light"
     },
     "output_type": "display_data"
    }
   ],
   "source": [
    "plt.figure(0)\n",
    "plt.plot(history.history['accuracy'],label='training accuracy')\n",
    "plt.plot(history.history['val_accuracy'],label='val_accuracy')\n",
    "plt.title('Accuracy')\n",
    "plt.xlabel('epochs')\n",
    "plt.ylabel('accuracy')\n",
    "plt.legend()\n",
    "plt.show()\n",
    "\n",
    "plt.figure(1)\n",
    "plt.plot(history.history['loss'], label='training loss')\n",
    "plt.plot(history.history['val_loss'], label='val loss')\n",
    "plt.title('Loss')\n",
    "plt.xlabel('epochs')\n",
    "plt.ylabel('loss')\n",
    "plt.legend()\n",
    "plt.show()"
   ]
  },
  {
   "cell_type": "code",
   "execution_count": 56,
   "metadata": {},
   "outputs": [
    {
     "name": "stdout",
     "output_type": "stream",
     "text": [
      "class 0 : 499\n",
      "class 1 : 439\n",
      "class 2 : 502\n"
     ]
    }
   ],
   "source": [
    "pred_train = model.predict_classes(x_train)\n",
    "count0=0\n",
    "count1=0\n",
    "count2=0\n",
    "for i in pred_train:\n",
    "    if(i==0):\n",
    "        count0=count0+1\n",
    "    if(i==1):\n",
    "        count1=count1+1\n",
    "    if(i==2):\n",
    "        count2=count2+1\n",
    "\n",
    "print(\"class 0 :\",count0)        \n",
    "print(\"class 1 :\",count1)    \n",
    "print(\"class 2 :\",count2) "
   ]
  },
  {
   "cell_type": "code",
   "execution_count": 57,
   "metadata": {
    "scrolled": true
   },
   "outputs": [
    {
     "data": {
      "text/plain": [
       "360"
      ]
     },
     "execution_count": 57,
     "metadata": {},
     "output_type": "execute_result"
    }
   ],
   "source": [
    "x_test.shape[0]"
   ]
  },
  {
   "cell_type": "code",
   "execution_count": 58,
   "metadata": {},
   "outputs": [
    {
     "name": "stdout",
     "output_type": "stream",
     "text": [
      "*************************************\n",
      "Analysis on training data for good road\n",
      "\n",
      "true detection for  : 97.91231732776617 %\n",
      "false detection for : 2.0876826722338206 %\n",
      "*************************************\n",
      "Analysis on training data for medium road\n",
      "\n",
      "true detection for  : 81.89300411522635 %\n",
      "false detection for : 18.106995884773664 %\n",
      "*************************************\n",
      "Analysis on training data for bad road\n",
      "\n",
      "true detection for  : 93.47368421052632 %\n",
      "false detection for : 6.526315789473684 %\n"
     ]
    }
   ],
   "source": [
    "# analysis on training data\n",
    "pred_train = model.predict_classes(x_train)\n",
    "\n",
    "# good road\n",
    "count1=0\n",
    "count2=0\n",
    "count3=0\n",
    "\n",
    "for i in range(0,x_train.shape[0]):\n",
    "    if(pred_train[i]==0 and int(y_train1[i])==0):\n",
    "        count1 = count1+1\n",
    "    elif(int(y_train1[i])==0): \n",
    "        count2 = count2+1\n",
    "total = count1+count2\n",
    "print(\"*************************************\")\n",
    "print(\"Analysis on training data for good road\")\n",
    "print()\n",
    "print(\"true detection for  :\",(count1/total)*100,\"%\")\n",
    "print(\"false detection for :\",(count2/total)*100,\"%\")\n",
    "\n",
    "# medium road\n",
    "count1=0\n",
    "count2=0\n",
    "count3=0\n",
    "\n",
    "for i in range(0,x_train.shape[0]):\n",
    "    if(pred_train[i]==1 and int(y_train1[i])==1):\n",
    "        count1 = count1+1\n",
    "    elif(int(y_train1[i])==1): \n",
    "        count2 = count2+1\n",
    "total = count1+count2\n",
    "print(\"*************************************\")\n",
    "print(\"Analysis on training data for medium road\")\n",
    "print()\n",
    "print(\"true detection for  :\",(count1/total)*100,\"%\")\n",
    "print(\"false detection for :\",(count2/total)*100,\"%\")\n",
    "\n",
    "# bad road \n",
    "count1=0\n",
    "count2=0\n",
    "count3=0\n",
    "\n",
    "for i in range(0,x_train.shape[0]):\n",
    "    if(pred_train[i]==2 and int(y_train1[i])==2):\n",
    "        count1 = count1+1\n",
    "    elif(int(y_train1[i])==2): \n",
    "        count2 = count2+1\n",
    "total = count1+count2\n",
    "print(\"*************************************\")\n",
    "print(\"Analysis on training data for bad road\")\n",
    "print()\n",
    "print(\"true detection for  :\",(count1/total)*100,\"%\")\n",
    "print(\"false detection for :\",(count2/total)*100,\"%\")"
   ]
  },
  {
   "cell_type": "code",
   "execution_count": 59,
   "metadata": {},
   "outputs": [
    {
     "name": "stdout",
     "output_type": "stream",
     "text": [
      "***************************************************************\n",
      "Analysis on test data for good road\n",
      "\n",
      "true detection                        : 95.86776859504133 %\n",
      "false detection - medium is predicted : 3.3057851239669422 %\n",
      "false detection - bad is predicted    : 0.8264462809917356 %\n",
      "***************************************************************\n",
      "Analysis on test data for medium road\n",
      "\n",
      "true detection for                    : 81.25 %\n",
      "false detection - good is predicted   : 1.7857142857142856 %\n",
      "false detection - bad is predicted    : 16.964285714285715 %\n",
      "***************************************************************\n",
      "Analysis on test data for bad road\n",
      "\n",
      "true detection for                       : 88.18897637795276 %\n",
      "false detection - good is predicted      : 0.0 %\n",
      "false detection - medium is predicted    : 11.811023622047244 %\n"
     ]
    }
   ],
   "source": [
    "# analysis on test data\n",
    "pred_test = model.predict_classes(x_test)\n",
    "\n",
    "# good road\n",
    "count1=0\n",
    "count2=0\n",
    "count3=0\n",
    "\n",
    "for i in range(0,x_test.shape[0]):\n",
    "    \n",
    "    if (int(y_test1[i])==0 and pred_test[i]==0):\n",
    "        count1 = count1+1\n",
    "    elif(int(y_test1[i])==0 and pred_test[i]==1): \n",
    "        count2 = count2+1\n",
    "    elif(int(y_test1[i])==0 and pred_test[i]==2): \n",
    "        count3 = count3+1\n",
    "total = count1+count2+count3\n",
    "print(\"***************************************************************\")\n",
    "print(\"Analysis on test data for good road\")\n",
    "print()\n",
    "print(\"true detection                        :\",(count1/total)*100,\"%\")\n",
    "print(\"false detection - medium is predicted :\",(count2/total)*100,\"%\")\n",
    "print(\"false detection - bad is predicted    :\",(count3/total)*100,\"%\")\n",
    "\n",
    "# medium road\n",
    "count1=0\n",
    "count2=0\n",
    "count3=0\n",
    "\n",
    "for i in range(0,x_test.shape[0]):\n",
    "    \n",
    "    if (int(y_test1[i])==1 and pred_test[i]==0):\n",
    "        count1 = count1+1\n",
    "    elif(int(y_test1[i])==1 and pred_test[i]==1): \n",
    "        count2 = count2+1\n",
    "    elif(int(y_test1[i])==1 and pred_test[i]==2): \n",
    "        count3 = count3+1\n",
    "total = count1+count2+count3\n",
    "print(\"***************************************************************\")\n",
    "print(\"Analysis on test data for medium road\")\n",
    "print()\n",
    "print(\"true detection for                    :\",(count2/total)*100,\"%\")\n",
    "print(\"false detection - good is predicted   :\",(count1/total)*100,\"%\")\n",
    "print(\"false detection - bad is predicted    :\",(count3/total)*100,\"%\")\n",
    "\n",
    "\n",
    "# bad road \n",
    "count1=0\n",
    "count2=0\n",
    "count3=0\n",
    "\n",
    "for i in range(0,x_test.shape[0]):\n",
    "    \n",
    "    if (int(y_test1[i])==2 and pred_test[i]==0):\n",
    "        count1 = count1+1\n",
    "    elif(int(y_test1[i])==2 and pred_test[i]==1): \n",
    "        count2 = count2+1\n",
    "    elif(int(y_test1[i])==2 and pred_test[i]==2): \n",
    "        count3 = count3+1\n",
    "total = count1+count2+count3\n",
    "print(\"***************************************************************\")\n",
    "print(\"Analysis on test data for bad road\")\n",
    "print()\n",
    "print(\"true detection for                       :\",(count3/total)*100,\"%\")\n",
    "print(\"false detection - good is predicted      :\",(count1/total)*100,\"%\")\n",
    "print(\"false detection - medium is predicted    :\",(count2/total)*100,\"%\")"
   ]
  },
  {
   "cell_type": "code",
   "execution_count": 60,
   "metadata": {},
   "outputs": [
    {
     "name": "stdout",
     "output_type": "stream",
     "text": [
      "Accuracy on training data =  91.04166666666667 %\n",
      "Accuracy on test data =  88.61111111111111 %\n"
     ]
    }
   ],
   "source": [
    "from sklearn.metrics import accuracy_score\n",
    "\n",
    "# prediction on training data\n",
    "label = np.array(y_train1)\n",
    "pred_train = model.predict_classes(x_train)\n",
    "print(\"Accuracy on training data = \",accuracy_score(label,pred_train)*100,\"%\")\n",
    "\n",
    "# prediction on test data\n",
    "label = np.array(y_test1)\n",
    "pred_test = model.predict_classes(x_test)\n",
    "print(\"Accuracy on test data = \",accuracy_score(label,pred_test)*100,\"%\")"
   ]
  },
  {
   "cell_type": "markdown",
   "metadata": {},
   "source": [
    "# Loading Model"
   ]
  },
  {
   "cell_type": "code",
   "execution_count": 46,
   "metadata": {},
   "outputs": [],
   "source": [
    "# model.save('road_analytics_model_prefiltered.h5')"
   ]
  },
  {
   "cell_type": "code",
   "execution_count": 47,
   "metadata": {},
   "outputs": [],
   "source": [
    "# from keras.models import load_model\n",
    "# model = load_model('road_analytics_model_prefiltered.h5')"
   ]
  },
  {
   "cell_type": "code",
   "execution_count": 48,
   "metadata": {
    "scrolled": true
   },
   "outputs": [
    {
     "name": "stdout",
     "output_type": "stream",
     "text": [
      "Model: \"sequential\"\n",
      "_________________________________________________________________\n",
      "Layer (type)                 Output Shape              Param #   \n",
      "=================================================================\n",
      "dense (Dense)                (None, 16)                80        \n",
      "_________________________________________________________________\n",
      "dropout (Dropout)            (None, 16)                0         \n",
      "_________________________________________________________________\n",
      "dense_1 (Dense)              (None, 32)                544       \n",
      "_________________________________________________________________\n",
      "dropout_1 (Dropout)          (None, 32)                0         \n",
      "_________________________________________________________________\n",
      "dense_2 (Dense)              (None, 64)                2112      \n",
      "_________________________________________________________________\n",
      "dropout_2 (Dropout)          (None, 64)                0         \n",
      "_________________________________________________________________\n",
      "dense_3 (Dense)              (None, 32)                2080      \n",
      "_________________________________________________________________\n",
      "dropout_3 (Dropout)          (None, 32)                0         \n",
      "_________________________________________________________________\n",
      "dense_4 (Dense)              (None, 3)                 99        \n",
      "=================================================================\n",
      "Total params: 4,915\n",
      "Trainable params: 4,915\n",
      "Non-trainable params: 0\n",
      "_________________________________________________________________\n"
     ]
    }
   ],
   "source": [
    "model.summary()"
   ]
  },
  {
   "cell_type": "code",
   "execution_count": 49,
   "metadata": {
    "scrolled": true
   },
   "outputs": [
    {
     "name": "stdout",
     "output_type": "stream",
     "text": [
      "(1440, 3)\n"
     ]
    }
   ],
   "source": [
    "label=np.array(y_train)\n",
    "print(label.shape)"
   ]
  },
  {
   "cell_type": "code",
   "execution_count": 50,
   "metadata": {},
   "outputs": [
    {
     "name": "stdout",
     "output_type": "stream",
     "text": [
      "[[2.4639570e-14 2.2667082e-02 9.7733295e-01]]\n",
      "[2]\n"
     ]
    }
   ],
   "source": [
    "samples = np.array([data[1585][0:-1]])    \n",
    "print(model.predict(samples))\n",
    "prediction = model.predict_classes(samples)\n",
    "print(prediction)"
   ]
  },
  {
   "cell_type": "code",
   "execution_count": 52,
   "metadata": {},
   "outputs": [
    {
     "name": "stdout",
     "output_type": "stream",
     "text": [
      "[[2.8632e-02 3.2500e-05 1.3093e-03 6.6799e-04]]\n",
      "[0]\n"
     ]
    }
   ],
   "source": [
    "samples = np.array([[0.028632,3.25E-05,0.0013093,0.00066799]])      \n",
    "print(samples)\n",
    "prediction = model.predict_classes(samples)\n",
    "print(prediction)"
   ]
  },
  {
   "cell_type": "code",
   "execution_count": 53,
   "metadata": {},
   "outputs": [
    {
     "name": "stdout",
     "output_type": "stream",
     "text": [
      "[[0.02464   0.018678  0.0095863 0.0089315]]\n",
      "[0]\n"
     ]
    }
   ],
   "source": [
    "samples = np.array([[0.02464,0.018678,0.0095863,0.0089315]])      \n",
    "print(samples)\n",
    "prediction = model.predict_classes(samples)\n",
    "print(prediction)"
   ]
  },
  {
   "cell_type": "code",
   "execution_count": null,
   "metadata": {},
   "outputs": [],
   "source": []
  },
  {
   "cell_type": "code",
   "execution_count": null,
   "metadata": {},
   "outputs": [],
   "source": []
  }
 ],
 "metadata": {
  "kernelspec": {
   "display_name": "Python 3",
   "language": "python",
   "name": "python3"
  },
  "language_info": {
   "codemirror_mode": {
    "name": "ipython",
    "version": 3
   },
   "file_extension": ".py",
   "mimetype": "text/x-python",
   "name": "python",
   "nbconvert_exporter": "python",
   "pygments_lexer": "ipython3",
   "version": "3.7.6"
  }
 },
 "nbformat": 4,
 "nbformat_minor": 4
}
