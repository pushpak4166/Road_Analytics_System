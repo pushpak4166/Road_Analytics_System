{
 "cells": [
  {
   "cell_type": "markdown",
   "metadata": {},
   "source": [
    "# Road Analytics Prefiltered \n",
    "\n",
    "## for multiple road conditions "
   ]
  },
  {
   "cell_type": "code",
   "execution_count": 1,
   "metadata": {},
   "outputs": [],
   "source": [
    "from keras.models import Sequential\n",
    "from sklearn.model_selection import train_test_split\n",
    "from keras.layers.core import Dense,Dropout\n",
    "from keras.optimizers import Adam\n",
    "import numpy as np\n",
    "import matplotlib.pyplot as plt\n",
    "from keras.utils import to_categorical"
   ]
  },
  {
   "cell_type": "code",
   "execution_count": 2,
   "metadata": {},
   "outputs": [],
   "source": [
    "import pandas as pd"
   ]
  },
  {
   "cell_type": "code",
   "execution_count": 3,
   "metadata": {},
   "outputs": [],
   "source": [
    "data = np.loadtxt(\"dataset_modified_2/dataset_prefiltered.csv\",delimiter=\",\")"
   ]
  },
  {
   "cell_type": "code",
   "execution_count": 4,
   "metadata": {
    "scrolled": false
   },
   "outputs": [
    {
     "data": {
      "text/plain": [
       "(1904, 5)"
      ]
     },
     "execution_count": 4,
     "metadata": {},
     "output_type": "execute_result"
    }
   ],
   "source": [
    "data.shape"
   ]
  },
  {
   "cell_type": "code",
   "execution_count": 5,
   "metadata": {},
   "outputs": [
    {
     "name": "stdout",
     "output_type": "stream",
     "text": [
      "(1904, 4)\n",
      "(1904,)\n"
     ]
    }
   ],
   "source": [
    "x = data[:,0:-1]\n",
    "y = data[:,-1]\n",
    "\n",
    "# Spliting dataset into train and test \n",
    "x_train,x_test,y_train,y_test = train_test_split(x,y,test_size=0.2,random_state=10)\n",
    "print(x.shape)\n",
    "print(y.shape)"
   ]
  },
  {
   "cell_type": "code",
   "execution_count": 6,
   "metadata": {},
   "outputs": [
    {
     "data": {
      "text/plain": [
       "4"
      ]
     },
     "execution_count": 6,
     "metadata": {},
     "output_type": "execute_result"
    }
   ],
   "source": [
    "# size of input\n",
    "x.shape[1]"
   ]
  },
  {
   "cell_type": "code",
   "execution_count": 7,
   "metadata": {},
   "outputs": [
    {
     "name": "stdout",
     "output_type": "stream",
     "text": [
      "(1523, 4)\n",
      "(381, 4)\n"
     ]
    }
   ],
   "source": [
    "print(x_train.shape)\n",
    "print(x_test.shape)"
   ]
  },
  {
   "cell_type": "code",
   "execution_count": 8,
   "metadata": {},
   "outputs": [
    {
     "name": "stdout",
     "output_type": "stream",
     "text": [
      "0 : 600\n",
      "1 : 598\n",
      "2 : 706\n"
     ]
    }
   ],
   "source": [
    "count_of_0=0 \n",
    "for i in y:\n",
    "    if (i==0) :\n",
    "        count_of_0=count_of_0+1\n",
    "print(\"0 :\",count_of_0)\n",
    "count_of_1=0 \n",
    "for i in y:\n",
    "    if (i==1) :\n",
    "        count_of_1=count_of_1+1\n",
    "print(\"1 :\",count_of_1)\n",
    "count_of_2=0 \n",
    "for i in y:\n",
    "    if (i==2) :\n",
    "        count_of_2=count_of_2+1\n",
    "print(\"2 :\",count_of_2)"
   ]
  },
  {
   "cell_type": "code",
   "execution_count": 9,
   "metadata": {},
   "outputs": [],
   "source": [
    "y_train1 = y_train\n",
    "y_test1 = y_test"
   ]
  },
  {
   "cell_type": "code",
   "execution_count": 10,
   "metadata": {},
   "outputs": [],
   "source": [
    "#Converting the labels into one hot encoding\n",
    "y_train = to_categorical(y_train, 3)\n",
    "y_test = to_categorical(y_test, 3)"
   ]
  },
  {
   "cell_type": "code",
   "execution_count": 11,
   "metadata": {
    "scrolled": false
   },
   "outputs": [
    {
     "data": {
      "text/plain": [
       "array([[1., 0., 0.],\n",
       "       [0., 1., 0.],\n",
       "       [0., 1., 0.],\n",
       "       ...,\n",
       "       [0., 0., 1.],\n",
       "       [0., 1., 0.],\n",
       "       [1., 0., 0.]], dtype=float32)"
      ]
     },
     "execution_count": 11,
     "metadata": {},
     "output_type": "execute_result"
    }
   ],
   "source": [
    "y_train"
   ]
  },
  {
   "cell_type": "code",
   "execution_count": 12,
   "metadata": {
    "scrolled": false
   },
   "outputs": [
    {
     "data": {
      "text/plain": [
       "array([[0., 1., 0.],\n",
       "       [1., 0., 0.],\n",
       "       [1., 0., 0.],\n",
       "       ...,\n",
       "       [0., 0., 1.],\n",
       "       [1., 0., 0.],\n",
       "       [1., 0., 0.]], dtype=float32)"
      ]
     },
     "execution_count": 12,
     "metadata": {},
     "output_type": "execute_result"
    }
   ],
   "source": [
    "y_test"
   ]
  },
  {
   "cell_type": "code",
   "execution_count": 13,
   "metadata": {},
   "outputs": [
    {
     "data": {
      "text/plain": [
       "3"
      ]
     },
     "execution_count": 13,
     "metadata": {},
     "output_type": "execute_result"
    }
   ],
   "source": [
    "y_train.shape[1]"
   ]
  },
  {
   "cell_type": "markdown",
   "metadata": {},
   "source": [
    "# Creating the model"
   ]
  },
  {
   "cell_type": "code",
   "execution_count": 14,
   "metadata": {},
   "outputs": [],
   "source": [
    "model = Sequential()\n",
    "model.add(Dense(16,input_dim=x.shape[1],activation='relu'))\n",
    "model.add(Dropout(0.0))\n",
    "model.add(Dense(32,activation='relu'))\n",
    "model.add(Dropout(0.0))\n",
    "model.add(Dense(64,activation='relu'))\n",
    "model.add(Dropout(0.05))\n",
    "model.add(Dense(32,activation='relu'))\n",
    "model.add(Dropout(0.0))\n",
    "model.add(Dense(y_train.shape[1],activation='softmax'))"
   ]
  },
  {
   "cell_type": "markdown",
   "metadata": {},
   "source": [
    "# Compiling and Training the model "
   ]
  },
  {
   "cell_type": "code",
   "execution_count": 15,
   "metadata": {},
   "outputs": [],
   "source": [
    "from keras.callbacks import EarlyStopping, ModelCheckpoint, ReduceLROnPlateau\n"
   ]
  },
  {
   "cell_type": "code",
   "execution_count": 16,
   "metadata": {},
   "outputs": [
    {
     "name": "stdout",
     "output_type": "stream",
     "text": [
      "Epoch 1/100\n",
      "48/48 [==============================] - 1s 11ms/step - loss: 0.9385 - accuracy: 0.4800 - val_loss: 0.8349 - val_accuracy: 0.6273\n",
      "Epoch 2/100\n",
      "48/48 [==============================] - 0s 2ms/step - loss: 0.7504 - accuracy: 0.6868 - val_loss: 0.6525 - val_accuracy: 0.7244\n",
      "Epoch 3/100\n",
      "48/48 [==============================] - 0s 2ms/step - loss: 0.6136 - accuracy: 0.7315 - val_loss: 0.5528 - val_accuracy: 0.7585\n",
      "Epoch 4/100\n",
      "48/48 [==============================] - 0s 2ms/step - loss: 0.5501 - accuracy: 0.7544 - val_loss: 0.5157 - val_accuracy: 0.7822\n",
      "Epoch 5/100\n",
      "48/48 [==============================] - 0s 2ms/step - loss: 0.5091 - accuracy: 0.7708 - val_loss: 0.5079 - val_accuracy: 0.7690\n",
      "Epoch 6/100\n",
      "48/48 [==============================] - 0s 2ms/step - loss: 0.4860 - accuracy: 0.7859 - val_loss: 0.4602 - val_accuracy: 0.7795\n",
      "Epoch 7/100\n",
      "48/48 [==============================] - 0s 2ms/step - loss: 0.4700 - accuracy: 0.7925 - val_loss: 0.4840 - val_accuracy: 0.7900\n",
      "Epoch 8/100\n",
      "48/48 [==============================] - 0s 3ms/step - loss: 0.4629 - accuracy: 0.7965 - val_loss: 0.4532 - val_accuracy: 0.7822\n",
      "Epoch 9/100\n",
      "48/48 [==============================] - 0s 3ms/step - loss: 0.4447 - accuracy: 0.8024 - val_loss: 0.4392 - val_accuracy: 0.7953\n",
      "Epoch 10/100\n",
      "48/48 [==============================] - 0s 3ms/step - loss: 0.4370 - accuracy: 0.8096 - val_loss: 0.4250 - val_accuracy: 0.8136\n",
      "Epoch 11/100\n",
      "48/48 [==============================] - 0s 3ms/step - loss: 0.4208 - accuracy: 0.8234 - val_loss: 0.4143 - val_accuracy: 0.8189\n",
      "Epoch 12/100\n",
      "48/48 [==============================] - 0s 3ms/step - loss: 0.4049 - accuracy: 0.8162 - val_loss: 0.4070 - val_accuracy: 0.8215\n",
      "Epoch 13/100\n",
      "48/48 [==============================] - 0s 5ms/step - loss: 0.3985 - accuracy: 0.8391 - val_loss: 0.3859 - val_accuracy: 0.8399\n",
      "Epoch 14/100\n",
      "48/48 [==============================] - 0s 3ms/step - loss: 0.3841 - accuracy: 0.8464 - val_loss: 0.3844 - val_accuracy: 0.8241\n",
      "Epoch 15/100\n",
      "48/48 [==============================] - 0s 3ms/step - loss: 0.3754 - accuracy: 0.8529 - val_loss: 0.3670 - val_accuracy: 0.8425\n",
      "Epoch 16/100\n",
      "48/48 [==============================] - 0s 3ms/step - loss: 0.3650 - accuracy: 0.8555 - val_loss: 0.3649 - val_accuracy: 0.8556\n",
      "Epoch 17/100\n",
      "48/48 [==============================] - 0s 3ms/step - loss: 0.3548 - accuracy: 0.8542 - val_loss: 0.3588 - val_accuracy: 0.8346\n",
      "Epoch 18/100\n",
      "48/48 [==============================] - 0s 3ms/step - loss: 0.3542 - accuracy: 0.8510 - val_loss: 0.3985 - val_accuracy: 0.8320\n",
      "Epoch 19/100\n",
      "48/48 [==============================] - 0s 3ms/step - loss: 0.3545 - accuracy: 0.8549 - val_loss: 0.3421 - val_accuracy: 0.8609\n",
      "Epoch 20/100\n",
      "48/48 [==============================] - 0s 3ms/step - loss: 0.3512 - accuracy: 0.8536 - val_loss: 0.3702 - val_accuracy: 0.8661\n",
      "Epoch 21/100\n",
      "48/48 [==============================] - 0s 7ms/step - loss: 0.3488 - accuracy: 0.8615 - val_loss: 0.3462 - val_accuracy: 0.8635\n",
      "Epoch 22/100\n",
      "48/48 [==============================] - 0s 7ms/step - loss: 0.3376 - accuracy: 0.8687 - val_loss: 0.3405 - val_accuracy: 0.8635\n",
      "Epoch 23/100\n",
      "48/48 [==============================] - 0s 6ms/step - loss: 0.3335 - accuracy: 0.8693 - val_loss: 0.3300 - val_accuracy: 0.8635\n",
      "Epoch 24/100\n",
      "48/48 [==============================] - 0s 7ms/step - loss: 0.3289 - accuracy: 0.8772 - val_loss: 0.3447 - val_accuracy: 0.8635\n",
      "Epoch 25/100\n",
      "48/48 [==============================] - 0s 7ms/step - loss: 0.3282 - accuracy: 0.8713 - val_loss: 0.3306 - val_accuracy: 0.8609\n",
      "Epoch 26/100\n",
      "48/48 [==============================] - 0s 7ms/step - loss: 0.3264 - accuracy: 0.8746 - val_loss: 0.3325 - val_accuracy: 0.8609\n",
      "Epoch 27/100\n",
      "48/48 [==============================] - 0s 7ms/step - loss: 0.3160 - accuracy: 0.8766 - val_loss: 0.3306 - val_accuracy: 0.8583\n",
      "Epoch 28/100\n",
      "48/48 [==============================] - 0s 7ms/step - loss: 0.3249 - accuracy: 0.8733 - val_loss: 0.3294 - val_accuracy: 0.8661\n",
      "Epoch 29/100\n",
      "48/48 [==============================] - 0s 7ms/step - loss: 0.3241 - accuracy: 0.8693 - val_loss: 0.3603 - val_accuracy: 0.8583\n",
      "Epoch 30/100\n",
      "48/48 [==============================] - 0s 7ms/step - loss: 0.3150 - accuracy: 0.8831 - val_loss: 0.3455 - val_accuracy: 0.8635\n",
      "Epoch 31/100\n",
      "48/48 [==============================] - 0s 7ms/step - loss: 0.3106 - accuracy: 0.8779 - val_loss: 0.3200 - val_accuracy: 0.8609\n",
      "Epoch 32/100\n",
      "48/48 [==============================] - 0s 7ms/step - loss: 0.3110 - accuracy: 0.8805 - val_loss: 0.3276 - val_accuracy: 0.8609\n",
      "Epoch 33/100\n",
      "48/48 [==============================] - 0s 7ms/step - loss: 0.3152 - accuracy: 0.8772 - val_loss: 0.3302 - val_accuracy: 0.8556\n",
      "Epoch 34/100\n",
      "48/48 [==============================] - 0s 6ms/step - loss: 0.3062 - accuracy: 0.8812 - val_loss: 0.3244 - val_accuracy: 0.8530\n",
      "Epoch 35/100\n",
      "48/48 [==============================] - 0s 7ms/step - loss: 0.3088 - accuracy: 0.8759 - val_loss: 0.3361 - val_accuracy: 0.8556\n",
      "Epoch 36/100\n",
      "48/48 [==============================] - 0s 7ms/step - loss: 0.3145 - accuracy: 0.8752 - val_loss: 0.3413 - val_accuracy: 0.8556\n",
      "Epoch 37/100\n",
      "48/48 [==============================] - 0s 7ms/step - loss: 0.3062 - accuracy: 0.8805 - val_loss: 0.3295 - val_accuracy: 0.8661\n",
      "Epoch 38/100\n",
      "48/48 [==============================] - 0s 7ms/step - loss: 0.3040 - accuracy: 0.8818 - val_loss: 0.3317 - val_accuracy: 0.8740\n",
      "Epoch 39/100\n",
      "48/48 [==============================] - 0s 6ms/step - loss: 0.3113 - accuracy: 0.8825 - val_loss: 0.3315 - val_accuracy: 0.8661\n",
      "Epoch 40/100\n",
      "48/48 [==============================] - 0s 3ms/step - loss: 0.3090 - accuracy: 0.8792 - val_loss: 0.3326 - val_accuracy: 0.8556\n",
      "Epoch 41/100\n",
      "48/48 [==============================] - 0s 3ms/step - loss: 0.3009 - accuracy: 0.8851 - val_loss: 0.3297 - val_accuracy: 0.8583\n",
      "Epoch 42/100\n",
      "48/48 [==============================] - 0s 6ms/step - loss: 0.3003 - accuracy: 0.8733 - val_loss: 0.3146 - val_accuracy: 0.8661\n",
      "Epoch 43/100\n",
      "48/48 [==============================] - 0s 2ms/step - loss: 0.2987 - accuracy: 0.8825 - val_loss: 0.3389 - val_accuracy: 0.8661\n",
      "Epoch 44/100\n",
      "48/48 [==============================] - 0s 3ms/step - loss: 0.2981 - accuracy: 0.8785 - val_loss: 0.3114 - val_accuracy: 0.8661\n",
      "Epoch 45/100\n",
      "48/48 [==============================] - 0s 3ms/step - loss: 0.3025 - accuracy: 0.8831 - val_loss: 0.3203 - val_accuracy: 0.8688\n",
      "Epoch 46/100\n",
      "48/48 [==============================] - 0s 3ms/step - loss: 0.2944 - accuracy: 0.8890 - val_loss: 0.3532 - val_accuracy: 0.8583\n",
      "Epoch 47/100\n",
      "48/48 [==============================] - 0s 3ms/step - loss: 0.3154 - accuracy: 0.8812 - val_loss: 0.3155 - val_accuracy: 0.8609\n",
      "Epoch 48/100\n",
      "48/48 [==============================] - 0s 6ms/step - loss: 0.2942 - accuracy: 0.8818 - val_loss: 0.3270 - val_accuracy: 0.8688\n",
      "Epoch 49/100\n",
      "48/48 [==============================] - 0s 5ms/step - loss: 0.3019 - accuracy: 0.8825 - val_loss: 0.3179 - val_accuracy: 0.8688\n",
      "Epoch 50/100\n",
      "48/48 [==============================] - 0s 6ms/step - loss: 0.2955 - accuracy: 0.8858 - val_loss: 0.3244 - val_accuracy: 0.8661\n",
      "Epoch 51/100\n",
      "48/48 [==============================] - 0s 6ms/step - loss: 0.2920 - accuracy: 0.8812 - val_loss: 0.3203 - val_accuracy: 0.8609\n",
      "Epoch 52/100\n",
      "48/48 [==============================] - 0s 5ms/step - loss: 0.2860 - accuracy: 0.8930 - val_loss: 0.3448 - val_accuracy: 0.8425\n",
      "Epoch 53/100\n",
      "48/48 [==============================] - 0s 6ms/step - loss: 0.3130 - accuracy: 0.8785 - val_loss: 0.3142 - val_accuracy: 0.8714\n",
      "Epoch 54/100\n",
      "48/48 [==============================] - 0s 5ms/step - loss: 0.2914 - accuracy: 0.8864 - val_loss: 0.3147 - val_accuracy: 0.8688\n",
      "Epoch 55/100\n",
      "48/48 [==============================] - 0s 7ms/step - loss: 0.2891 - accuracy: 0.8851 - val_loss: 0.3627 - val_accuracy: 0.8530\n",
      "Epoch 56/100\n",
      "48/48 [==============================] - 0s 4ms/step - loss: 0.3239 - accuracy: 0.8759 - val_loss: 0.3313 - val_accuracy: 0.8661\n",
      "Epoch 57/100\n",
      "48/48 [==============================] - 0s 5ms/step - loss: 0.2984 - accuracy: 0.8805 - val_loss: 0.3120 - val_accuracy: 0.8635\n",
      "Epoch 58/100\n",
      "48/48 [==============================] - 0s 4ms/step - loss: 0.2826 - accuracy: 0.8897 - val_loss: 0.3044 - val_accuracy: 0.8661\n"
     ]
    },
    {
     "name": "stdout",
     "output_type": "stream",
     "text": [
      "Epoch 59/100\n",
      "48/48 [==============================] - 0s 4ms/step - loss: 0.2816 - accuracy: 0.8838 - val_loss: 0.3385 - val_accuracy: 0.8688\n",
      "Epoch 60/100\n",
      "48/48 [==============================] - 0s 4ms/step - loss: 0.2834 - accuracy: 0.8917 - val_loss: 0.3177 - val_accuracy: 0.8766\n",
      "Epoch 61/100\n",
      "48/48 [==============================] - 0s 6ms/step - loss: 0.2783 - accuracy: 0.8943 - val_loss: 0.3260 - val_accuracy: 0.8688\n",
      "Epoch 62/100\n",
      "48/48 [==============================] - 0s 6ms/step - loss: 0.2790 - accuracy: 0.8890 - val_loss: 0.3053 - val_accuracy: 0.8714\n",
      "Epoch 63/100\n",
      "48/48 [==============================] - 0s 3ms/step - loss: 0.2753 - accuracy: 0.8949 - val_loss: 0.3103 - val_accuracy: 0.8688\n",
      "Epoch 64/100\n",
      "48/48 [==============================] - 0s 5ms/step - loss: 0.2718 - accuracy: 0.8910 - val_loss: 0.3147 - val_accuracy: 0.8793\n",
      "Epoch 65/100\n",
      "48/48 [==============================] - 0s 6ms/step - loss: 0.2789 - accuracy: 0.8923 - val_loss: 0.3098 - val_accuracy: 0.8714\n",
      "Epoch 66/100\n",
      "48/48 [==============================] - 0s 5ms/step - loss: 0.2799 - accuracy: 0.8871 - val_loss: 0.3095 - val_accuracy: 0.8583\n",
      "Epoch 67/100\n",
      "48/48 [==============================] - 0s 6ms/step - loss: 0.2824 - accuracy: 0.8903 - val_loss: 0.3149 - val_accuracy: 0.8609\n",
      "Epoch 68/100\n",
      "48/48 [==============================] - 0s 4ms/step - loss: 0.2866 - accuracy: 0.8877 - val_loss: 0.3056 - val_accuracy: 0.8688\n",
      "Epoch 69/100\n",
      "48/48 [==============================] - 0s 4ms/step - loss: 0.2797 - accuracy: 0.8903 - val_loss: 0.3382 - val_accuracy: 0.8583\n",
      "Epoch 70/100\n",
      "48/48 [==============================] - 0s 6ms/step - loss: 0.2751 - accuracy: 0.8910 - val_loss: 0.3177 - val_accuracy: 0.8661\n",
      "Epoch 71/100\n",
      "48/48 [==============================] - 0s 6ms/step - loss: 0.2698 - accuracy: 0.8936 - val_loss: 0.3156 - val_accuracy: 0.8766\n",
      "Epoch 72/100\n",
      "48/48 [==============================] - 0s 6ms/step - loss: 0.2719 - accuracy: 0.8930 - val_loss: 0.3168 - val_accuracy: 0.8688\n",
      "Epoch 73/100\n",
      "48/48 [==============================] - 0s 5ms/step - loss: 0.2742 - accuracy: 0.8923 - val_loss: 0.3057 - val_accuracy: 0.8661\n",
      "Epoch 74/100\n",
      "48/48 [==============================] - 0s 6ms/step - loss: 0.2785 - accuracy: 0.8871 - val_loss: 0.3084 - val_accuracy: 0.8714\n",
      "Epoch 75/100\n",
      "48/48 [==============================] - 0s 7ms/step - loss: 0.2696 - accuracy: 0.8936 - val_loss: 0.3257 - val_accuracy: 0.8766\n",
      "Epoch 76/100\n",
      "48/48 [==============================] - 0s 7ms/step - loss: 0.2686 - accuracy: 0.8956 - val_loss: 0.3074 - val_accuracy: 0.8688\n",
      "Epoch 77/100\n",
      "48/48 [==============================] - 0s 6ms/step - loss: 0.2720 - accuracy: 0.8923 - val_loss: 0.2996 - val_accuracy: 0.8793\n",
      "Epoch 78/100\n",
      "48/48 [==============================] - 0s 7ms/step - loss: 0.2635 - accuracy: 0.8976 - val_loss: 0.3153 - val_accuracy: 0.8766\n",
      "Epoch 79/100\n",
      "48/48 [==============================] - 0s 5ms/step - loss: 0.2626 - accuracy: 0.8963 - val_loss: 0.3109 - val_accuracy: 0.8661\n",
      "Epoch 80/100\n",
      "48/48 [==============================] - 0s 6ms/step - loss: 0.2660 - accuracy: 0.8923 - val_loss: 0.3183 - val_accuracy: 0.8661\n",
      "Epoch 81/100\n",
      "48/48 [==============================] - 0s 6ms/step - loss: 0.2640 - accuracy: 0.8943 - val_loss: 0.3058 - val_accuracy: 0.8740\n",
      "Epoch 82/100\n",
      "48/48 [==============================] - 0s 7ms/step - loss: 0.2624 - accuracy: 0.8930 - val_loss: 0.3048 - val_accuracy: 0.8819\n",
      "Epoch 83/100\n",
      "48/48 [==============================] - 0s 7ms/step - loss: 0.2640 - accuracy: 0.8969 - val_loss: 0.3114 - val_accuracy: 0.8766\n",
      "Epoch 84/100\n",
      "48/48 [==============================] - 0s 7ms/step - loss: 0.2688 - accuracy: 0.8923 - val_loss: 0.3012 - val_accuracy: 0.8950\n",
      "Epoch 85/100\n",
      "48/48 [==============================] - 0s 7ms/step - loss: 0.2667 - accuracy: 0.8963 - val_loss: 0.3071 - val_accuracy: 0.8845\n",
      "Epoch 86/100\n",
      "48/48 [==============================] - 0s 8ms/step - loss: 0.2588 - accuracy: 0.8976 - val_loss: 0.3237 - val_accuracy: 0.8661\n",
      "Epoch 87/100\n",
      "48/48 [==============================] - 0s 6ms/step - loss: 0.2635 - accuracy: 0.8903 - val_loss: 0.3020 - val_accuracy: 0.8688\n",
      "Epoch 88/100\n",
      "48/48 [==============================] - 0s 6ms/step - loss: 0.2580 - accuracy: 0.8982 - val_loss: 0.3162 - val_accuracy: 0.8793\n",
      "Epoch 89/100\n",
      "48/48 [==============================] - 0s 7ms/step - loss: 0.2617 - accuracy: 0.8969 - val_loss: 0.3013 - val_accuracy: 0.8688\n",
      "Epoch 90/100\n",
      "48/48 [==============================] - 0s 7ms/step - loss: 0.2658 - accuracy: 0.8930 - val_loss: 0.3239 - val_accuracy: 0.8740\n",
      "Epoch 91/100\n",
      "48/48 [==============================] - 0s 7ms/step - loss: 0.2663 - accuracy: 0.8936 - val_loss: 0.3100 - val_accuracy: 0.8766\n",
      "Epoch 92/100\n",
      "48/48 [==============================] - 0s 7ms/step - loss: 0.2661 - accuracy: 0.8923 - val_loss: 0.3046 - val_accuracy: 0.8688\n",
      "Epoch 93/100\n",
      "48/48 [==============================] - 0s 4ms/step - loss: 0.2641 - accuracy: 0.8897 - val_loss: 0.3432 - val_accuracy: 0.8661\n",
      "Epoch 94/100\n",
      "48/48 [==============================] - 0s 5ms/step - loss: 0.2671 - accuracy: 0.8956 - val_loss: 0.3181 - val_accuracy: 0.8766\n",
      "Epoch 95/100\n",
      "48/48 [==============================] - 0s 6ms/step - loss: 0.2596 - accuracy: 0.8982 - val_loss: 0.3117 - val_accuracy: 0.8766\n",
      "Epoch 96/100\n",
      "48/48 [==============================] - 0s 7ms/step - loss: 0.2550 - accuracy: 0.8943 - val_loss: 0.2935 - val_accuracy: 0.8793\n",
      "Epoch 97/100\n",
      "48/48 [==============================] - 0s 6ms/step - loss: 0.2671 - accuracy: 0.8871 - val_loss: 0.3371 - val_accuracy: 0.8793\n",
      "Epoch 98/100\n",
      "48/48 [==============================] - 0s 7ms/step - loss: 0.2534 - accuracy: 0.8956 - val_loss: 0.3287 - val_accuracy: 0.8766\n",
      "Epoch 99/100\n",
      "48/48 [==============================] - 0s 7ms/step - loss: 0.2587 - accuracy: 0.8956 - val_loss: 0.3612 - val_accuracy: 0.8635\n",
      "Epoch 100/100\n",
      "48/48 [==============================] - 0s 6ms/step - loss: 0.2704 - accuracy: 0.8917 - val_loss: 0.2903 - val_accuracy: 0.8819\n"
     ]
    }
   ],
   "source": [
    "learning_rate = 0.001\n",
    "\n",
    "#Compilation of the model\n",
    "model.compile(loss='categorical_crossentropy', optimizer=Adam(learning_rate), metrics=['accuracy'])\n",
    "epochs = 100\n",
    "history = model.fit(x_train, y_train, batch_size=32, epochs=epochs,validation_data=(x_test, y_test))"
   ]
  },
  {
   "cell_type": "markdown",
   "metadata": {},
   "source": [
    "# Plotting graphs for accuracy "
   ]
  },
  {
   "cell_type": "code",
   "execution_count": 17,
   "metadata": {
    "scrolled": true
   },
   "outputs": [
    {
     "data": {
      "image/png": "[encoded data removed]",
      "text/plain": [
       "<Figure size 432x288 with 1 Axes>"
      ]
     },
     "metadata": {
      "needs_background": "light"
     },
     "output_type": "display_data"
    },
    {
     "data": {
      "image/png": "[encoded data removed]",
      "text/plain": [
       "<Figure size 432x288 with 1 Axes>"
      ]
     },
     "metadata": {
      "needs_background": "light"
     },
     "output_type": "display_data"
    }
   ],
   "source": [
    "plt.figure(0)\n",
    "plt.plot(history.history['accuracy'],label='training accuracy')\n",
    "plt.plot(history.history['val_accuracy'],label='val_accuracy')\n",
    "plt.title('Accuracy')\n",
    "plt.xlabel('epochs')\n",
    "plt.ylabel('accuracy')\n",
    "plt.legend()\n",
    "plt.show()\n",
    "\n",
    "plt.figure(1)\n",
    "plt.plot(history.history['loss'], label='training loss')\n",
    "plt.plot(history.history['val_loss'], label='val loss')\n",
    "plt.title('Loss')\n",
    "plt.xlabel('epochs')\n",
    "plt.ylabel('loss')\n",
    "plt.legend()\n",
    "plt.show()"
   ]
  },
  {
   "cell_type": "code",
   "execution_count": 19,
   "metadata": {},
   "outputs": [
    {
     "name": "stdout",
     "output_type": "stream",
     "text": [
      "class 0 : 498\n",
      "class 1 : 470\n",
      "class 2 : 555\n"
     ]
    }
   ],
   "source": [
    "pred_train = model.predict_classes(x_train)\n",
    "count0=0\n",
    "count1=0\n",
    "count2=0\n",
    "for i in pred_train:\n",
    "    if(i==0):\n",
    "        count0=count0+1\n",
    "    if(i==1):\n",
    "        count1=count1+1\n",
    "    if(i==2):\n",
    "        count2=count2+1\n",
    "\n",
    "print(\"class 0 :\",count0)        \n",
    "print(\"class 1 :\",count1)    \n",
    "print(\"class 2 :\",count2) "
   ]
  },
  {
   "cell_type": "code",
   "execution_count": 20,
   "metadata": {
    "scrolled": true
   },
   "outputs": [
    {
     "data": {
      "text/plain": [
       "381"
      ]
     },
     "execution_count": 20,
     "metadata": {},
     "output_type": "execute_result"
    }
   ],
   "source": [
    "x_test.shape[0]"
   ]
  },
  {
   "cell_type": "code",
   "execution_count": 21,
   "metadata": {},
   "outputs": [
    {
     "name": "stdout",
     "output_type": "stream",
     "text": [
      "*************************************\n",
      "Analysis on training data for good road\n",
      "\n",
      "true detection for  : 96.875 %\n",
      "false detection for : 3.125 %\n",
      "*************************************\n",
      "Analysis on training data for medium road\n",
      "\n",
      "true detection for  : 83.29853862212944 %\n",
      "false detection for : 16.701461377870565 %\n",
      "*************************************\n",
      "Analysis on training data for bad road\n",
      "\n",
      "true detection for  : 90.0709219858156 %\n",
      "false detection for : 9.929078014184398 %\n"
     ]
    }
   ],
   "source": [
    "# analysis on training data\n",
    "pred_train = model.predict_classes(x_train)\n",
    "\n",
    "# good road\n",
    "count1=0\n",
    "count2=0\n",
    "\n",
    "for i in range(0,x_train.shape[0]):\n",
    "    if(pred_train[i]==0 and int(y_train1[i])==0):\n",
    "        count1 = count1+1\n",
    "    elif(int(y_train1[i])==0): \n",
    "        count2 = count2+1\n",
    "total = count1+count2\n",
    "print(\"*************************************\")\n",
    "print(\"Analysis on training data for good road\")\n",
    "print()\n",
    "print(\"true detection for  :\",(count1/total)*100,\"%\")\n",
    "print(\"false detection for :\",(count2/total)*100,\"%\")\n",
    "\n",
    "# medium road\n",
    "count1=0\n",
    "count2=0\n",
    "\n",
    "for i in range(0,x_train.shape[0]):\n",
    "    if(pred_train[i]==1 and int(y_train1[i])==1):\n",
    "        count1 = count1+1\n",
    "    elif(int(y_train1[i])==1): \n",
    "        count2 = count2+1\n",
    "total = count1+count2\n",
    "print(\"*************************************\")\n",
    "print(\"Analysis on training data for medium road\")\n",
    "print()\n",
    "print(\"true detection for  :\",(count1/total)*100,\"%\")\n",
    "print(\"false detection for :\",(count2/total)*100,\"%\")\n",
    "\n",
    "# bad road \n",
    "count1=0\n",
    "count2=0\n",
    "\n",
    "for i in range(0,x_train.shape[0]):\n",
    "    if(pred_train[i]==2 and int(y_train1[i])==2):\n",
    "        count1 = count1+1\n",
    "    elif(int(y_train1[i])==2): \n",
    "        count2 = count2+1\n",
    "total = count1+count2\n",
    "print(\"*************************************\")\n",
    "print(\"Analysis on training data for bad road\")\n",
    "print()\n",
    "print(\"true detection for  :\",(count1/total)*100,\"%\")\n",
    "print(\"false detection for :\",(count2/total)*100,\"%\")"
   ]
  },
  {
   "cell_type": "code",
   "execution_count": 22,
   "metadata": {},
   "outputs": [
    {
     "name": "stdout",
     "output_type": "stream",
     "text": [
      "*************************************\n",
      "Analysis on test data for good road\n",
      "\n",
      "true detection for  : 96.66666666666667 %\n",
      "false detection for : 3.3333333333333335 %\n",
      "*************************************\n",
      "Analysis on test data for medium road\n",
      "\n",
      "true detection for  : 81.5126050420168 %\n",
      "false detection for : 18.487394957983195 %\n",
      "*************************************\n",
      "Analysis on test data for bad road\n",
      "\n",
      "true detection for  : 86.61971830985915 %\n",
      "false detection for : 13.380281690140844 %\n"
     ]
    }
   ],
   "source": [
    "# analysis on test data\n",
    "pred_test = model.predict_classes(x_test)\n",
    "\n",
    "# good road\n",
    "count1=0\n",
    "count2=0\n",
    "\n",
    "for i in range(0,x_test.shape[0]):\n",
    "    if(pred_test[i]==0 and int(y_test1[i])==0):\n",
    "        count1 = count1+1\n",
    "    elif(int(y_test1[i])==0): \n",
    "        count2 = count2+1\n",
    "total = count1+count2\n",
    "print(\"*************************************\")\n",
    "print(\"Analysis on test data for good road\")\n",
    "print()\n",
    "print(\"true detection for  :\",(count1/total)*100,\"%\")\n",
    "print(\"false detection for :\",(count2/total)*100,\"%\")\n",
    "\n",
    "# medium road\n",
    "count1=0\n",
    "count2=0\n",
    "\n",
    "for i in range(0,x_test.shape[0]):\n",
    "    if(pred_test[i]==1 and int(y_test1[i])==1):\n",
    "        count1 = count1+1\n",
    "    elif(int(y_test1[i])==1): \n",
    "        count2 = count2+1\n",
    "total = count1+count2\n",
    "print(\"*************************************\")\n",
    "print(\"Analysis on test data for medium road\")\n",
    "print()\n",
    "print(\"true detection for  :\",(count1/total)*100,\"%\")\n",
    "print(\"false detection for :\",(count2/total)*100,\"%\")\n",
    "\n",
    "# bad road \n",
    "count1=0\n",
    "count2=0\n",
    "\n",
    "for i in range(0,x_test.shape[0]):\n",
    "    if(pred_test[i]==2 and int(y_test1[i])==2):\n",
    "        count1 = count1+1\n",
    "    elif(int(y_test1[i])==2): \n",
    "        count2 = count2+1\n",
    "total = count1+count2\n",
    "print(\"*************************************\")\n",
    "print(\"Analysis on test data for bad road\")\n",
    "print()\n",
    "print(\"true detection for  :\",(count1/total)*100,\"%\")\n",
    "print(\"false detection for :\",(count2/total)*100,\"%\")"
   ]
  },
  {
   "cell_type": "code",
   "execution_count": 23,
   "metadata": {},
   "outputs": [
    {
     "name": "stdout",
     "output_type": "stream",
     "text": [
      "Accuracy on training data =  90.08535784635588 %\n",
      "Accuracy on test data =  88.18897637795276 %\n"
     ]
    }
   ],
   "source": [
    "from sklearn.metrics import accuracy_score\n",
    "\n",
    "# prediction on training data\n",
    "label = np.array(y_train1)\n",
    "pred_train = model.predict_classes(x_train)\n",
    "print(\"Accuracy on training data = \",accuracy_score(label,pred_train)*100,\"%\")\n",
    "\n",
    "# prediction on test data\n",
    "label = np.array(y_test1)\n",
    "pred_test = model.predict_classes(x_test)\n",
    "print(\"Accuracy on test data = \",accuracy_score(label,pred_test)*100,\"%\")"
   ]
  },
  {
   "cell_type": "markdown",
   "metadata": {},
   "source": [
    "# Loading Model"
   ]
  },
  {
   "cell_type": "code",
   "execution_count": 24,
   "metadata": {},
   "outputs": [],
   "source": [
    "# model.save('road_analytics_model_derivative.h5')"
   ]
  },
  {
   "cell_type": "code",
   "execution_count": 25,
   "metadata": {},
   "outputs": [],
   "source": [
    "# from keras.models import load_model\n",
    "# model = load_model('road_analytics_model_derivative.h5')"
   ]
  },
  {
   "cell_type": "code",
   "execution_count": 26,
   "metadata": {
    "scrolled": true
   },
   "outputs": [
    {
     "name": "stdout",
     "output_type": "stream",
     "text": [
      "Model: \"sequential\"\n",
      "_________________________________________________________________\n",
      "Layer (type)                 Output Shape              Param #   \n",
      "=================================================================\n",
      "dense (Dense)                (None, 16)                80        \n",
      "_________________________________________________________________\n",
      "dropout (Dropout)            (None, 16)                0         \n",
      "_________________________________________________________________\n",
      "dense_1 (Dense)              (None, 32)                544       \n",
      "_________________________________________________________________\n",
      "dropout_1 (Dropout)          (None, 32)                0         \n",
      "_________________________________________________________________\n",
      "dense_2 (Dense)              (None, 64)                2112      \n",
      "_________________________________________________________________\n",
      "dropout_2 (Dropout)          (None, 64)                0         \n",
      "_________________________________________________________________\n",
      "dense_3 (Dense)              (None, 32)                2080      \n",
      "_________________________________________________________________\n",
      "dropout_3 (Dropout)          (None, 32)                0         \n",
      "_________________________________________________________________\n",
      "dense_4 (Dense)              (None, 3)                 99        \n",
      "=================================================================\n",
      "Total params: 4,915\n",
      "Trainable params: 4,915\n",
      "Non-trainable params: 0\n",
      "_________________________________________________________________\n"
     ]
    }
   ],
   "source": [
    "model.summary()"
   ]
  },
  {
   "cell_type": "code",
   "execution_count": 27,
   "metadata": {
    "scrolled": true
   },
   "outputs": [
    {
     "name": "stdout",
     "output_type": "stream",
     "text": [
      "(1523, 3)\n"
     ]
    }
   ],
   "source": [
    "label=np.array(y_train)\n",
    "print(label.shape)"
   ]
  },
  {
   "cell_type": "code",
   "execution_count": 33,
   "metadata": {},
   "outputs": [
    {
     "name": "stdout",
     "output_type": "stream",
     "text": [
      "[[3.4036230e-08 3.2308977e-03 9.9676907e-01]]\n",
      "[2]\n"
     ]
    }
   ],
   "source": [
    "samples = np.array([data[1817][0:-1]])    \n",
    "print(model.predict(samples))\n",
    "prediction = model.predict_classes(samples)\n",
    "print(prediction)"
   ]
  },
  {
   "cell_type": "code",
   "execution_count": 35,
   "metadata": {},
   "outputs": [
    {
     "name": "stdout",
     "output_type": "stream",
     "text": [
      "[[0.020389 0.059882 0.012365 0.035234]]\n",
      "[1]\n"
     ]
    }
   ],
   "source": [
    "samples = np.array([data[1883][0:-1]])      \n",
    "print(samples)\n",
    "prediction = model.predict_classes(samples)\n",
    "print(prediction)"
   ]
  },
  {
   "cell_type": "code",
   "execution_count": 30,
   "metadata": {},
   "outputs": [
    {
     "name": "stdout",
     "output_type": "stream",
     "text": [
      "[[2.8632e-02 3.2500e-05 1.3093e-03 6.6799e-04]]\n",
      "[0]\n"
     ]
    }
   ],
   "source": [
    "samples = np.array([[0.028632,3.25E-05,0.0013093,0.00066799]])      \n",
    "print(samples)\n",
    "prediction = model.predict_classes(samples)\n",
    "print(prediction)"
   ]
  },
  {
   "cell_type": "code",
   "execution_count": 31,
   "metadata": {},
   "outputs": [
    {
     "name": "stdout",
     "output_type": "stream",
     "text": [
      "[[0.02464   0.018678  0.0095863 0.0089315]]\n",
      "[0]\n"
     ]
    }
   ],
   "source": [
    "samples = np.array([[0.02464,0.018678,0.0095863,0.0089315]])      \n",
    "print(samples)\n",
    "prediction = model.predict_classes(samples)\n",
    "print(prediction)"
   ]
  },
  {
   "cell_type": "code",
   "execution_count": null,
   "metadata": {},
   "outputs": [],
   "source": []
  }
 ],
 "metadata": {
  "kernelspec": {
   "display_name": "Python 3",
   "language": "python",
   "name": "python3"
  },
  "language_info": {
   "codemirror_mode": {
    "name": "ipython",
    "version": 3
   },
   "file_extension": ".py",
   "mimetype": "text/x-python",
   "name": "python",
   "nbconvert_exporter": "python",
   "pygments_lexer": "ipython3",
   "version": "3.7.6"
  }
 },
 "nbformat": 4,
 "nbformat_minor": 4
}
