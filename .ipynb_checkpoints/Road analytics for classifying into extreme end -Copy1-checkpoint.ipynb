{
 "cells": [
  {
   "cell_type": "markdown",
   "metadata": {},
   "source": [
    "# Road analysis for classifying into extreme end "
   ]
  },
  {
   "cell_type": "code",
   "execution_count": 1,
   "metadata": {},
   "outputs": [],
   "source": [
    "from sklearn.model_selection import train_test_split\n",
    "from keras.models import Sequential\n",
    "from keras.layers.core import Dense,Dropout\n",
    "from keras.optimizers import Adam\n",
    "import pandas as pd\n",
    "import numpy as np\n",
    "import matplotlib.pyplot as plt "
   ]
  },
  {
   "cell_type": "code",
   "execution_count": 2,
   "metadata": {},
   "outputs": [],
   "source": [
    "data = np.loadtxt(\"dataset_modified_2/dataset_.csv\",delimiter=\",\")"
   ]
  },
  {
   "cell_type": "code",
   "execution_count": 3,
   "metadata": {},
   "outputs": [
    {
     "data": {
      "text/plain": [
       "(2110, 5)"
      ]
     },
     "execution_count": 3,
     "metadata": {},
     "output_type": "execute_result"
    }
   ],
   "source": [
    "data.shape"
   ]
  },
  {
   "cell_type": "code",
   "execution_count": 4,
   "metadata": {},
   "outputs": [
    {
     "name": "stdout",
     "output_type": "stream",
     "text": [
      "(2110, 4)\n",
      "(2110,)\n"
     ]
    }
   ],
   "source": [
    "x = data[:,0:-1]\n",
    "y = data[:,-1]\n",
    "\n",
    "# Spliting dataset into train and test \n",
    "x_train,x_test,y_train,y_test = train_test_split(x,y,test_size=0.2,random_state=10)\n",
    "print(x.shape)\n",
    "print(y.shape)"
   ]
  },
  {
   "cell_type": "code",
   "execution_count": 5,
   "metadata": {
    "scrolled": true
   },
   "outputs": [
    {
     "data": {
      "text/plain": [
       "(1688, 4)"
      ]
     },
     "execution_count": 5,
     "metadata": {},
     "output_type": "execute_result"
    }
   ],
   "source": [
    "x_train.shape"
   ]
  },
  {
   "cell_type": "code",
   "execution_count": 6,
   "metadata": {
    "scrolled": true
   },
   "outputs": [
    {
     "data": {
      "text/plain": [
       "(422, 4)"
      ]
     },
     "execution_count": 6,
     "metadata": {},
     "output_type": "execute_result"
    }
   ],
   "source": [
    "x_test.shape"
   ]
  },
  {
   "cell_type": "code",
   "execution_count": 7,
   "metadata": {},
   "outputs": [
    {
     "data": {
      "text/plain": [
       "(422,)"
      ]
     },
     "execution_count": 7,
     "metadata": {},
     "output_type": "execute_result"
    }
   ],
   "source": [
    "y_test.shape"
   ]
  },
  {
   "cell_type": "code",
   "execution_count": 8,
   "metadata": {},
   "outputs": [
    {
     "data": {
      "text/plain": [
       "(1688,)"
      ]
     },
     "execution_count": 8,
     "metadata": {},
     "output_type": "execute_result"
    }
   ],
   "source": [
    "y_train.shape"
   ]
  },
  {
   "cell_type": "code",
   "execution_count": 9,
   "metadata": {},
   "outputs": [
    {
     "data": {
      "text/plain": [
       "array([1., 0., 0., ..., 0., 0., 1.])"
      ]
     },
     "execution_count": 9,
     "metadata": {},
     "output_type": "execute_result"
    }
   ],
   "source": [
    "y_train"
   ]
  },
  {
   "cell_type": "code",
   "execution_count": 10,
   "metadata": {},
   "outputs": [
    {
     "data": {
      "text/plain": [
       "4"
      ]
     },
     "execution_count": 10,
     "metadata": {},
     "output_type": "execute_result"
    }
   ],
   "source": [
    "x_train.shape[1]"
   ]
  },
  {
   "cell_type": "markdown",
   "metadata": {},
   "source": [
    "# Creating the model"
   ]
  },
  {
   "cell_type": "code",
   "execution_count": 64,
   "metadata": {},
   "outputs": [],
   "source": [
    "model = Sequential()\n",
    "model.add(Dense(4,input_dim=x_train.shape[1],activation='relu'))\n",
    "model.add(Dropout(0.0))\n",
    "model.add(Dense(8,activation='relu'))\n",
    "model.add(Dropout(0.0))\n",
    "model.add(Dense(16,activation='relu'))\n",
    "model.add(Dropout(0.0))\n",
    "model.add(Dense(8,activation='relu'))\n",
    "model.add(Dropout(0.0))\n",
    "model.add(Dense(1,activation='sigmoid'))"
   ]
  },
  {
   "cell_type": "markdown",
   "metadata": {},
   "source": [
    "# Compiling the model "
   ]
  },
  {
   "cell_type": "code",
   "execution_count": 65,
   "metadata": {},
   "outputs": [],
   "source": [
    "learning_rate = 0.001\n",
    "model.compile(loss=\"binary_crossentropy\",metrics=['accuracy'],optimizer=Adam(learning_rate))"
   ]
  },
  {
   "cell_type": "markdown",
   "metadata": {},
   "source": [
    "# Training "
   ]
  },
  {
   "cell_type": "code",
   "execution_count": 66,
   "metadata": {
    "scrolled": true
   },
   "outputs": [
    {
     "name": "stdout",
     "output_type": "stream",
     "text": [
      "Epoch 1/50\n",
      "53/53 [==============================] - 0s 3ms/step - loss: 0.6864 - accuracy: 0.5634 - val_loss: 0.6791 - val_accuracy: 0.6256\n",
      "Epoch 2/50\n",
      "53/53 [==============================] - 0s 1ms/step - loss: 0.6709 - accuracy: 0.6351 - val_loss: 0.6577 - val_accuracy: 0.7014\n",
      "Epoch 3/50\n",
      "53/53 [==============================] - 0s 1ms/step - loss: 0.6390 - accuracy: 0.7032 - val_loss: 0.6073 - val_accuracy: 0.7133\n",
      "Epoch 4/50\n",
      "53/53 [==============================] - 0s 1ms/step - loss: 0.5766 - accuracy: 0.7577 - val_loss: 0.5264 - val_accuracy: 0.7678\n",
      "Epoch 5/50\n",
      "53/53 [==============================] - 0s 1ms/step - loss: 0.4962 - accuracy: 0.7974 - val_loss: 0.4533 - val_accuracy: 0.8199\n",
      "Epoch 6/50\n",
      "53/53 [==============================] - 0s 1ms/step - loss: 0.4318 - accuracy: 0.8205 - val_loss: 0.4052 - val_accuracy: 0.8199\n",
      "Epoch 7/50\n",
      "53/53 [==============================] - 0s 1ms/step - loss: 0.4002 - accuracy: 0.8323 - val_loss: 0.3874 - val_accuracy: 0.8294\n",
      "Epoch 8/50\n",
      "53/53 [==============================] - 0s 1ms/step - loss: 0.3859 - accuracy: 0.8341 - val_loss: 0.3713 - val_accuracy: 0.8341\n",
      "Epoch 9/50\n",
      "53/53 [==============================] - 0s 1ms/step - loss: 0.3785 - accuracy: 0.8418 - val_loss: 0.3975 - val_accuracy: 0.8294\n",
      "Epoch 10/50\n",
      "53/53 [==============================] - 0s 1ms/step - loss: 0.3769 - accuracy: 0.8383 - val_loss: 0.3572 - val_accuracy: 0.8318\n",
      "Epoch 11/50\n",
      "53/53 [==============================] - 0s 1ms/step - loss: 0.3670 - accuracy: 0.8436 - val_loss: 0.3520 - val_accuracy: 0.8389\n",
      "Epoch 12/50\n",
      "53/53 [==============================] - 0s 1ms/step - loss: 0.3628 - accuracy: 0.8430 - val_loss: 0.3470 - val_accuracy: 0.8531\n",
      "Epoch 13/50\n",
      "53/53 [==============================] - 0s 1ms/step - loss: 0.3647 - accuracy: 0.8460 - val_loss: 0.3439 - val_accuracy: 0.8483\n",
      "Epoch 14/50\n",
      "53/53 [==============================] - 0s 1ms/step - loss: 0.3566 - accuracy: 0.8513 - val_loss: 0.3452 - val_accuracy: 0.8602\n",
      "Epoch 15/50\n",
      "53/53 [==============================] - 0s 1ms/step - loss: 0.3555 - accuracy: 0.8454 - val_loss: 0.3384 - val_accuracy: 0.8507\n",
      "Epoch 16/50\n",
      "53/53 [==============================] - 0s 1ms/step - loss: 0.3577 - accuracy: 0.8454 - val_loss: 0.3333 - val_accuracy: 0.8602\n",
      "Epoch 17/50\n",
      "53/53 [==============================] - 0s 1ms/step - loss: 0.3468 - accuracy: 0.8519 - val_loss: 0.3317 - val_accuracy: 0.8555\n",
      "Epoch 18/50\n",
      "53/53 [==============================] - ETA: 0s - loss: 0.3224 - accuracy: 0.90 - 0s 1ms/step - loss: 0.3455 - accuracy: 0.8590 - val_loss: 0.3317 - val_accuracy: 0.8673\n",
      "Epoch 19/50\n",
      "53/53 [==============================] - 0s 1ms/step - loss: 0.3455 - accuracy: 0.8507 - val_loss: 0.3273 - val_accuracy: 0.8602\n",
      "Epoch 20/50\n",
      "53/53 [==============================] - 0s 1ms/step - loss: 0.3418 - accuracy: 0.8537 - val_loss: 0.3228 - val_accuracy: 0.8649\n",
      "Epoch 21/50\n",
      "53/53 [==============================] - 0s 1ms/step - loss: 0.3363 - accuracy: 0.8584 - val_loss: 0.3197 - val_accuracy: 0.8626\n",
      "Epoch 22/50\n",
      "53/53 [==============================] - 0s 1ms/step - loss: 0.3365 - accuracy: 0.8614 - val_loss: 0.3172 - val_accuracy: 0.8697\n",
      "Epoch 23/50\n",
      "53/53 [==============================] - 0s 1ms/step - loss: 0.3317 - accuracy: 0.8584 - val_loss: 0.3173 - val_accuracy: 0.8697\n",
      "Epoch 24/50\n",
      "53/53 [==============================] - 0s 1ms/step - loss: 0.3304 - accuracy: 0.8614 - val_loss: 0.3136 - val_accuracy: 0.8720\n",
      "Epoch 25/50\n",
      "53/53 [==============================] - 0s 1ms/step - loss: 0.3277 - accuracy: 0.8578 - val_loss: 0.3146 - val_accuracy: 0.8744\n",
      "Epoch 26/50\n",
      "53/53 [==============================] - 0s 1ms/step - loss: 0.3300 - accuracy: 0.8626 - val_loss: 0.3109 - val_accuracy: 0.8744\n",
      "Epoch 27/50\n",
      "53/53 [==============================] - 0s 1ms/step - loss: 0.3247 - accuracy: 0.8626 - val_loss: 0.3105 - val_accuracy: 0.8744\n",
      "Epoch 28/50\n",
      "53/53 [==============================] - 0s 1ms/step - loss: 0.3237 - accuracy: 0.8649 - val_loss: 0.3148 - val_accuracy: 0.8744\n",
      "Epoch 29/50\n",
      "53/53 [==============================] - 0s 1ms/step - loss: 0.3228 - accuracy: 0.8649 - val_loss: 0.3058 - val_accuracy: 0.8791\n",
      "Epoch 30/50\n",
      "53/53 [==============================] - 0s 1ms/step - loss: 0.3197 - accuracy: 0.8655 - val_loss: 0.3039 - val_accuracy: 0.8815\n",
      "Epoch 31/50\n",
      "53/53 [==============================] - 0s 1ms/step - loss: 0.3169 - accuracy: 0.8685 - val_loss: 0.2985 - val_accuracy: 0.8791\n",
      "Epoch 32/50\n",
      "53/53 [==============================] - 0s 1ms/step - loss: 0.3210 - accuracy: 0.8649 - val_loss: 0.2976 - val_accuracy: 0.8768\n",
      "Epoch 33/50\n",
      "53/53 [==============================] - 0s 1ms/step - loss: 0.3132 - accuracy: 0.8661 - val_loss: 0.3044 - val_accuracy: 0.8744\n",
      "Epoch 34/50\n",
      "53/53 [==============================] - 0s 1ms/step - loss: 0.3140 - accuracy: 0.8661 - val_loss: 0.2958 - val_accuracy: 0.8791\n",
      "Epoch 35/50\n",
      "53/53 [==============================] - 0s 1ms/step - loss: 0.3165 - accuracy: 0.8614 - val_loss: 0.3106 - val_accuracy: 0.8744\n",
      "Epoch 36/50\n",
      "53/53 [==============================] - 0s 1ms/step - loss: 0.3133 - accuracy: 0.8691 - val_loss: 0.2892 - val_accuracy: 0.8863\n",
      "Epoch 37/50\n",
      "53/53 [==============================] - 0s 1ms/step - loss: 0.3093 - accuracy: 0.8649 - val_loss: 0.2877 - val_accuracy: 0.8863\n",
      "Epoch 38/50\n",
      "53/53 [==============================] - 0s 1ms/step - loss: 0.3203 - accuracy: 0.8649 - val_loss: 0.2880 - val_accuracy: 0.8815\n",
      "Epoch 39/50\n",
      "53/53 [==============================] - 0s 1ms/step - loss: 0.3077 - accuracy: 0.8703 - val_loss: 0.2943 - val_accuracy: 0.8791\n",
      "Epoch 40/50\n",
      "53/53 [==============================] - 0s 1ms/step - loss: 0.3061 - accuracy: 0.8685 - val_loss: 0.2865 - val_accuracy: 0.8839\n",
      "Epoch 41/50\n",
      "53/53 [==============================] - 0s 1ms/step - loss: 0.3038 - accuracy: 0.8697 - val_loss: 0.2813 - val_accuracy: 0.8886\n",
      "Epoch 42/50\n",
      "53/53 [==============================] - 0s 1ms/step - loss: 0.3033 - accuracy: 0.8709 - val_loss: 0.3028 - val_accuracy: 0.8863\n",
      "Epoch 43/50\n",
      "53/53 [==============================] - 0s 1ms/step - loss: 0.3038 - accuracy: 0.8756 - val_loss: 0.2780 - val_accuracy: 0.8886\n",
      "Epoch 44/50\n",
      "53/53 [==============================] - 0s 1ms/step - loss: 0.3014 - accuracy: 0.8703 - val_loss: 0.2829 - val_accuracy: 0.8863\n",
      "Epoch 45/50\n",
      "53/53 [==============================] - 0s 1ms/step - loss: 0.3046 - accuracy: 0.8786 - val_loss: 0.2793 - val_accuracy: 0.8886\n",
      "Epoch 46/50\n",
      "53/53 [==============================] - 0s 1ms/step - loss: 0.3040 - accuracy: 0.8738 - val_loss: 0.2796 - val_accuracy: 0.8886\n",
      "Epoch 47/50\n",
      "53/53 [==============================] - 0s 1ms/step - loss: 0.2972 - accuracy: 0.8768 - val_loss: 0.2745 - val_accuracy: 0.8981\n",
      "Epoch 48/50\n",
      "53/53 [==============================] - 0s 1ms/step - loss: 0.2969 - accuracy: 0.8768 - val_loss: 0.2714 - val_accuracy: 0.8981\n",
      "Epoch 49/50\n",
      "53/53 [==============================] - 0s 1ms/step - loss: 0.2935 - accuracy: 0.8768 - val_loss: 0.2692 - val_accuracy: 0.8910\n",
      "Epoch 50/50\n",
      "53/53 [==============================] - 0s 1ms/step - loss: 0.2918 - accuracy: 0.8791 - val_loss: 0.2670 - val_accuracy: 0.8934\n"
     ]
    }
   ],
   "source": [
    "epochs = 50\n",
    "history = model.fit(x_train, y_train, batch_size=32, epochs=epochs,validation_data=(x_test, y_test))"
   ]
  },
  {
   "cell_type": "markdown",
   "metadata": {},
   "source": [
    "# Ploting "
   ]
  },
  {
   "cell_type": "code",
   "execution_count": 67,
   "metadata": {},
   "outputs": [
    {
     "data": {
      "image/png": "[encoded data removed]",
      "text/plain": [
       "<Figure size 432x288 with 1 Axes>"
      ]
     },
     "metadata": {
      "needs_background": "light"
     },
     "output_type": "display_data"
    },
    {
     "data": {
      "image/png": "[encoded data removed]",
      "text/plain": [
       "<Figure size 432x288 with 1 Axes>"
      ]
     },
     "metadata": {
      "needs_background": "light"
     },
     "output_type": "display_data"
    }
   ],
   "source": [
    "plt.figure(0)\n",
    "plt.plot(history.history['accuracy'],label='training accuracy')\n",
    "plt.plot(history.history['val_accuracy'],label='val_accuracy')\n",
    "plt.title('Accuracy')\n",
    "plt.xlabel('epochs')\n",
    "plt.ylabel('accuracy')\n",
    "plt.legend()\n",
    "plt.show()\n",
    "\n",
    "plt.figure(1)\n",
    "plt.plot(history.history['loss'], label='training loss')\n",
    "plt.plot(history.history['val_loss'], label='val loss')\n",
    "plt.title('Loss')\n",
    "plt.xlabel('epochs')\n",
    "plt.ylabel('loss')\n",
    "plt.legend()\n",
    "plt.show()"
   ]
  },
  {
   "cell_type": "code",
   "execution_count": 68,
   "metadata": {
    "scrolled": true
   },
   "outputs": [
    {
     "name": "stdout",
     "output_type": "stream",
     "text": [
      "Accuracy on training data =  88.09241706161137 %\n",
      "Accuracy on test data =  89.33649289099526 %\n"
     ]
    }
   ],
   "source": [
    "from sklearn.metrics import accuracy_score\n",
    "\n",
    "# prediction on training data\n",
    "label = np.array(y_train)\n",
    "pred_train = model.predict_classes(x_train)\n",
    "print(\"Accuracy on training data = \",accuracy_score(label,pred_train)*100,\"%\")\n",
    "\n",
    "# prediction on test data\n",
    "label = np.array(y_test)\n",
    "pred_test = model.predict_classes(x_test)\n",
    "print(\"Accuracy on test data = \",accuracy_score(label,pred_test)*100,\"%\")\n",
    "# print(pred_test.reshape(1,y_test.shape[0]))\n",
    "# print(label)"
   ]
  },
  {
   "cell_type": "code",
   "execution_count": 69,
   "metadata": {},
   "outputs": [],
   "source": [
    "# model.save('road_analytics_model_extreme_end.h5')"
   ]
  },
  {
   "cell_type": "markdown",
   "metadata": {},
   "source": [
    "# Loading the model"
   ]
  },
  {
   "cell_type": "code",
   "execution_count": 70,
   "metadata": {},
   "outputs": [],
   "source": [
    "# from keras.models import load_model\n",
    "\n",
    "# model = load_model('road_analytics_model_extreme_end.h5')"
   ]
  },
  {
   "cell_type": "code",
   "execution_count": 72,
   "metadata": {},
   "outputs": [
    {
     "name": "stdout",
     "output_type": "stream",
     "text": [
      "Model: \"sequential_8\"\n",
      "_________________________________________________________________\n",
      "Layer (type)                 Output Shape              Param #   \n",
      "=================================================================\n",
      "dense_40 (Dense)             (None, 4)                 20        \n",
      "_________________________________________________________________\n",
      "dropout_32 (Dropout)         (None, 4)                 0         \n",
      "_________________________________________________________________\n",
      "dense_41 (Dense)             (None, 8)                 40        \n",
      "_________________________________________________________________\n",
      "dropout_33 (Dropout)         (None, 8)                 0         \n",
      "_________________________________________________________________\n",
      "dense_42 (Dense)             (None, 16)                144       \n",
      "_________________________________________________________________\n",
      "dropout_34 (Dropout)         (None, 16)                0         \n",
      "_________________________________________________________________\n",
      "dense_43 (Dense)             (None, 8)                 136       \n",
      "_________________________________________________________________\n",
      "dropout_35 (Dropout)         (None, 8)                 0         \n",
      "_________________________________________________________________\n",
      "dense_44 (Dense)             (None, 1)                 9         \n",
      "=================================================================\n",
      "Total params: 349\n",
      "Trainable params: 349\n",
      "Non-trainable params: 0\n",
      "_________________________________________________________________\n"
     ]
    }
   ],
   "source": [
    "model.summary()"
   ]
  },
  {
   "cell_type": "code",
   "execution_count": 73,
   "metadata": {},
   "outputs": [
    {
     "data": {
      "text/plain": [
       "array([[0]])"
      ]
     },
     "execution_count": 73,
     "metadata": {},
     "output_type": "execute_result"
    }
   ],
   "source": [
    "# Trying with real world input\n",
    "samples = np.array([data[0][0:-1]])     \n",
    "prediction = model.predict_classes(samples)\n",
    "prediction"
   ]
  },
  {
   "cell_type": "code",
   "execution_count": 74,
   "metadata": {},
   "outputs": [
    {
     "data": {
      "text/plain": [
       "array([[1]])"
      ]
     },
     "execution_count": 74,
     "metadata": {},
     "output_type": "execute_result"
    }
   ],
   "source": [
    "samples = np.array([data[6][0:-1]])     \n",
    "prediction = model.predict_classes(samples)\n",
    "prediction"
   ]
  },
  {
   "cell_type": "code",
   "execution_count": null,
   "metadata": {},
   "outputs": [],
   "source": []
  }
 ],
 "metadata": {
  "kernelspec": {
   "display_name": "Python 3",
   "language": "python",
   "name": "python3"
  },
  "language_info": {
   "codemirror_mode": {
    "name": "ipython",
    "version": 3
   },
   "file_extension": ".py",
   "mimetype": "text/x-python",
   "name": "python",
   "nbconvert_exporter": "python",
   "pygments_lexer": "ipython3",
   "version": "3.7.6"
  }
 },
 "nbformat": 4,
 "nbformat_minor": 4
}
