{
 "cells": [
  {
   "cell_type": "markdown",
   "metadata": {},
   "source": [
    "# Road Analytics\n",
    "\n",
    "## for multiple road conditions "
   ]
  },
  {
   "cell_type": "code",
   "execution_count": 1,
   "metadata": {},
   "outputs": [],
   "source": [
    "from keras.models import Sequential\n",
    "from sklearn.model_selection import train_test_split\n",
    "from keras.layers.core import Dense,Dropout\n",
    "from keras.optimizers import Adam\n",
    "import numpy as np\n",
    "import matplotlib.pyplot as plt\n",
    "from keras.utils import to_categorical"
   ]
  },
  {
   "cell_type": "code",
   "execution_count": 2,
   "metadata": {},
   "outputs": [],
   "source": [
    "import pandas as pd"
   ]
  },
  {
   "cell_type": "code",
   "execution_count": 3,
   "metadata": {},
   "outputs": [],
   "source": [
    "data = np.loadtxt(\"dataset_modified/dataset_suffled.csv\",delimiter=\",\")"
   ]
  },
  {
   "cell_type": "code",
   "execution_count": 4,
   "metadata": {
    "scrolled": false
   },
   "outputs": [
    {
     "data": {
      "text/plain": [
       "(1798, 5)"
      ]
     },
     "execution_count": 4,
     "metadata": {},
     "output_type": "execute_result"
    }
   ],
   "source": [
    "data.shape"
   ]
  },
  {
   "cell_type": "code",
   "execution_count": 5,
   "metadata": {},
   "outputs": [
    {
     "name": "stdout",
     "output_type": "stream",
     "text": [
      "(1798, 4)\n",
      "(1798,)\n"
     ]
    }
   ],
   "source": [
    "x = data[:,0:-1]\n",
    "y = data[:,-1]\n",
    "\n",
    "# Spliting dataset into train and test \n",
    "x_train,x_test,y_train,y_test = train_test_split(x,y,test_size=0.2,random_state=10)\n",
    "print(x.shape)\n",
    "print(y.shape)"
   ]
  },
  {
   "cell_type": "code",
   "execution_count": 6,
   "metadata": {},
   "outputs": [
    {
     "data": {
      "text/plain": [
       "4"
      ]
     },
     "execution_count": 6,
     "metadata": {},
     "output_type": "execute_result"
    }
   ],
   "source": [
    "# size of input\n",
    "x.shape[1]"
   ]
  },
  {
   "cell_type": "code",
   "execution_count": 7,
   "metadata": {},
   "outputs": [
    {
     "name": "stdout",
     "output_type": "stream",
     "text": [
      "(1438, 4)\n",
      "(360, 4)\n"
     ]
    }
   ],
   "source": [
    "print(x_train.shape)\n",
    "print(x_test.shape)"
   ]
  },
  {
   "cell_type": "code",
   "execution_count": 8,
   "metadata": {},
   "outputs": [
    {
     "name": "stdout",
     "output_type": "stream",
     "text": [
      "0 : 599\n",
      "1 : 598\n",
      "2 : 601\n"
     ]
    }
   ],
   "source": [
    "count_of_0=0 \n",
    "for i in y:\n",
    "    if (i==0) :\n",
    "        count_of_0=count_of_0+1\n",
    "print(\"0 :\",count_of_0)\n",
    "count_of_1=0 \n",
    "for i in y:\n",
    "    if (i==1) :\n",
    "        count_of_1=count_of_1+1\n",
    "print(\"1 :\",count_of_1)\n",
    "count_of_2=0 \n",
    "for i in y:\n",
    "    if (i==2) :\n",
    "        count_of_2=count_of_2+1\n",
    "print(\"2 :\",count_of_2)"
   ]
  },
  {
   "cell_type": "code",
   "execution_count": 9,
   "metadata": {},
   "outputs": [],
   "source": [
    "y_train1 = y_train\n",
    "y_test1 = y_test"
   ]
  },
  {
   "cell_type": "code",
   "execution_count": 10,
   "metadata": {},
   "outputs": [],
   "source": [
    "#Converting the labels into one hot encoding\n",
    "y_train = to_categorical(y_train, 3)\n",
    "y_test = to_categorical(y_test, 3)"
   ]
  },
  {
   "cell_type": "code",
   "execution_count": 11,
   "metadata": {
    "scrolled": false
   },
   "outputs": [
    {
     "data": {
      "text/plain": [
       "array([[1., 0., 0.],\n",
       "       [1., 0., 0.],\n",
       "       [1., 0., 0.],\n",
       "       ...,\n",
       "       [1., 0., 0.],\n",
       "       [0., 1., 0.],\n",
       "       [0., 1., 0.]], dtype=float32)"
      ]
     },
     "execution_count": 11,
     "metadata": {},
     "output_type": "execute_result"
    }
   ],
   "source": [
    "y_train"
   ]
  },
  {
   "cell_type": "code",
   "execution_count": 12,
   "metadata": {
    "scrolled": false
   },
   "outputs": [
    {
     "data": {
      "text/plain": [
       "array([[0., 0., 1.],\n",
       "       [1., 0., 0.],\n",
       "       [0., 0., 1.],\n",
       "       ...,\n",
       "       [0., 0., 1.],\n",
       "       [0., 1., 0.],\n",
       "       [0., 1., 0.]], dtype=float32)"
      ]
     },
     "execution_count": 12,
     "metadata": {},
     "output_type": "execute_result"
    }
   ],
   "source": [
    "y_test"
   ]
  },
  {
   "cell_type": "code",
   "execution_count": 13,
   "metadata": {},
   "outputs": [
    {
     "data": {
      "text/plain": [
       "3"
      ]
     },
     "execution_count": 13,
     "metadata": {},
     "output_type": "execute_result"
    }
   ],
   "source": [
    "y_train.shape[1]"
   ]
  },
  {
   "cell_type": "markdown",
   "metadata": {},
   "source": [
    "# Creating the model"
   ]
  },
  {
   "cell_type": "code",
   "execution_count": 14,
   "metadata": {},
   "outputs": [],
   "source": [
    "model = Sequential()\n",
    "model.add(Dense(16,input_dim=x.shape[1],activation='relu'))\n",
    "model.add(Dropout(0.0))\n",
    "model.add(Dense(32,activation='relu'))\n",
    "model.add(Dropout(0.0))\n",
    "model.add(Dense(64,activation='relu'))\n",
    "model.add(Dropout(0.05))\n",
    "model.add(Dense(32,activation='relu'))\n",
    "model.add(Dropout(0.0))\n",
    "model.add(Dense(y_train.shape[1],activation='softmax'))"
   ]
  },
  {
   "cell_type": "markdown",
   "metadata": {},
   "source": [
    "# Compiling and Training the model "
   ]
  },
  {
   "cell_type": "code",
   "execution_count": 15,
   "metadata": {},
   "outputs": [],
   "source": [
    "from keras.callbacks import EarlyStopping, ModelCheckpoint, ReduceLROnPlateau\n"
   ]
  },
  {
   "cell_type": "code",
   "execution_count": 16,
   "metadata": {},
   "outputs": [
    {
     "name": "stdout",
     "output_type": "stream",
     "text": [
      "Epoch 1/100\n",
      "45/45 [==============================] - 0s 4ms/step - loss: 1.0818 - accuracy: 0.4854 - val_loss: 1.0556 - val_accuracy: 0.4417\n",
      "Epoch 2/100\n",
      "45/45 [==============================] - 0s 1ms/step - loss: 1.0074 - accuracy: 0.5132 - val_loss: 0.9454 - val_accuracy: 0.5500\n",
      "Epoch 3/100\n",
      "45/45 [==============================] - 0s 1ms/step - loss: 0.9340 - accuracy: 0.5605 - val_loss: 0.8872 - val_accuracy: 0.6056\n",
      "Epoch 4/100\n",
      "45/45 [==============================] - 0s 1ms/step - loss: 0.8975 - accuracy: 0.5876 - val_loss: 0.8888 - val_accuracy: 0.5611\n",
      "Epoch 5/100\n",
      "45/45 [==============================] - 0s 1ms/step - loss: 0.8621 - accuracy: 0.6022 - val_loss: 0.8621 - val_accuracy: 0.5833\n",
      "Epoch 6/100\n",
      "45/45 [==============================] - 0s 1ms/step - loss: 0.8614 - accuracy: 0.6036 - val_loss: 0.8098 - val_accuracy: 0.6333\n",
      "Epoch 7/100\n",
      "45/45 [==============================] - 0s 1ms/step - loss: 0.8262 - accuracy: 0.6224 - val_loss: 0.8232 - val_accuracy: 0.6000\n",
      "Epoch 8/100\n",
      "45/45 [==============================] - 0s 3ms/step - loss: 0.8346 - accuracy: 0.6092 - val_loss: 0.7866 - val_accuracy: 0.6528\n",
      "Epoch 9/100\n",
      "45/45 [==============================] - 0s 1ms/step - loss: 0.8219 - accuracy: 0.6099 - val_loss: 0.8108 - val_accuracy: 0.6056\n",
      "Epoch 10/100\n",
      "45/45 [==============================] - 0s 1ms/step - loss: 0.8152 - accuracy: 0.6106 - val_loss: 0.7722 - val_accuracy: 0.6417\n",
      "Epoch 11/100\n",
      "45/45 [==============================] - 0s 1ms/step - loss: 0.7884 - accuracy: 0.6231 - val_loss: 0.7643 - val_accuracy: 0.6417\n",
      "Epoch 12/100\n",
      "45/45 [==============================] - 0s 1ms/step - loss: 0.7882 - accuracy: 0.6280 - val_loss: 0.8040 - val_accuracy: 0.6194\n",
      "Epoch 13/100\n",
      "45/45 [==============================] - 0s 1ms/step - loss: 0.7835 - accuracy: 0.6321 - val_loss: 0.8088 - val_accuracy: 0.6278\n",
      "Epoch 14/100\n",
      "45/45 [==============================] - 0s 1ms/step - loss: 0.7769 - accuracy: 0.6266 - val_loss: 0.7483 - val_accuracy: 0.6444\n",
      "Epoch 15/100\n",
      "45/45 [==============================] - 0s 1ms/step - loss: 0.7771 - accuracy: 0.6356 - val_loss: 0.7475 - val_accuracy: 0.6500\n",
      "Epoch 16/100\n",
      "45/45 [==============================] - 0s 1ms/step - loss: 0.7838 - accuracy: 0.6321 - val_loss: 0.8920 - val_accuracy: 0.6000\n",
      "Epoch 17/100\n",
      "45/45 [==============================] - 0s 1ms/step - loss: 0.7797 - accuracy: 0.6287 - val_loss: 0.8028 - val_accuracy: 0.6194\n",
      "Epoch 18/100\n",
      "45/45 [==============================] - 0s 1ms/step - loss: 0.7674 - accuracy: 0.6307 - val_loss: 0.7269 - val_accuracy: 0.6778\n",
      "Epoch 19/100\n",
      "45/45 [==============================] - 0s 1ms/step - loss: 0.7604 - accuracy: 0.6474 - val_loss: 0.7728 - val_accuracy: 0.6500\n",
      "Epoch 20/100\n",
      "45/45 [==============================] - 0s 1ms/step - loss: 0.7457 - accuracy: 0.6502 - val_loss: 0.7172 - val_accuracy: 0.6444\n",
      "Epoch 21/100\n",
      "45/45 [==============================] - 0s 1ms/step - loss: 0.7398 - accuracy: 0.6474 - val_loss: 0.7295 - val_accuracy: 0.6500\n",
      "Epoch 22/100\n",
      "45/45 [==============================] - 0s 1ms/step - loss: 0.7412 - accuracy: 0.6544 - val_loss: 0.7207 - val_accuracy: 0.6472\n",
      "Epoch 23/100\n",
      "45/45 [==============================] - 0s 1ms/step - loss: 0.7183 - accuracy: 0.6558 - val_loss: 0.7237 - val_accuracy: 0.6361\n",
      "Epoch 24/100\n",
      "45/45 [==============================] - 0s 1ms/step - loss: 0.7359 - accuracy: 0.6509 - val_loss: 0.7639 - val_accuracy: 0.6694\n",
      "Epoch 25/100\n",
      "45/45 [==============================] - 0s 1ms/step - loss: 0.7341 - accuracy: 0.6467 - val_loss: 0.6892 - val_accuracy: 0.6583\n",
      "Epoch 26/100\n",
      "45/45 [==============================] - 0s 1ms/step - loss: 0.7164 - accuracy: 0.6620 - val_loss: 0.7060 - val_accuracy: 0.6750\n",
      "Epoch 27/100\n",
      "45/45 [==============================] - 0s 1ms/step - loss: 0.7071 - accuracy: 0.6488 - val_loss: 0.6828 - val_accuracy: 0.6722\n",
      "Epoch 28/100\n",
      "45/45 [==============================] - 0s 1ms/step - loss: 0.7107 - accuracy: 0.6481 - val_loss: 0.6791 - val_accuracy: 0.6667\n",
      "Epoch 29/100\n",
      "45/45 [==============================] - 0s 1ms/step - loss: 0.7390 - accuracy: 0.6523 - val_loss: 0.6899 - val_accuracy: 0.6583\n",
      "Epoch 30/100\n",
      "45/45 [==============================] - 0s 1ms/step - loss: 0.7309 - accuracy: 0.6453 - val_loss: 0.7059 - val_accuracy: 0.6444\n",
      "Epoch 31/100\n",
      "45/45 [==============================] - 0s 1ms/step - loss: 0.6963 - accuracy: 0.6683 - val_loss: 0.6777 - val_accuracy: 0.6639\n",
      "Epoch 32/100\n",
      "45/45 [==============================] - 0s 1ms/step - loss: 0.6893 - accuracy: 0.6676 - val_loss: 0.6755 - val_accuracy: 0.6639\n",
      "Epoch 33/100\n",
      "45/45 [==============================] - 0s 1ms/step - loss: 0.7034 - accuracy: 0.6516 - val_loss: 0.6977 - val_accuracy: 0.6639\n",
      "Epoch 34/100\n",
      "45/45 [==============================] - 0s 1ms/step - loss: 0.6838 - accuracy: 0.6599 - val_loss: 0.6746 - val_accuracy: 0.6611\n",
      "Epoch 35/100\n",
      "45/45 [==============================] - 0s 1ms/step - loss: 0.7037 - accuracy: 0.6627 - val_loss: 0.6820 - val_accuracy: 0.6667\n",
      "Epoch 36/100\n",
      "45/45 [==============================] - 0s 1ms/step - loss: 0.7223 - accuracy: 0.6655 - val_loss: 0.6818 - val_accuracy: 0.6750\n",
      "Epoch 37/100\n",
      "45/45 [==============================] - 0s 1ms/step - loss: 0.7109 - accuracy: 0.6613 - val_loss: 0.6643 - val_accuracy: 0.6861\n",
      "Epoch 38/100\n",
      "45/45 [==============================] - 0s 2ms/step - loss: 0.7026 - accuracy: 0.6704 - val_loss: 0.6594 - val_accuracy: 0.6750\n",
      "Epoch 39/100\n",
      "45/45 [==============================] - 0s 1ms/step - loss: 0.6795 - accuracy: 0.6780 - val_loss: 0.6604 - val_accuracy: 0.6722\n",
      "Epoch 40/100\n",
      "45/45 [==============================] - 0s 1ms/step - loss: 0.6797 - accuracy: 0.6655 - val_loss: 0.7206 - val_accuracy: 0.6472\n",
      "Epoch 41/100\n",
      "45/45 [==============================] - 0s 1ms/step - loss: 0.6900 - accuracy: 0.6787 - val_loss: 0.6676 - val_accuracy: 0.6639\n",
      "Epoch 42/100\n",
      "45/45 [==============================] - 0s 1ms/step - loss: 0.6711 - accuracy: 0.6773 - val_loss: 0.6512 - val_accuracy: 0.6722\n",
      "Epoch 43/100\n",
      "45/45 [==============================] - 0s 1ms/step - loss: 0.6956 - accuracy: 0.6766 - val_loss: 0.7401 - val_accuracy: 0.6556\n",
      "Epoch 44/100\n",
      "45/45 [==============================] - 0s 1ms/step - loss: 0.6895 - accuracy: 0.6641 - val_loss: 0.6648 - val_accuracy: 0.6806\n",
      "Epoch 45/100\n",
      "45/45 [==============================] - 0s 1ms/step - loss: 0.6739 - accuracy: 0.6732 - val_loss: 0.6937 - val_accuracy: 0.6556\n",
      "Epoch 46/100\n",
      "45/45 [==============================] - 0s 1ms/step - loss: 0.6843 - accuracy: 0.6732 - val_loss: 0.6515 - val_accuracy: 0.6722\n",
      "Epoch 47/100\n",
      "45/45 [==============================] - 0s 1ms/step - loss: 0.6771 - accuracy: 0.6732 - val_loss: 0.6497 - val_accuracy: 0.6861\n",
      "Epoch 48/100\n",
      "45/45 [==============================] - 0s 1ms/step - loss: 0.6718 - accuracy: 0.6711 - val_loss: 0.6531 - val_accuracy: 0.6667\n",
      "Epoch 49/100\n",
      "45/45 [==============================] - 0s 1ms/step - loss: 0.6579 - accuracy: 0.6815 - val_loss: 0.6453 - val_accuracy: 0.6722\n",
      "Epoch 50/100\n",
      "45/45 [==============================] - 0s 1ms/step - loss: 0.6541 - accuracy: 0.6808 - val_loss: 0.6535 - val_accuracy: 0.6694\n",
      "Epoch 51/100\n",
      "45/45 [==============================] - 0s 1ms/step - loss: 0.6789 - accuracy: 0.6683 - val_loss: 0.7676 - val_accuracy: 0.6500\n",
      "Epoch 52/100\n",
      "45/45 [==============================] - 0s 1ms/step - loss: 0.6742 - accuracy: 0.6718 - val_loss: 0.6963 - val_accuracy: 0.6667\n",
      "Epoch 53/100\n",
      "45/45 [==============================] - 0s 1ms/step - loss: 0.6781 - accuracy: 0.6815 - val_loss: 0.6879 - val_accuracy: 0.6556\n",
      "Epoch 54/100\n",
      "45/45 [==============================] - 0s 1ms/step - loss: 0.6602 - accuracy: 0.6752 - val_loss: 0.6427 - val_accuracy: 0.6833\n",
      "Epoch 55/100\n",
      "45/45 [==============================] - 0s 1ms/step - loss: 0.6714 - accuracy: 0.6725 - val_loss: 0.6461 - val_accuracy: 0.6889\n",
      "Epoch 56/100\n",
      "45/45 [==============================] - 0s 1ms/step - loss: 0.6860 - accuracy: 0.6725 - val_loss: 0.6684 - val_accuracy: 0.6944\n",
      "Epoch 57/100\n",
      "45/45 [==============================] - 0s 1ms/step - loss: 0.6849 - accuracy: 0.6815 - val_loss: 0.7499 - val_accuracy: 0.6500\n",
      "Epoch 58/100\n",
      "45/45 [==============================] - 0s 1ms/step - loss: 0.7081 - accuracy: 0.6739 - val_loss: 0.6647 - val_accuracy: 0.6778\n"
     ]
    },
    {
     "name": "stdout",
     "output_type": "stream",
     "text": [
      "Epoch 59/100\n",
      "45/45 [==============================] - 0s 1ms/step - loss: 0.6600 - accuracy: 0.6745 - val_loss: 0.6462 - val_accuracy: 0.6750\n",
      "Epoch 60/100\n",
      "45/45 [==============================] - 0s 1ms/step - loss: 0.6503 - accuracy: 0.6857 - val_loss: 0.6369 - val_accuracy: 0.6833\n",
      "Epoch 61/100\n",
      "45/45 [==============================] - 0s 1ms/step - loss: 0.6805 - accuracy: 0.6815 - val_loss: 0.6433 - val_accuracy: 0.6667\n",
      "Epoch 62/100\n",
      "45/45 [==============================] - 0s 1ms/step - loss: 0.6510 - accuracy: 0.6815 - val_loss: 0.6433 - val_accuracy: 0.6667\n",
      "Epoch 63/100\n",
      "45/45 [==============================] - 0s 1ms/step - loss: 0.6670 - accuracy: 0.6676 - val_loss: 0.6471 - val_accuracy: 0.6667\n",
      "Epoch 64/100\n",
      "45/45 [==============================] - 0s 1ms/step - loss: 0.6420 - accuracy: 0.6871 - val_loss: 0.6355 - val_accuracy: 0.6972\n",
      "Epoch 65/100\n",
      "45/45 [==============================] - 0s 1ms/step - loss: 0.6720 - accuracy: 0.6725 - val_loss: 0.6539 - val_accuracy: 0.6778\n",
      "Epoch 66/100\n",
      "45/45 [==============================] - 0s 1ms/step - loss: 0.6687 - accuracy: 0.6815 - val_loss: 0.6443 - val_accuracy: 0.6861\n",
      "Epoch 67/100\n",
      "45/45 [==============================] - 0s 1ms/step - loss: 0.6915 - accuracy: 0.6697 - val_loss: 0.6673 - val_accuracy: 0.6694\n",
      "Epoch 68/100\n",
      "45/45 [==============================] - 0s 1ms/step - loss: 0.6776 - accuracy: 0.6711 - val_loss: 0.6460 - val_accuracy: 0.6889\n",
      "Epoch 69/100\n",
      "45/45 [==============================] - 0s 1ms/step - loss: 0.6582 - accuracy: 0.6822 - val_loss: 0.6592 - val_accuracy: 0.6778\n",
      "Epoch 70/100\n",
      "45/45 [==============================] - 0s 1ms/step - loss: 0.6655 - accuracy: 0.6787 - val_loss: 0.6960 - val_accuracy: 0.6611\n",
      "Epoch 71/100\n",
      "45/45 [==============================] - 0s 1ms/step - loss: 0.6596 - accuracy: 0.6752 - val_loss: 0.6632 - val_accuracy: 0.6639\n",
      "Epoch 72/100\n",
      "45/45 [==============================] - 0s 1ms/step - loss: 0.6772 - accuracy: 0.6822 - val_loss: 0.6479 - val_accuracy: 0.6778\n",
      "Epoch 73/100\n",
      "45/45 [==============================] - 0s 2ms/step - loss: 0.6736 - accuracy: 0.6780 - val_loss: 0.6811 - val_accuracy: 0.6750\n",
      "Epoch 74/100\n",
      "45/45 [==============================] - 0s 1ms/step - loss: 0.7478 - accuracy: 0.6544 - val_loss: 0.6778 - val_accuracy: 0.6639\n",
      "Epoch 75/100\n",
      "45/45 [==============================] - 0s 1ms/step - loss: 0.6771 - accuracy: 0.6704 - val_loss: 0.6784 - val_accuracy: 0.6722\n",
      "Epoch 76/100\n",
      "45/45 [==============================] - 0s 1ms/step - loss: 0.6588 - accuracy: 0.6794 - val_loss: 0.6571 - val_accuracy: 0.6778\n",
      "Epoch 77/100\n",
      "45/45 [==============================] - 0s 1ms/step - loss: 0.6577 - accuracy: 0.6766 - val_loss: 0.6464 - val_accuracy: 0.6694\n",
      "Epoch 78/100\n",
      "45/45 [==============================] - 0s 1ms/step - loss: 0.6672 - accuracy: 0.6801 - val_loss: 0.6470 - val_accuracy: 0.6861\n",
      "Epoch 79/100\n",
      "45/45 [==============================] - 0s 1ms/step - loss: 0.6586 - accuracy: 0.6822 - val_loss: 0.6560 - val_accuracy: 0.6778\n",
      "Epoch 80/100\n",
      "45/45 [==============================] - 0s 1ms/step - loss: 0.6494 - accuracy: 0.6933 - val_loss: 0.6752 - val_accuracy: 0.6667\n",
      "Epoch 81/100\n",
      "45/45 [==============================] - 0s 1ms/step - loss: 0.6534 - accuracy: 0.6857 - val_loss: 0.6909 - val_accuracy: 0.6694\n",
      "Epoch 82/100\n",
      "45/45 [==============================] - 0s 1ms/step - loss: 0.6666 - accuracy: 0.6912 - val_loss: 0.6491 - val_accuracy: 0.6750\n",
      "Epoch 83/100\n",
      "45/45 [==============================] - 0s 1ms/step - loss: 0.6392 - accuracy: 0.6996 - val_loss: 0.6309 - val_accuracy: 0.6833\n",
      "Epoch 84/100\n",
      "45/45 [==============================] - 0s 1ms/step - loss: 0.6568 - accuracy: 0.6836 - val_loss: 0.6404 - val_accuracy: 0.6889\n",
      "Epoch 85/100\n",
      "45/45 [==============================] - 0s 1ms/step - loss: 0.6397 - accuracy: 0.6892 - val_loss: 0.6370 - val_accuracy: 0.6944\n",
      "Epoch 86/100\n",
      "45/45 [==============================] - 0s 1ms/step - loss: 0.6407 - accuracy: 0.6940 - val_loss: 0.6368 - val_accuracy: 0.6917\n",
      "Epoch 87/100\n",
      "45/45 [==============================] - 0s 1ms/step - loss: 0.6846 - accuracy: 0.6815 - val_loss: 0.6760 - val_accuracy: 0.6639\n",
      "Epoch 88/100\n",
      "45/45 [==============================] - 0s 1ms/step - loss: 0.6510 - accuracy: 0.6933 - val_loss: 0.6461 - val_accuracy: 0.6833\n",
      "Epoch 89/100\n",
      "45/45 [==============================] - 0s 1ms/step - loss: 0.6598 - accuracy: 0.6780 - val_loss: 0.6732 - val_accuracy: 0.6639\n",
      "Epoch 90/100\n",
      "45/45 [==============================] - 0s 1ms/step - loss: 0.6393 - accuracy: 0.6898 - val_loss: 0.6345 - val_accuracy: 0.6694\n",
      "Epoch 91/100\n",
      "45/45 [==============================] - 0s 1ms/step - loss: 0.6497 - accuracy: 0.6926 - val_loss: 0.6483 - val_accuracy: 0.6611\n",
      "Epoch 92/100\n",
      "45/45 [==============================] - 0s 1ms/step - loss: 0.6620 - accuracy: 0.6912 - val_loss: 0.6336 - val_accuracy: 0.6722\n",
      "Epoch 93/100\n",
      "45/45 [==============================] - 0s 1ms/step - loss: 0.6585 - accuracy: 0.6878 - val_loss: 0.6337 - val_accuracy: 0.6833\n",
      "Epoch 94/100\n",
      "45/45 [==============================] - 0s 1ms/step - loss: 0.6608 - accuracy: 0.6857 - val_loss: 0.6384 - val_accuracy: 0.6806\n",
      "Epoch 95/100\n",
      "45/45 [==============================] - 0s 1ms/step - loss: 0.6457 - accuracy: 0.6850 - val_loss: 0.6355 - val_accuracy: 0.6722\n",
      "Epoch 96/100\n",
      "45/45 [==============================] - 0s 1ms/step - loss: 0.6395 - accuracy: 0.6926 - val_loss: 0.7129 - val_accuracy: 0.6694\n",
      "Epoch 97/100\n",
      "45/45 [==============================] - 0s 1ms/step - loss: 0.6699 - accuracy: 0.6864 - val_loss: 0.6848 - val_accuracy: 0.6722\n",
      "Epoch 98/100\n",
      "45/45 [==============================] - 0s 2ms/step - loss: 0.6498 - accuracy: 0.6933 - val_loss: 0.6394 - val_accuracy: 0.6944\n",
      "Epoch 99/100\n",
      "45/45 [==============================] - 0s 1ms/step - loss: 0.6482 - accuracy: 0.6871 - val_loss: 0.6706 - val_accuracy: 0.6750\n",
      "Epoch 100/100\n",
      "45/45 [==============================] - 0s 1ms/step - loss: 0.6370 - accuracy: 0.6905 - val_loss: 0.6487 - val_accuracy: 0.6611\n"
     ]
    }
   ],
   "source": [
    "learning_rate = 0.001\n",
    "\n",
    "#Compilation of the model\n",
    "model.compile(loss='categorical_crossentropy', optimizer=Adam(learning_rate), metrics=['accuracy'])\n",
    "epochs = 100\n",
    "history = model.fit(x_train, y_train, batch_size=32, epochs=epochs,validation_data=(x_test, y_test))"
   ]
  },
  {
   "cell_type": "markdown",
   "metadata": {},
   "source": [
    "# Plotting graphs for accuracy "
   ]
  },
  {
   "cell_type": "code",
   "execution_count": 17,
   "metadata": {
    "scrolled": true
   },
   "outputs": [
    {
     "data": {
      "image/png": "[encoded data removed]",
      "text/plain": [
       "<Figure size 432x288 with 1 Axes>"
      ]
     },
     "metadata": {
      "needs_background": "light"
     },
     "output_type": "display_data"
    },
    {
     "data": {
      "image/png": "[encoded data removed]",
      "text/plain": [
       "<Figure size 432x288 with 1 Axes>"
      ]
     },
     "metadata": {
      "needs_background": "light"
     },
     "output_type": "display_data"
    }
   ],
   "source": [
    "plt.figure(0)\n",
    "plt.plot(history.history['accuracy'],label='training accuracy')\n",
    "plt.plot(history.history['val_accuracy'],label='val_accuracy')\n",
    "plt.title('Accuracy')\n",
    "plt.xlabel('epochs')\n",
    "plt.ylabel('accuracy')\n",
    "plt.legend()\n",
    "plt.show()\n",
    "\n",
    "plt.figure(1)\n",
    "plt.plot(history.history['loss'], label='training loss')\n",
    "plt.plot(history.history['val_loss'], label='val loss')\n",
    "plt.title('Loss')\n",
    "plt.xlabel('epochs')\n",
    "plt.ylabel('loss')\n",
    "plt.legend()\n",
    "plt.show()"
   ]
  },
  {
   "cell_type": "code",
   "execution_count": 18,
   "metadata": {},
   "outputs": [
    {
     "name": "stdout",
     "output_type": "stream",
     "text": [
      "WARNING:tensorflow:From <ipython-input-18-2f2659417322>:1: Sequential.predict_classes (from tensorflow.python.keras.engine.sequential) is deprecated and will be removed after 2021-01-01.\n",
      "Instructions for updating:\n",
      "Please use instead:* `np.argmax(model.predict(x), axis=-1)`,   if your model does multi-class classification   (e.g. if it uses a `softmax` last-layer activation).* `(model.predict(x) > 0.5).astype(\"int32\")`,   if your model does binary classification   (e.g. if it uses a `sigmoid` last-layer activation).\n",
      "class 0 : 618\n",
      "class 1 : 439\n",
      "class 2 : 381\n",
      "[0 0 0 ... 0 1 1]\n",
      "[0. 0. 0. ... 0. 1. 1.]\n"
     ]
    }
   ],
   "source": [
    "pred_train = model.predict_classes(x_train)\n",
    "count0=0\n",
    "count1=0\n",
    "count2=0\n",
    "for i in pred_train:\n",
    "    if(i==0):\n",
    "        count0=count0+1\n",
    "    if(i==1):\n",
    "        count1=count1+1\n",
    "    if(i==2):\n",
    "        count2=count2+1\n",
    "\n",
    "print(\"class 0 :\",count0)        \n",
    "print(\"class 1 :\",count1)    \n",
    "print(\"class 2 :\",count2) \n",
    "print(pred_train)\n",
    "print(y_train1)"
   ]
  },
  {
   "cell_type": "code",
   "execution_count": 19,
   "metadata": {
    "scrolled": true
   },
   "outputs": [
    {
     "data": {
      "text/plain": [
       "360"
      ]
     },
     "execution_count": 19,
     "metadata": {},
     "output_type": "execute_result"
    }
   ],
   "source": [
    "x_test.shape[0]"
   ]
  },
  {
   "cell_type": "code",
   "execution_count": 31,
   "metadata": {},
   "outputs": [
    {
     "name": "stdout",
     "output_type": "stream",
     "text": [
      "*************************************\n",
      "Analysis on training data for good road\n",
      "\n",
      "true detection for : 97.14867617107943 %\n",
      "false detection for : 2.8513238289205702 %\n",
      "*************************************\n",
      "Analysis on training data for medium road\n",
      "\n",
      "true detection for : 57.05263157894736 %\n",
      "false detection for : 42.94736842105264 %\n",
      "*************************************\n",
      "Analysis on training data for bad road\n",
      "\n",
      "true detection for : 53.38983050847458 %\n",
      "false detection for : 46.61016949152542 %\n"
     ]
    }
   ],
   "source": [
    "# analysis on training data\n",
    "pred_train = model.predict_classes(x_train)\n",
    "\n",
    "# good road\n",
    "count1=0\n",
    "count2=0\n",
    "\n",
    "for i in range(0,x_train.shape[0]):\n",
    "    if(pred_train[i]==0 and int(y_train1[i])==0):\n",
    "        count1 = count1+1\n",
    "    elif(int(y_train1[i])==0): \n",
    "        count2 = count2+1\n",
    "total = count1+count2\n",
    "print(\"*************************************\")\n",
    "print(\"Analysis on training data for good road\")\n",
    "print()\n",
    "print(\"true detection for  :\",(count1/total)*100,\"%\")\n",
    "print(\"false detection for :\",(count2/total)*100,\"%\")\n",
    "\n",
    "# medium road\n",
    "count1=0\n",
    "count2=0\n",
    "\n",
    "for i in range(0,x_train.shape[0]):\n",
    "    if(pred_train[i]==1 and int(y_train1[i])==1):\n",
    "        count1 = count1+1\n",
    "    elif(int(y_train1[i])==1): \n",
    "        count2 = count2+1\n",
    "total = count1+count2\n",
    "print(\"*************************************\")\n",
    "print(\"Analysis on training data for medium road\")\n",
    "print()\n",
    "print(\"true detection for  :\",(count1/total)*100,\"%\")\n",
    "print(\"false detection for :\",(count2/total)*100,\"%\")\n",
    "\n",
    "# bad road \n",
    "count1=0\n",
    "count2=0\n",
    "\n",
    "for i in range(0,x_train.shape[0]):\n",
    "    if(pred_train[i]==2 and int(y_train1[i])==2):\n",
    "        count1 = count1+1\n",
    "    elif(int(y_train1[i])==2): \n",
    "        count2 = count2+1\n",
    "total = count1+count2\n",
    "print(\"*************************************\")\n",
    "print(\"Analysis on training data for bad road\")\n",
    "print()\n",
    "print(\"true detection for  :\",(count1/total)*100,\"%\")\n",
    "print(\"false detection for :\",(count2/total)*100,\"%\")"
   ]
  },
  {
   "cell_type": "code",
   "execution_count": 32,
   "metadata": {},
   "outputs": [
    {
     "name": "stdout",
     "output_type": "stream",
     "text": [
      "*************************************\n",
      "Analysis on test data for good road\n",
      "\n",
      "true detection for : 95.37037037037037 %\n",
      "false detection for : 4.62962962962963 %\n",
      "*************************************\n",
      "Analysis on test data for medium road\n",
      "\n",
      "true detection for : 55.28455284552846 %\n",
      "false detection for : 44.71544715447154 %\n",
      "*************************************\n",
      "Analysis on test data for bad road\n",
      "\n",
      "true detection for : 51.93798449612403 %\n",
      "false detection for : 48.06201550387597 %\n"
     ]
    }
   ],
   "source": [
    "# analysis on test data\n",
    "pred_test = model.predict_classes(x_test)\n",
    "\n",
    "# good road\n",
    "count1=0\n",
    "count2=0\n",
    "\n",
    "for i in range(0,x_test.shape[0]):\n",
    "    if(pred_test[i]==0 and int(y_test1[i])==0):\n",
    "        count1 = count1+1\n",
    "    elif(int(y_test1[i])==0): \n",
    "        count2 = count2+1\n",
    "total = count1+count2\n",
    "print(\"*************************************\")\n",
    "print(\"Analysis on test data for good road\")\n",
    "print()\n",
    "print(\"true detection for  :\",(count1/total)*100,\"%\")\n",
    "print(\"false detection for :\",(count2/total)*100,\"%\")\n",
    "\n",
    "# medium road\n",
    "count1=0\n",
    "count2=0\n",
    "\n",
    "for i in range(0,x_test.shape[0]):\n",
    "    if(pred_test[i]==1 and int(y_test1[i])==1):\n",
    "        count1 = count1+1\n",
    "    elif(int(y_test1[i])==1): \n",
    "        count2 = count2+1\n",
    "total = count1+count2\n",
    "print(\"*************************************\")\n",
    "print(\"Analysis on test data for medium road\")\n",
    "print()\n",
    "print(\"true detection for  :\",(count1/total)*100,\"%\")\n",
    "print(\"false detection for :\",(count2/total)*100,\"%\")\n",
    "\n",
    "# bad road \n",
    "count1=0\n",
    "count2=0\n",
    "\n",
    "for i in range(0,x_test.shape[0]):\n",
    "    if(pred_test[i]==2 and int(y_test1[i])==2):\n",
    "        count1 = count1+1\n",
    "    elif(int(y_test1[i])==2): \n",
    "        count2 = count2+1\n",
    "total = count1+count2\n",
    "print(\"*************************************\")\n",
    "print(\"Analysis on test data for bad road\")\n",
    "print()\n",
    "print(\"true detection for  :\",(count1/total)*100,\"%\")\n",
    "print(\"false detection for :\",(count2/total)*100,\"%\")"
   ]
  },
  {
   "cell_type": "code",
   "execution_count": 22,
   "metadata": {},
   "outputs": [
    {
     "name": "stdout",
     "output_type": "stream",
     "text": [
      "Accuracy on training data =  69.54102920723227 %\n",
      "Accuracy on test data =  66.11111111111111 %\n"
     ]
    }
   ],
   "source": [
    "from sklearn.metrics import accuracy_score\n",
    "\n",
    "# prediction on training data\n",
    "label = np.array(y_train1)\n",
    "pred_train = model.predict_classes(x_train)\n",
    "print(\"Accuracy on training data = \",accuracy_score(label,pred_train)*100,\"%\")\n",
    "\n",
    "# prediction on test data\n",
    "label = np.array(y_test1)\n",
    "pred_test = model.predict_classes(x_test)\n",
    "print(\"Accuracy on test data = \",accuracy_score(label,pred_test)*100,\"%\")"
   ]
  },
  {
   "cell_type": "markdown",
   "metadata": {},
   "source": [
    "# Loading Model"
   ]
  },
  {
   "cell_type": "code",
   "execution_count": 23,
   "metadata": {},
   "outputs": [],
   "source": [
    "# model.save('road_analytics_model_derivative.h5')"
   ]
  },
  {
   "cell_type": "code",
   "execution_count": 24,
   "metadata": {},
   "outputs": [],
   "source": [
    "# from keras.models import load_model\n",
    "# model = load_model('road_analytics_model_derivative.h5')"
   ]
  },
  {
   "cell_type": "code",
   "execution_count": 25,
   "metadata": {
    "scrolled": true
   },
   "outputs": [
    {
     "name": "stdout",
     "output_type": "stream",
     "text": [
      "Model: \"sequential\"\n",
      "_________________________________________________________________\n",
      "Layer (type)                 Output Shape              Param #   \n",
      "=================================================================\n",
      "dense (Dense)                (None, 16)                80        \n",
      "_________________________________________________________________\n",
      "dropout (Dropout)            (None, 16)                0         \n",
      "_________________________________________________________________\n",
      "dense_1 (Dense)              (None, 32)                544       \n",
      "_________________________________________________________________\n",
      "dropout_1 (Dropout)          (None, 32)                0         \n",
      "_________________________________________________________________\n",
      "dense_2 (Dense)              (None, 64)                2112      \n",
      "_________________________________________________________________\n",
      "dropout_2 (Dropout)          (None, 64)                0         \n",
      "_________________________________________________________________\n",
      "dense_3 (Dense)              (None, 32)                2080      \n",
      "_________________________________________________________________\n",
      "dropout_3 (Dropout)          (None, 32)                0         \n",
      "_________________________________________________________________\n",
      "dense_4 (Dense)              (None, 3)                 99        \n",
      "=================================================================\n",
      "Total params: 4,915\n",
      "Trainable params: 4,915\n",
      "Non-trainable params: 0\n",
      "_________________________________________________________________\n"
     ]
    }
   ],
   "source": [
    "model.summary()"
   ]
  },
  {
   "cell_type": "code",
   "execution_count": 26,
   "metadata": {
    "scrolled": true
   },
   "outputs": [
    {
     "name": "stdout",
     "output_type": "stream",
     "text": [
      "(1438, 3)\n"
     ]
    }
   ],
   "source": [
    "label=np.array(y_train)\n",
    "print(label.shape)"
   ]
  },
  {
   "cell_type": "code",
   "execution_count": 27,
   "metadata": {},
   "outputs": [
    {
     "name": "stdout",
     "output_type": "stream",
     "text": [
      "[[2.3711375e-05 6.8195671e-01 3.1801960e-01]]\n",
      "[1]\n"
     ]
    }
   ],
   "source": [
    "samples = np.array([[4.44E-15,0.0065231,0.0061183,0.0086341]])    \n",
    "print(model.predict(samples))\n",
    "prediction = model.predict_classes(samples)\n",
    "print(prediction)"
   ]
  },
  {
   "cell_type": "code",
   "execution_count": 28,
   "metadata": {},
   "outputs": [
    {
     "name": "stdout",
     "output_type": "stream",
     "text": [
      "[[2.6339e-02 1.0105e-01 2.5500e-06 3.6318e-04]]\n",
      "[0]\n"
     ]
    }
   ],
   "source": [
    "samples = np.array([[0.026339,0.10105,2.55E-06,0.00036318]])      \n",
    "print(samples)\n",
    "prediction = model.predict_classes(samples)\n",
    "print(prediction)"
   ]
  },
  {
   "cell_type": "code",
   "execution_count": 29,
   "metadata": {},
   "outputs": [
    {
     "name": "stdout",
     "output_type": "stream",
     "text": [
      "[[2.8632e-02 3.2500e-05 1.3093e-03 6.6799e-04]]\n",
      "[2]\n"
     ]
    }
   ],
   "source": [
    "samples = np.array([[0.028632,3.25E-05,0.0013093,0.00066799]])      \n",
    "print(samples)\n",
    "prediction = model.predict_classes(samples)\n",
    "print(prediction)"
   ]
  },
  {
   "cell_type": "code",
   "execution_count": 30,
   "metadata": {},
   "outputs": [
    {
     "name": "stdout",
     "output_type": "stream",
     "text": [
      "[[0.02464   0.018678  0.0095863 0.0089315]]\n",
      "[2]\n"
     ]
    }
   ],
   "source": [
    "samples = np.array([[0.02464,0.018678,0.0095863,0.0089315]])      \n",
    "print(samples)\n",
    "prediction = model.predict_classes(samples)\n",
    "print(prediction)"
   ]
  },
  {
   "cell_type": "code",
   "execution_count": null,
   "metadata": {},
   "outputs": [],
   "source": []
  }
 ],
 "metadata": {
  "kernelspec": {
   "display_name": "Python 3",
   "language": "python",
   "name": "python3"
  },
  "language_info": {
   "codemirror_mode": {
    "name": "ipython",
    "version": 3
   },
   "file_extension": ".py",
   "mimetype": "text/x-python",
   "name": "python",
   "nbconvert_exporter": "python",
   "pygments_lexer": "ipython3",
   "version": "3.7.6"
  }
 },
 "nbformat": 4,
 "nbformat_minor": 4
}
