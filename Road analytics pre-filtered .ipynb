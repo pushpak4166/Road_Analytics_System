{
 "cells": [
  {
   "cell_type": "markdown",
   "metadata": {},
   "source": [
    "# Road Analytics Prefiltered \n",
    "\n",
    "## for multiple road conditions "
   ]
  },
  {
   "cell_type": "code",
   "execution_count": 1,
   "metadata": {},
   "outputs": [],
   "source": [
    "from keras.models import Sequential\n",
    "from sklearn.model_selection import train_test_split\n",
    "from keras.layers.core import Dense,Dropout\n",
    "from keras.optimizers import Adam\n",
    "import numpy as np\n",
    "import matplotlib.pyplot as plt\n",
    "from keras.utils import to_categorical"
   ]
  },
  {
   "cell_type": "code",
   "execution_count": 2,
   "metadata": {},
   "outputs": [],
   "source": [
    "import pandas as pd"
   ]
  },
  {
   "cell_type": "code",
   "execution_count": 3,
   "metadata": {},
   "outputs": [],
   "source": [
    "data = np.loadtxt(\"dataset_modified_2/dataset_prefiltered.csv\",delimiter=\",\")"
   ]
  },
  {
   "cell_type": "code",
   "execution_count": 4,
   "metadata": {
    "scrolled": false
   },
   "outputs": [
    {
     "data": {
      "text/plain": [
       "(1800, 5)"
      ]
     },
     "execution_count": 4,
     "metadata": {},
     "output_type": "execute_result"
    }
   ],
   "source": [
    "data.shape"
   ]
  },
  {
   "cell_type": "code",
   "execution_count": 5,
   "metadata": {},
   "outputs": [
    {
     "name": "stdout",
     "output_type": "stream",
     "text": [
      "(1800, 4)\n",
      "(1800,)\n"
     ]
    }
   ],
   "source": [
    "x = data[:,0:-1]\n",
    "y = data[:,-1]\n",
    "\n",
    "# Spliting dataset into train and test \n",
    "x_train,x_test,y_train,y_test = train_test_split(x,y,test_size=0.2,random_state=10)\n",
    "print(x.shape)\n",
    "print(y.shape)"
   ]
  },
  {
   "cell_type": "code",
   "execution_count": 6,
   "metadata": {},
   "outputs": [
    {
     "data": {
      "text/plain": [
       "4"
      ]
     },
     "execution_count": 6,
     "metadata": {},
     "output_type": "execute_result"
    }
   ],
   "source": [
    "# size of input\n",
    "x.shape[1]"
   ]
  },
  {
   "cell_type": "code",
   "execution_count": 7,
   "metadata": {},
   "outputs": [
    {
     "name": "stdout",
     "output_type": "stream",
     "text": [
      "(1440, 4)\n",
      "(360, 4)\n"
     ]
    }
   ],
   "source": [
    "print(x_train.shape)\n",
    "print(x_test.shape)"
   ]
  },
  {
   "cell_type": "code",
   "execution_count": 8,
   "metadata": {},
   "outputs": [
    {
     "name": "stdout",
     "output_type": "stream",
     "text": [
      "0 : 600\n",
      "1 : 598\n",
      "2 : 602\n"
     ]
    }
   ],
   "source": [
    "count_of_0=0 \n",
    "for i in y:\n",
    "    if (i==0) :\n",
    "        count_of_0=count_of_0+1\n",
    "print(\"0 :\",count_of_0)\n",
    "count_of_1=0 \n",
    "for i in y:\n",
    "    if (i==1) :\n",
    "        count_of_1=count_of_1+1\n",
    "print(\"1 :\",count_of_1)\n",
    "count_of_2=0 \n",
    "for i in y:\n",
    "    if (i==2) :\n",
    "        count_of_2=count_of_2+1\n",
    "print(\"2 :\",count_of_2)"
   ]
  },
  {
   "cell_type": "code",
   "execution_count": 9,
   "metadata": {},
   "outputs": [],
   "source": [
    "y_train1 = y_train\n",
    "y_test1 = y_test"
   ]
  },
  {
   "cell_type": "code",
   "execution_count": 10,
   "metadata": {},
   "outputs": [],
   "source": [
    "#Converting the labels into one hot encoding\n",
    "y_train = to_categorical(y_train, 3)\n",
    "y_test = to_categorical(y_test, 3)"
   ]
  },
  {
   "cell_type": "code",
   "execution_count": 11,
   "metadata": {
    "scrolled": false
   },
   "outputs": [
    {
     "data": {
      "text/plain": [
       "array([[0., 0., 1.],\n",
       "       [0., 1., 0.],\n",
       "       [0., 1., 0.],\n",
       "       ...,\n",
       "       [0., 0., 1.],\n",
       "       [1., 0., 0.],\n",
       "       [0., 0., 1.]], dtype=float32)"
      ]
     },
     "execution_count": 11,
     "metadata": {},
     "output_type": "execute_result"
    }
   ],
   "source": [
    "y_train"
   ]
  },
  {
   "cell_type": "code",
   "execution_count": 12,
   "metadata": {
    "scrolled": false
   },
   "outputs": [
    {
     "data": {
      "text/plain": [
       "array([[0., 1., 0.],\n",
       "       [0., 0., 1.],\n",
       "       [1., 0., 0.],\n",
       "       ...,\n",
       "       [1., 0., 0.],\n",
       "       [0., 1., 0.],\n",
       "       [1., 0., 0.]], dtype=float32)"
      ]
     },
     "execution_count": 12,
     "metadata": {},
     "output_type": "execute_result"
    }
   ],
   "source": [
    "y_test"
   ]
  },
  {
   "cell_type": "code",
   "execution_count": 13,
   "metadata": {},
   "outputs": [
    {
     "data": {
      "text/plain": [
       "3"
      ]
     },
     "execution_count": 13,
     "metadata": {},
     "output_type": "execute_result"
    }
   ],
   "source": [
    "y_train.shape[1]"
   ]
  },
  {
   "cell_type": "markdown",
   "metadata": {},
   "source": [
    "# Creating the model"
   ]
  },
  {
   "cell_type": "code",
   "execution_count": 14,
   "metadata": {},
   "outputs": [],
   "source": [
    "model = Sequential()\n",
    "model.add(Dense(16,input_dim=x.shape[1],activation='relu'))\n",
    "model.add(Dropout(0.0))\n",
    "model.add(Dense(32,activation='relu'))\n",
    "model.add(Dropout(0.2))\n",
    "model.add(Dense(64,activation='relu'))\n",
    "model.add(Dropout(0.3))\n",
    "model.add(Dense(32,activation='relu'))\n",
    "model.add(Dropout(0.2))\n",
    "model.add(Dense(y_train.shape[1],activation='softmax'))"
   ]
  },
  {
   "cell_type": "markdown",
   "metadata": {},
   "source": [
    "# Compiling and Training the model "
   ]
  },
  {
   "cell_type": "code",
   "execution_count": 15,
   "metadata": {},
   "outputs": [],
   "source": [
    "from keras.callbacks import EarlyStopping, ModelCheckpoint, ReduceLROnPlateau\n"
   ]
  },
  {
   "cell_type": "code",
   "execution_count": 16,
   "metadata": {},
   "outputs": [
    {
     "name": "stdout",
     "output_type": "stream",
     "text": [
      "Epoch 1/100\n",
      "48/48 [==============================] - 0s 7ms/step - loss: 0.8925 - accuracy: 0.5424 - val_loss: 0.8164 - val_accuracy: 0.6694\n",
      "Epoch 2/100\n",
      "48/48 [==============================] - 0s 2ms/step - loss: 0.7908 - accuracy: 0.6771 - val_loss: 0.7063 - val_accuracy: 0.6944\n",
      "Epoch 3/100\n",
      "48/48 [==============================] - 0s 2ms/step - loss: 0.6712 - accuracy: 0.7069 - val_loss: 0.6460 - val_accuracy: 0.7083\n",
      "Epoch 4/100\n",
      "48/48 [==============================] - 0s 2ms/step - loss: 0.6388 - accuracy: 0.7160 - val_loss: 0.6275 - val_accuracy: 0.7222\n",
      "Epoch 5/100\n",
      "48/48 [==============================] - 0s 2ms/step - loss: 0.6062 - accuracy: 0.7354 - val_loss: 0.5810 - val_accuracy: 0.7333\n",
      "Epoch 6/100\n",
      "48/48 [==============================] - 0s 2ms/step - loss: 0.5973 - accuracy: 0.7326 - val_loss: 0.5708 - val_accuracy: 0.7361\n",
      "Epoch 7/100\n",
      "48/48 [==============================] - 0s 2ms/step - loss: 0.5695 - accuracy: 0.7465 - val_loss: 0.5448 - val_accuracy: 0.7444\n",
      "Epoch 8/100\n",
      "48/48 [==============================] - 0s 2ms/step - loss: 0.5514 - accuracy: 0.7528 - val_loss: 0.5405 - val_accuracy: 0.7556\n",
      "Epoch 9/100\n",
      "48/48 [==============================] - 0s 2ms/step - loss: 0.5321 - accuracy: 0.7583 - val_loss: 0.5179 - val_accuracy: 0.7611\n",
      "Epoch 10/100\n",
      "48/48 [==============================] - 0s 3ms/step - loss: 0.5231 - accuracy: 0.7736 - val_loss: 0.5255 - val_accuracy: 0.7556\n",
      "Epoch 11/100\n",
      "48/48 [==============================] - 0s 3ms/step - loss: 0.5151 - accuracy: 0.7785 - val_loss: 0.4700 - val_accuracy: 0.7556\n",
      "Epoch 12/100\n",
      "48/48 [==============================] - 0s 3ms/step - loss: 0.4887 - accuracy: 0.7924 - val_loss: 0.4511 - val_accuracy: 0.7694\n",
      "Epoch 13/100\n",
      "48/48 [==============================] - 0s 4ms/step - loss: 0.4697 - accuracy: 0.8000 - val_loss: 0.4773 - val_accuracy: 0.7750\n",
      "Epoch 14/100\n",
      "48/48 [==============================] - 0s 3ms/step - loss: 0.4732 - accuracy: 0.7993 - val_loss: 0.4395 - val_accuracy: 0.7833\n",
      "Epoch 15/100\n",
      "48/48 [==============================] - 0s 3ms/step - loss: 0.4386 - accuracy: 0.8090 - val_loss: 0.4108 - val_accuracy: 0.8250\n",
      "Epoch 16/100\n",
      "48/48 [==============================] - 0s 3ms/step - loss: 0.4205 - accuracy: 0.8181 - val_loss: 0.4105 - val_accuracy: 0.7972\n",
      "Epoch 17/100\n",
      "48/48 [==============================] - 0s 3ms/step - loss: 0.4230 - accuracy: 0.8264 - val_loss: 0.3985 - val_accuracy: 0.8417\n",
      "Epoch 18/100\n",
      "48/48 [==============================] - 0s 3ms/step - loss: 0.4257 - accuracy: 0.8236 - val_loss: 0.3785 - val_accuracy: 0.8278\n",
      "Epoch 19/100\n",
      "48/48 [==============================] - 0s 3ms/step - loss: 0.4372 - accuracy: 0.8278 - val_loss: 0.3907 - val_accuracy: 0.8111\n",
      "Epoch 20/100\n",
      "48/48 [==============================] - 0s 3ms/step - loss: 0.4104 - accuracy: 0.8285 - val_loss: 0.3904 - val_accuracy: 0.8194\n",
      "Epoch 21/100\n",
      "48/48 [==============================] - 0s 3ms/step - loss: 0.4038 - accuracy: 0.8340 - val_loss: 0.3568 - val_accuracy: 0.8417\n",
      "Epoch 22/100\n",
      "48/48 [==============================] - 0s 3ms/step - loss: 0.3945 - accuracy: 0.8431 - val_loss: 0.3685 - val_accuracy: 0.8306\n",
      "Epoch 23/100\n",
      "48/48 [==============================] - 0s 3ms/step - loss: 0.3942 - accuracy: 0.8486 - val_loss: 0.3816 - val_accuracy: 0.8639\n",
      "Epoch 24/100\n",
      "48/48 [==============================] - 0s 3ms/step - loss: 0.3873 - accuracy: 0.8521 - val_loss: 0.3562 - val_accuracy: 0.8306\n",
      "Epoch 25/100\n",
      "48/48 [==============================] - 0s 3ms/step - loss: 0.3878 - accuracy: 0.8417 - val_loss: 0.3649 - val_accuracy: 0.8611\n",
      "Epoch 26/100\n",
      "48/48 [==============================] - 0s 3ms/step - loss: 0.3786 - accuracy: 0.8472 - val_loss: 0.3669 - val_accuracy: 0.8556\n",
      "Epoch 27/100\n",
      "48/48 [==============================] - 0s 3ms/step - loss: 0.3727 - accuracy: 0.8472 - val_loss: 0.3507 - val_accuracy: 0.8417\n",
      "Epoch 28/100\n",
      "48/48 [==============================] - 0s 3ms/step - loss: 0.3790 - accuracy: 0.8451 - val_loss: 0.3481 - val_accuracy: 0.8639\n",
      "Epoch 29/100\n",
      "48/48 [==============================] - 0s 3ms/step - loss: 0.3816 - accuracy: 0.8521 - val_loss: 0.3638 - val_accuracy: 0.8611\n",
      "Epoch 30/100\n",
      "48/48 [==============================] - 0s 3ms/step - loss: 0.3682 - accuracy: 0.8535 - val_loss: 0.3318 - val_accuracy: 0.8556\n",
      "Epoch 31/100\n",
      "48/48 [==============================] - 0s 3ms/step - loss: 0.3583 - accuracy: 0.8562 - val_loss: 0.3331 - val_accuracy: 0.8639\n",
      "Epoch 32/100\n",
      "48/48 [==============================] - 0s 3ms/step - loss: 0.3573 - accuracy: 0.8597 - val_loss: 0.3286 - val_accuracy: 0.8611\n",
      "Epoch 33/100\n",
      "48/48 [==============================] - 0s 3ms/step - loss: 0.3673 - accuracy: 0.8444 - val_loss: 0.3375 - val_accuracy: 0.8778\n",
      "Epoch 34/100\n",
      "48/48 [==============================] - 0s 3ms/step - loss: 0.3636 - accuracy: 0.8556 - val_loss: 0.3204 - val_accuracy: 0.8750\n",
      "Epoch 35/100\n",
      "48/48 [==============================] - 0s 4ms/step - loss: 0.3714 - accuracy: 0.8667 - val_loss: 0.3951 - val_accuracy: 0.8417\n",
      "Epoch 36/100\n",
      "48/48 [==============================] - 0s 5ms/step - loss: 0.3628 - accuracy: 0.8618 - val_loss: 0.3196 - val_accuracy: 0.8722\n",
      "Epoch 37/100\n",
      "48/48 [==============================] - 0s 5ms/step - loss: 0.3536 - accuracy: 0.8604 - val_loss: 0.3242 - val_accuracy: 0.8556\n",
      "Epoch 38/100\n",
      "48/48 [==============================] - 0s 5ms/step - loss: 0.3465 - accuracy: 0.8653 - val_loss: 0.3297 - val_accuracy: 0.8750\n",
      "Epoch 39/100\n",
      "48/48 [==============================] - 0s 5ms/step - loss: 0.3518 - accuracy: 0.8632 - val_loss: 0.3271 - val_accuracy: 0.8722\n",
      "Epoch 40/100\n",
      "48/48 [==============================] - 0s 5ms/step - loss: 0.3404 - accuracy: 0.8736 - val_loss: 0.3153 - val_accuracy: 0.8722\n",
      "Epoch 41/100\n",
      "48/48 [==============================] - 0s 5ms/step - loss: 0.3430 - accuracy: 0.8701 - val_loss: 0.3279 - val_accuracy: 0.8583\n",
      "Epoch 42/100\n",
      "48/48 [==============================] - 0s 5ms/step - loss: 0.3537 - accuracy: 0.8604 - val_loss: 0.3183 - val_accuracy: 0.8611\n",
      "Epoch 43/100\n",
      "48/48 [==============================] - 0s 4ms/step - loss: 0.3287 - accuracy: 0.8715 - val_loss: 0.3140 - val_accuracy: 0.8694\n",
      "Epoch 44/100\n",
      "48/48 [==============================] - 0s 4ms/step - loss: 0.3556 - accuracy: 0.8660 - val_loss: 0.3099 - val_accuracy: 0.8639\n",
      "Epoch 45/100\n",
      "48/48 [==============================] - 0s 4ms/step - loss: 0.3454 - accuracy: 0.8611 - val_loss: 0.3301 - val_accuracy: 0.8694\n",
      "Epoch 46/100\n",
      "48/48 [==============================] - 0s 4ms/step - loss: 0.3448 - accuracy: 0.8722 - val_loss: 0.3170 - val_accuracy: 0.8667\n",
      "Epoch 47/100\n",
      "48/48 [==============================] - 0s 4ms/step - loss: 0.3331 - accuracy: 0.8729 - val_loss: 0.3076 - val_accuracy: 0.8750\n",
      "Epoch 48/100\n",
      "48/48 [==============================] - 0s 4ms/step - loss: 0.3343 - accuracy: 0.8722 - val_loss: 0.3314 - val_accuracy: 0.8639\n",
      "Epoch 49/100\n",
      "48/48 [==============================] - 0s 4ms/step - loss: 0.3283 - accuracy: 0.8715 - val_loss: 0.3069 - val_accuracy: 0.8750\n",
      "Epoch 50/100\n",
      "48/48 [==============================] - 0s 4ms/step - loss: 0.3328 - accuracy: 0.8681 - val_loss: 0.3088 - val_accuracy: 0.8722\n",
      "Epoch 51/100\n",
      "48/48 [==============================] - 0s 4ms/step - loss: 0.3343 - accuracy: 0.8632 - val_loss: 0.3020 - val_accuracy: 0.8750\n",
      "Epoch 52/100\n",
      "48/48 [==============================] - 0s 4ms/step - loss: 0.3279 - accuracy: 0.8653 - val_loss: 0.3098 - val_accuracy: 0.8667\n",
      "Epoch 53/100\n",
      "48/48 [==============================] - 0s 4ms/step - loss: 0.3281 - accuracy: 0.8757 - val_loss: 0.3053 - val_accuracy: 0.8750\n",
      "Epoch 54/100\n",
      "48/48 [==============================] - 0s 4ms/step - loss: 0.3268 - accuracy: 0.8736 - val_loss: 0.3028 - val_accuracy: 0.8806\n",
      "Epoch 55/100\n",
      "48/48 [==============================] - 0s 4ms/step - loss: 0.3245 - accuracy: 0.8639 - val_loss: 0.2962 - val_accuracy: 0.8778\n",
      "Epoch 56/100\n",
      "48/48 [==============================] - 0s 5ms/step - loss: 0.3440 - accuracy: 0.8646 - val_loss: 0.3127 - val_accuracy: 0.8861\n",
      "Epoch 57/100\n",
      "48/48 [==============================] - 0s 5ms/step - loss: 0.3312 - accuracy: 0.8660 - val_loss: 0.3146 - val_accuracy: 0.8750\n",
      "Epoch 58/100\n",
      "48/48 [==============================] - 0s 4ms/step - loss: 0.3289 - accuracy: 0.8646 - val_loss: 0.3518 - val_accuracy: 0.8556\n"
     ]
    },
    {
     "name": "stdout",
     "output_type": "stream",
     "text": [
      "Epoch 59/100\n",
      "48/48 [==============================] - 0s 5ms/step - loss: 0.3120 - accuracy: 0.8750 - val_loss: 0.3034 - val_accuracy: 0.8694\n",
      "Epoch 60/100\n",
      "48/48 [==============================] - 0s 4ms/step - loss: 0.3218 - accuracy: 0.8694 - val_loss: 0.3069 - val_accuracy: 0.8778\n",
      "Epoch 61/100\n",
      "48/48 [==============================] - 0s 4ms/step - loss: 0.3308 - accuracy: 0.8715 - val_loss: 0.2950 - val_accuracy: 0.8806\n",
      "Epoch 62/100\n",
      "48/48 [==============================] - 0s 4ms/step - loss: 0.3217 - accuracy: 0.8826 - val_loss: 0.3441 - val_accuracy: 0.8611\n",
      "Epoch 63/100\n",
      "48/48 [==============================] - 0s 4ms/step - loss: 0.3188 - accuracy: 0.8694 - val_loss: 0.2978 - val_accuracy: 0.8722\n",
      "Epoch 64/100\n",
      "48/48 [==============================] - 0s 4ms/step - loss: 0.3236 - accuracy: 0.8722 - val_loss: 0.3052 - val_accuracy: 0.8861\n",
      "Epoch 65/100\n",
      "48/48 [==============================] - 0s 4ms/step - loss: 0.3205 - accuracy: 0.8604 - val_loss: 0.2996 - val_accuracy: 0.8889\n",
      "Epoch 66/100\n",
      "48/48 [==============================] - 0s 4ms/step - loss: 0.3343 - accuracy: 0.8556 - val_loss: 0.3029 - val_accuracy: 0.8861\n",
      "Epoch 67/100\n",
      "48/48 [==============================] - 0s 4ms/step - loss: 0.3082 - accuracy: 0.8736 - val_loss: 0.3052 - val_accuracy: 0.8972\n",
      "Epoch 68/100\n",
      "48/48 [==============================] - 0s 4ms/step - loss: 0.3261 - accuracy: 0.8694 - val_loss: 0.3073 - val_accuracy: 0.8972\n",
      "Epoch 69/100\n",
      "48/48 [==============================] - 0s 4ms/step - loss: 0.3147 - accuracy: 0.8813 - val_loss: 0.2945 - val_accuracy: 0.9056\n",
      "Epoch 70/100\n",
      "48/48 [==============================] - 0s 4ms/step - loss: 0.3144 - accuracy: 0.8764 - val_loss: 0.3072 - val_accuracy: 0.8833\n",
      "Epoch 71/100\n",
      "48/48 [==============================] - 0s 4ms/step - loss: 0.3162 - accuracy: 0.8681 - val_loss: 0.2966 - val_accuracy: 0.9028\n",
      "Epoch 72/100\n",
      "48/48 [==============================] - 0s 4ms/step - loss: 0.3110 - accuracy: 0.8806 - val_loss: 0.3128 - val_accuracy: 0.8917\n",
      "Epoch 73/100\n",
      "48/48 [==============================] - 0s 4ms/step - loss: 0.3171 - accuracy: 0.8757 - val_loss: 0.3171 - val_accuracy: 0.8889\n",
      "Epoch 74/100\n",
      "48/48 [==============================] - 0s 4ms/step - loss: 0.3302 - accuracy: 0.8722 - val_loss: 0.3012 - val_accuracy: 0.8722\n",
      "Epoch 75/100\n",
      "48/48 [==============================] - 0s 4ms/step - loss: 0.3063 - accuracy: 0.8861 - val_loss: 0.2953 - val_accuracy: 0.8944\n",
      "Epoch 76/100\n",
      "48/48 [==============================] - 0s 4ms/step - loss: 0.3173 - accuracy: 0.8757 - val_loss: 0.3113 - val_accuracy: 0.8778\n",
      "Epoch 77/100\n",
      "48/48 [==============================] - 0s 4ms/step - loss: 0.3064 - accuracy: 0.8750 - val_loss: 0.2889 - val_accuracy: 0.8889\n",
      "Epoch 78/100\n",
      "48/48 [==============================] - 0s 4ms/step - loss: 0.3121 - accuracy: 0.8764 - val_loss: 0.3490 - val_accuracy: 0.8722\n",
      "Epoch 79/100\n",
      "48/48 [==============================] - 0s 4ms/step - loss: 0.3133 - accuracy: 0.8736 - val_loss: 0.3059 - val_accuracy: 0.8833\n",
      "Epoch 80/100\n",
      "48/48 [==============================] - 0s 4ms/step - loss: 0.3057 - accuracy: 0.8715 - val_loss: 0.2839 - val_accuracy: 0.9000\n",
      "Epoch 81/100\n",
      "48/48 [==============================] - 0s 4ms/step - loss: 0.2954 - accuracy: 0.8833 - val_loss: 0.2942 - val_accuracy: 0.9000\n",
      "Epoch 82/100\n",
      "48/48 [==============================] - 0s 4ms/step - loss: 0.3015 - accuracy: 0.8799 - val_loss: 0.2975 - val_accuracy: 0.8861\n",
      "Epoch 83/100\n",
      "48/48 [==============================] - 0s 4ms/step - loss: 0.3062 - accuracy: 0.8778 - val_loss: 0.3095 - val_accuracy: 0.8944\n",
      "Epoch 84/100\n",
      "48/48 [==============================] - 0s 4ms/step - loss: 0.2951 - accuracy: 0.8806 - val_loss: 0.2987 - val_accuracy: 0.8944\n",
      "Epoch 85/100\n",
      "48/48 [==============================] - 0s 4ms/step - loss: 0.2979 - accuracy: 0.8799 - val_loss: 0.3170 - val_accuracy: 0.8889\n",
      "Epoch 86/100\n",
      "48/48 [==============================] - 0s 4ms/step - loss: 0.3008 - accuracy: 0.8813 - val_loss: 0.2994 - val_accuracy: 0.8889\n",
      "Epoch 87/100\n",
      "48/48 [==============================] - 0s 4ms/step - loss: 0.3220 - accuracy: 0.8660 - val_loss: 0.3032 - val_accuracy: 0.8917\n",
      "Epoch 88/100\n",
      "48/48 [==============================] - 0s 4ms/step - loss: 0.3075 - accuracy: 0.8868 - val_loss: 0.3098 - val_accuracy: 0.8778\n",
      "Epoch 89/100\n",
      "48/48 [==============================] - 0s 4ms/step - loss: 0.3080 - accuracy: 0.8792 - val_loss: 0.3016 - val_accuracy: 0.8917\n",
      "Epoch 90/100\n",
      "48/48 [==============================] - 0s 4ms/step - loss: 0.3132 - accuracy: 0.8736 - val_loss: 0.3092 - val_accuracy: 0.8889\n",
      "Epoch 91/100\n",
      "48/48 [==============================] - 0s 4ms/step - loss: 0.2967 - accuracy: 0.8861 - val_loss: 0.3079 - val_accuracy: 0.9000\n",
      "Epoch 92/100\n",
      "48/48 [==============================] - 0s 5ms/step - loss: 0.2985 - accuracy: 0.8819 - val_loss: 0.3106 - val_accuracy: 0.8917\n",
      "Epoch 93/100\n",
      "48/48 [==============================] - 0s 4ms/step - loss: 0.2964 - accuracy: 0.8833 - val_loss: 0.3038 - val_accuracy: 0.9000\n",
      "Epoch 94/100\n",
      "48/48 [==============================] - 0s 4ms/step - loss: 0.3037 - accuracy: 0.8826 - val_loss: 0.2887 - val_accuracy: 0.8972\n",
      "Epoch 95/100\n",
      "48/48 [==============================] - 0s 4ms/step - loss: 0.2984 - accuracy: 0.8806 - val_loss: 0.2924 - val_accuracy: 0.8972\n",
      "Epoch 96/100\n",
      "48/48 [==============================] - 0s 4ms/step - loss: 0.3000 - accuracy: 0.8847 - val_loss: 0.2911 - val_accuracy: 0.8972\n",
      "Epoch 97/100\n",
      "48/48 [==============================] - 0s 4ms/step - loss: 0.2987 - accuracy: 0.8854 - val_loss: 0.2975 - val_accuracy: 0.8972\n",
      "Epoch 98/100\n",
      "48/48 [==============================] - 0s 4ms/step - loss: 0.2929 - accuracy: 0.8847 - val_loss: 0.3043 - val_accuracy: 0.8917\n",
      "Epoch 99/100\n",
      "48/48 [==============================] - 0s 4ms/step - loss: 0.2957 - accuracy: 0.8889 - val_loss: 0.3018 - val_accuracy: 0.8972\n",
      "Epoch 100/100\n",
      "48/48 [==============================] - 0s 4ms/step - loss: 0.2928 - accuracy: 0.8799 - val_loss: 0.2929 - val_accuracy: 0.9028\n"
     ]
    }
   ],
   "source": [
    "learning_rate = 0.001\n",
    "\n",
    "#Compilation of the model\n",
    "model.compile(loss='categorical_crossentropy', optimizer=Adam(learning_rate), metrics=['accuracy'])\n",
    "epochs = 100\n",
    "history = model.fit(x_train, y_train, batch_size=30, epochs=epochs,validation_data=(x_test, y_test))"
   ]
  },
  {
   "cell_type": "markdown",
   "metadata": {},
   "source": [
    "# Plotting graphs for accuracy "
   ]
  },
  {
   "cell_type": "code",
   "execution_count": 17,
   "metadata": {
    "scrolled": true
   },
   "outputs": [
    {
     "data": {
      "image/png": "[encoded data removed]",
      "text/plain": [
       "<Figure size 432x288 with 1 Axes>"
      ]
     },
     "metadata": {
      "needs_background": "light"
     },
     "output_type": "display_data"
    },
    {
     "data": {
      "image/png": "[encoded data removed]",
      "text/plain": [
       "<Figure size 432x288 with 1 Axes>"
      ]
     },
     "metadata": {
      "needs_background": "light"
     },
     "output_type": "display_data"
    }
   ],
   "source": [
    "plt.figure(0)\n",
    "plt.plot(history.history['accuracy'],label='training accuracy')\n",
    "plt.plot(history.history['val_accuracy'],label='val_accuracy')\n",
    "plt.title('Accuracy')\n",
    "plt.xlabel('epochs')\n",
    "plt.ylabel('accuracy')\n",
    "plt.legend()\n",
    "plt.show()\n",
    "\n",
    "plt.figure(1)\n",
    "plt.plot(history.history['loss'], label='training loss')\n",
    "plt.plot(history.history['val_loss'], label='val loss')\n",
    "plt.title('Loss')\n",
    "plt.xlabel('epochs')\n",
    "plt.ylabel('loss')\n",
    "plt.legend()\n",
    "plt.show()"
   ]
  },
  {
   "cell_type": "code",
   "execution_count": 18,
   "metadata": {},
   "outputs": [
    {
     "name": "stdout",
     "output_type": "stream",
     "text": [
      "WARNING:tensorflow:From <ipython-input-18-33d605837c28>:1: Sequential.predict_classes (from tensorflow.python.keras.engine.sequential) is deprecated and will be removed after 2021-01-01.\n",
      "Instructions for updating:\n",
      "Please use instead:* `np.argmax(model.predict(x), axis=-1)`,   if your model does multi-class classification   (e.g. if it uses a `softmax` last-layer activation).* `(model.predict(x) > 0.5).astype(\"int32\")`,   if your model does binary classification   (e.g. if it uses a `sigmoid` last-layer activation).\n",
      "class 0 : 498\n",
      "class 1 : 483\n",
      "class 2 : 459\n"
     ]
    }
   ],
   "source": [
    "pred_train = model.predict_classes(x_train)\n",
    "count0=0\n",
    "count1=0\n",
    "count2=0\n",
    "for i in pred_train:\n",
    "    if(i==0):\n",
    "        count0=count0+1\n",
    "    if(i==1):\n",
    "        count1=count1+1\n",
    "    if(i==2):\n",
    "        count2=count2+1\n",
    "\n",
    "print(\"class 0 :\",count0)        \n",
    "print(\"class 1 :\",count1)    \n",
    "print(\"class 2 :\",count2) "
   ]
  },
  {
   "cell_type": "code",
   "execution_count": 19,
   "metadata": {
    "scrolled": true
   },
   "outputs": [
    {
     "data": {
      "text/plain": [
       "360"
      ]
     },
     "execution_count": 19,
     "metadata": {},
     "output_type": "execute_result"
    }
   ],
   "source": [
    "x_test.shape[0]"
   ]
  },
  {
   "cell_type": "code",
   "execution_count": 20,
   "metadata": {},
   "outputs": [
    {
     "name": "stdout",
     "output_type": "stream",
     "text": [
      "*************************************\n",
      "Analysis on training data for good road\n",
      "\n",
      "true detection for  : 96.65970772442589 %\n",
      "false detection for : 3.3402922755741122 %\n",
      "*************************************\n",
      "Analysis on training data for medium road\n",
      "\n",
      "true detection for  : 84.77366255144034 %\n",
      "false detection for : 15.22633744855967 %\n",
      "*************************************\n",
      "Analysis on training data for bad road\n",
      "\n",
      "true detection for  : 88.42105263157895 %\n",
      "false detection for : 11.578947368421053 %\n"
     ]
    }
   ],
   "source": [
    "# analysis on training data\n",
    "pred_train = model.predict_classes(x_train)\n",
    "\n",
    "# good road\n",
    "count1=0\n",
    "count2=0\n",
    "count3=0\n",
    "\n",
    "for i in range(0,x_train.shape[0]):\n",
    "    if(pred_train[i]==0 and int(y_train1[i])==0):\n",
    "        count1 = count1+1\n",
    "    elif(int(y_train1[i])==0): \n",
    "        count2 = count2+1\n",
    "total = count1+count2\n",
    "print(\"*************************************\")\n",
    "print(\"Analysis on training data for good road\")\n",
    "print()\n",
    "print(\"true detection for  :\",(count1/total)*100,\"%\")\n",
    "print(\"false detection for :\",(count2/total)*100,\"%\")\n",
    "\n",
    "# medium road\n",
    "count1=0\n",
    "count2=0\n",
    "count3=0\n",
    "\n",
    "for i in range(0,x_train.shape[0]):\n",
    "    if(pred_train[i]==1 and int(y_train1[i])==1):\n",
    "        count1 = count1+1\n",
    "    elif(int(y_train1[i])==1): \n",
    "        count2 = count2+1\n",
    "total = count1+count2\n",
    "print(\"*************************************\")\n",
    "print(\"Analysis on training data for medium road\")\n",
    "print()\n",
    "print(\"true detection for  :\",(count1/total)*100,\"%\")\n",
    "print(\"false detection for :\",(count2/total)*100,\"%\")\n",
    "\n",
    "# bad road \n",
    "count1=0\n",
    "count2=0\n",
    "count3=0\n",
    "\n",
    "for i in range(0,x_train.shape[0]):\n",
    "    if(pred_train[i]==2 and int(y_train1[i])==2):\n",
    "        count1 = count1+1\n",
    "    elif(int(y_train1[i])==2): \n",
    "        count2 = count2+1\n",
    "total = count1+count2\n",
    "print(\"*************************************\")\n",
    "print(\"Analysis on training data for bad road\")\n",
    "print()\n",
    "print(\"true detection for  :\",(count1/total)*100,\"%\")\n",
    "print(\"false detection for :\",(count2/total)*100,\"%\")"
   ]
  },
  {
   "cell_type": "code",
   "execution_count": 57,
   "metadata": {},
   "outputs": [
    {
     "name": "stdout",
     "output_type": "stream",
     "text": [
      "***************************************************************\n",
      "Analysis on test data for good road\n",
      "\n",
      "true detection                        : 95.0413223140496 %\n",
      "false detection - medium is predicted : 4.132231404958678 %\n",
      "false detection - bad is predicted    : 0.8264462809917356 %\n",
      "***************************************************************\n",
      "Analysis on test data for medium road\n",
      "\n",
      "true detection for                    : 92.85714285714286 %\n",
      "false detection - good is predicted   : 0.8928571428571428 %\n",
      "false detection - bad is predicted    : 6.25 %\n",
      "***************************************************************\n",
      "Analysis on test data for bad road\n",
      "\n",
      "true detection for                       : 83.46456692913385 %\n",
      "false detection - good is predicted      : 0.0 %\n",
      "false detection - medium is predicted    : 16.535433070866144 %\n"
     ]
    }
   ],
   "source": [
    "# analysis on test data\n",
    "pred_test = model.predict_classes(x_test)\n",
    "\n",
    "# good road\n",
    "count1=0\n",
    "count2=0\n",
    "count3=0\n",
    "\n",
    "for i in range(0,x_test.shape[0]):\n",
    "    \n",
    "    if (int(y_test1[i])==0 and pred_test[i]==0):\n",
    "        count1 = count1+1\n",
    "    elif(int(y_test1[i])==0 and pred_test[i]==1): \n",
    "        count2 = count2+1\n",
    "    elif(int(y_test1[i])==0 and pred_test[i]==2): \n",
    "        count3 = count3+1\n",
    "total = count1+count2+count3\n",
    "print(\"***************************************************************\")\n",
    "print(\"Analysis on test data for good road\")\n",
    "print()\n",
    "print(\"true detection                        :\",(count1/total)*100,\"%\")\n",
    "print(\"false detection - medium is predicted :\",(count2/total)*100,\"%\")\n",
    "print(\"false detection - bad is predicted    :\",(count3/total)*100,\"%\")\n",
    "\n",
    "# medium road\n",
    "count1=0\n",
    "count2=0\n",
    "count3=0\n",
    "\n",
    "for i in range(0,x_test.shape[0]):\n",
    "    \n",
    "    if (int(y_test1[i])==1 and pred_test[i]==0):\n",
    "        count1 = count1+1\n",
    "    elif(int(y_test1[i])==1 and pred_test[i]==1): \n",
    "        count2 = count2+1\n",
    "    elif(int(y_test1[i])==1 and pred_test[i]==2): \n",
    "        count3 = count3+1\n",
    "total = count1+count2+count3\n",
    "print(\"***************************************************************\")\n",
    "print(\"Analysis on test data for medium road\")\n",
    "print()\n",
    "print(\"true detection for                    :\",(count2/total)*100,\"%\")\n",
    "print(\"false detection - good is predicted   :\",(count1/total)*100,\"%\")\n",
    "print(\"false detection - bad is predicted    :\",(count3/total)*100,\"%\")\n",
    "\n",
    "\n",
    "# bad road \n",
    "count1=0\n",
    "count2=0\n",
    "count3=0\n",
    "\n",
    "for i in range(0,x_test.shape[0]):\n",
    "    \n",
    "    if (int(y_test1[i])==2 and pred_test[i]==0):\n",
    "        count1 = count1+1\n",
    "    elif(int(y_test1[i])==2 and pred_test[i]==1): \n",
    "        count2 = count2+1\n",
    "    elif(int(y_test1[i])==2 and pred_test[i]==2): \n",
    "        count3 = count3+1\n",
    "total = count1+count2+count3\n",
    "print(\"***************************************************************\")\n",
    "print(\"Analysis on test data for bad road\")\n",
    "print()\n",
    "print(\"true detection for                       :\",(count3/total)*100,\"%\")\n",
    "print(\"false detection - good is predicted      :\",(count1/total)*100,\"%\")\n",
    "print(\"false detection - medium is predicted    :\",(count2/total)*100,\"%\")"
   ]
  },
  {
   "cell_type": "code",
   "execution_count": 22,
   "metadata": {},
   "outputs": [
    {
     "name": "stdout",
     "output_type": "stream",
     "text": [
      "Accuracy on training data =  89.93055555555556 %\n",
      "Accuracy on test data =  90.27777777777779 %\n"
     ]
    }
   ],
   "source": [
    "from sklearn.metrics import accuracy_score\n",
    "\n",
    "# prediction on training data\n",
    "label = np.array(y_train1)\n",
    "pred_train = model.predict_classes(x_train)\n",
    "print(\"Accuracy on training data = \",accuracy_score(label,pred_train)*100,\"%\")\n",
    "\n",
    "# prediction on test data\n",
    "label = np.array(y_test1)\n",
    "pred_test = model.predict_classes(x_test)\n",
    "print(\"Accuracy on test data = \",accuracy_score(label,pred_test)*100,\"%\")"
   ]
  },
  {
   "cell_type": "markdown",
   "metadata": {},
   "source": [
    "# Loading Model"
   ]
  },
  {
   "cell_type": "code",
   "execution_count": 46,
   "metadata": {},
   "outputs": [],
   "source": [
    "# model.save('road_analytics_model_prefiltered.h5')"
   ]
  },
  {
   "cell_type": "code",
   "execution_count": 47,
   "metadata": {},
   "outputs": [],
   "source": [
    "# from keras.models import load_model\n",
    "# model = load_model('road_analytics_model_prefiltered.h5')"
   ]
  },
  {
   "cell_type": "code",
   "execution_count": 48,
   "metadata": {
    "scrolled": true
   },
   "outputs": [
    {
     "name": "stdout",
     "output_type": "stream",
     "text": [
      "Model: \"sequential\"\n",
      "_________________________________________________________________\n",
      "Layer (type)                 Output Shape              Param #   \n",
      "=================================================================\n",
      "dense (Dense)                (None, 16)                80        \n",
      "_________________________________________________________________\n",
      "dropout (Dropout)            (None, 16)                0         \n",
      "_________________________________________________________________\n",
      "dense_1 (Dense)              (None, 32)                544       \n",
      "_________________________________________________________________\n",
      "dropout_1 (Dropout)          (None, 32)                0         \n",
      "_________________________________________________________________\n",
      "dense_2 (Dense)              (None, 64)                2112      \n",
      "_________________________________________________________________\n",
      "dropout_2 (Dropout)          (None, 64)                0         \n",
      "_________________________________________________________________\n",
      "dense_3 (Dense)              (None, 32)                2080      \n",
      "_________________________________________________________________\n",
      "dropout_3 (Dropout)          (None, 32)                0         \n",
      "_________________________________________________________________\n",
      "dense_4 (Dense)              (None, 3)                 99        \n",
      "=================================================================\n",
      "Total params: 4,915\n",
      "Trainable params: 4,915\n",
      "Non-trainable params: 0\n",
      "_________________________________________________________________\n"
     ]
    }
   ],
   "source": [
    "model.summary()"
   ]
  },
  {
   "cell_type": "code",
   "execution_count": 49,
   "metadata": {
    "scrolled": true
   },
   "outputs": [
    {
     "name": "stdout",
     "output_type": "stream",
     "text": [
      "(1440, 3)\n"
     ]
    }
   ],
   "source": [
    "label=np.array(y_train)\n",
    "print(label.shape)"
   ]
  },
  {
   "cell_type": "code",
   "execution_count": 50,
   "metadata": {},
   "outputs": [
    {
     "name": "stdout",
     "output_type": "stream",
     "text": [
      "[[2.4639570e-14 2.2667082e-02 9.7733295e-01]]\n",
      "[2]\n"
     ]
    }
   ],
   "source": [
    "samples = np.array([data[1585][0:-1]])    \n",
    "print(model.predict(samples))\n",
    "prediction = model.predict_classes(samples)\n",
    "print(prediction)"
   ]
  },
  {
   "cell_type": "code",
   "execution_count": 52,
   "metadata": {},
   "outputs": [
    {
     "name": "stdout",
     "output_type": "stream",
     "text": [
      "[[2.8632e-02 3.2500e-05 1.3093e-03 6.6799e-04]]\n",
      "[0]\n"
     ]
    }
   ],
   "source": [
    "samples = np.array([[0.028632,3.25E-05,0.0013093,0.00066799]])      \n",
    "print(samples)\n",
    "prediction = model.predict_classes(samples)\n",
    "print(prediction)"
   ]
  },
  {
   "cell_type": "code",
   "execution_count": 53,
   "metadata": {},
   "outputs": [
    {
     "name": "stdout",
     "output_type": "stream",
     "text": [
      "[[0.02464   0.018678  0.0095863 0.0089315]]\n",
      "[0]\n"
     ]
    }
   ],
   "source": [
    "samples = np.array([[0.02464,0.018678,0.0095863,0.0089315]])      \n",
    "print(samples)\n",
    "prediction = model.predict_classes(samples)\n",
    "print(prediction)"
   ]
  },
  {
   "cell_type": "code",
   "execution_count": null,
   "metadata": {},
   "outputs": [],
   "source": []
  },
  {
   "cell_type": "code",
   "execution_count": null,
   "metadata": {},
   "outputs": [],
   "source": []
  }
 ],
 "metadata": {
  "kernelspec": {
   "display_name": "Python 3",
   "language": "python",
   "name": "python3"
  },
  "language_info": {
   "codemirror_mode": {
    "name": "ipython",
    "version": 3
   },
   "file_extension": ".py",
   "mimetype": "text/x-python",
   "name": "python",
   "nbconvert_exporter": "python",
   "pygments_lexer": "ipython3",
   "version": "3.7.6"
  }
 },
 "nbformat": 4,
 "nbformat_minor": 4
}
